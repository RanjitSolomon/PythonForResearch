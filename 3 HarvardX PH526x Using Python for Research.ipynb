{
 "cells": [
  {
   "cell_type": "markdown",
   "metadata": {},
   "source": [
    "# Week 3\n",
    "## Case Study 1 : DNA Translation\n",
    "### Introduction to DNA Translation\n",
    "\n",
    "DNA information is carried by the dioxyribonucleic acid  \n",
    "DNA is a discrete code physically present in almost every cell of an organism.  \n",
    "We can think of DNA as a one dimensional string of characters with four characters to choose from.\n",
    "These characters are A, C, G, and T   \n",
    "Adenine, Cytosine, Guanine, and Thymine. \n",
    "  \n",
    "Each unique three character sequence of nucleotides, sometimes called a nucleotide triplet, corresponds to one amino acid.  \n",
    "The sequence of amino acids is unique for each type of protein and all proteins are built from the same set of just 20 amino acids    \n",
    "  \n",
    "Protein molecules dominate the behavior of the cell serving as structural supports, chemical catalysts, molecular motors, and so on.  \n",
    "  \n",
    "The so called central dogma of molecular biology  describes the flow of genetic information in a biological system.  \n",
    "  \n",
    "Instructions in the DNA are first transcribed into RNA and the RNA is then translated into proteins.  \n",
    "  \n"
   ]
  },
  {
   "cell_type": "markdown",
   "metadata": {},
   "source": [
    "The input to our program is going to be a DNA sequence that consists of a four letter alphabet.  \n",
    "We then read this sequence three letters at a time, translate each triplet to a single letter that stands for a specific amino acid, and proceed to the next set of three letters.  \n",
    "  \n",
    "ATA -> I  \n",
    "ATG -> M  \n",
    "CAA -> Q  \n",
    "TCT -> S  \n",
    "TGG -> W  \n",
    "  \n",
    "Task 1 : manually download DNA and protein sequence data  \n",
    "Task 2 : Import the DNA data into Python  \n",
    "Task 3 : Create an algorithm to translate the DNA  \n",
    "Task 4 : Check if translation matches your download    \n",
    "    \n",
    "https://www.ncbi.nlm.nih.gov/  \n",
    "  \n",
    "Select the Category 'Nucleotide' and search for NM_207618.2  and click on 'FASTA' at the top  \n",
    "copy the DNA (Ensure First letter 'G' and Last letter 'T' are selectecd) and save it as DNA.txt\n",
    "  \n",
    "Go back to the download page and click on 'CDS' and you should see a pop at the bottom   \n",
    "SELECT translate and copy  and paste it to a text file protein.txt in the same folder  \n",
    "  \n"
   ]
  },
  {
   "cell_type": "code",
   "execution_count": 2,
   "metadata": {},
   "outputs": [
    {
     "data": {
      "text/plain": [
       "'D:\\\\Dev\\\\Python\\\\anaconda_pyscripts'"
      ]
     },
     "execution_count": 2,
     "metadata": {},
     "output_type": "execute_result"
    }
   ],
   "source": [
    "pwd"
   ]
  },
  {
   "cell_type": "code",
   "execution_count": 3,
   "metadata": {},
   "outputs": [
    {
     "data": {
      "text/plain": [
       "'GGTCAGAAAAAGCCCTCTCCATGTCTACTCACGATACATCCCTGAAAACCACTGAGGAAGTGGCTTTTCA\\nGATCATCTTGCTTTGCCAGTTTGGGGTTGGGACTTTTGCCAATGTATTTCTCTTTGTCTATAATTTCTCT\\nCCAATCTCGACTGGTTCTAAACAGAGGCCCAGACAAGTGATTTTAAGACACATGGCTGTGGCCAATGCCT\\nTAACTCTCTTCCTCACTATATTTCCAAACAACATGATGACTTTTGCTCCAATTATTCCTCAAACTGACCT\\nCAAATGTAAATTAGAATTCTTCACTCGCCTCGTGGCAAGAAGCACAAACTTGTGTTCAACTTGTGTTCTG\\nAGTATCCATCAGTTTGTCACACTTGTTCCTGTTAATTCAGGTAAAGGAATACTCAGAGCAAGTGTCACAA\\nACATGGCAAGTTATTCTTGTTACAGTTGTTGGTTCTTCAGTGTCTTAAATAACATCTACATTCCAATTAA\\nGGTCACTGGTCCACAGTTAACAGACAATAACAATAACTCTAAAAGCAAGTTGTTCTGTTCCACTTCTGAT\\nTTCAGTGTAGGCATTGTCTTCTTGAGGTTTGCCCATGATGCCACATTCATGAGCATCATGGTCTGGACCA\\nGTGTCTCCATGGTACTTCTCCTCCATAGACATTGTCAGAGAATGCAGTACATATTCACTCTCAATCAGGA\\nCCCCAGGGGCCAAGCAGAGACCACAGCAACCCATACTATCCTGATGCTGGTAGTCACATTTGTTGGCTTT\\nTATCTTCTAAGTCTTATTTGTATCATCTTTTACACCTATTTTATATATTCTCATCATTCCCTGAGGCATT\\nGCAATGACATTTTGGTTTCGGGTTTCCCTACAATTTCTCCTTTACTGTTGACCTTCAGAGACCCTAAGGG\\nTCCTTGTTCTGTGTTCTTCAACTGTTGAAAGCCAGAGTCACTAAAAATGCCAAACACAGAAGACAGCTTT\\nGCTAATACCATTAAATACTTTATTCCATAAATATGTTTTTAAAAGCTTGTATGAACAAGGTATGGTGCTC\\nACTGCTATACTTATAAAAGAGTAAGGTTATAATCACTTGTTGATATGAAAAGATTTCTGGTTGGAATCTG\\nATTGAAACAGTGAGTTATTCACCACCCTCCATTCTCT'"
      ]
     },
     "execution_count": 3,
     "metadata": {},
     "output_type": "execute_result"
    }
   ],
   "source": [
    "import os\n",
    "os.chdir('D:/Dev/Python/PythonForResearch/python_case_studies/translate')\n",
    "\n",
    "inputfile = \"dna.txt\"\n",
    "f = open(inputfile, \"r\")\n",
    "seq = f.read()                     # read the entire file\n",
    "seq"
   ]
  },
  {
   "cell_type": "code",
   "execution_count": 4,
   "metadata": {},
   "outputs": [
    {
     "data": {
      "text/plain": [
       "'GGTCAGAAAAAGCCCTCTCCATGTCTACTCACGATACATCCCTGAAAACCACTGAGGAAGTGGCTTTTCAGATCATCTTGCTTTGCCAGTTTGGGGTTGGGACTTTTGCCAATGTATTTCTCTTTGTCTATAATTTCTCTCCAATCTCGACTGGTTCTAAACAGAGGCCCAGACAAGTGATTTTAAGACACATGGCTGTGGCCAATGCCTTAACTCTCTTCCTCACTATATTTCCAAACAACATGATGACTTTTGCTCCAATTATTCCTCAAACTGACCTCAAATGTAAATTAGAATTCTTCACTCGCCTCGTGGCAAGAAGCACAAACTTGTGTTCAACTTGTGTTCTGAGTATCCATCAGTTTGTCACACTTGTTCCTGTTAATTCAGGTAAAGGAATACTCAGAGCAAGTGTCACAAACATGGCAAGTTATTCTTGTTACAGTTGTTGGTTCTTCAGTGTCTTAAATAACATCTACATTCCAATTAAGGTCACTGGTCCACAGTTAACAGACAATAACAATAACTCTAAAAGCAAGTTGTTCTGTTCCACTTCTGATTTCAGTGTAGGCATTGTCTTCTTGAGGTTTGCCCATGATGCCACATTCATGAGCATCATGGTCTGGACCAGTGTCTCCATGGTACTTCTCCTCCATAGACATTGTCAGAGAATGCAGTACATATTCACTCTCAATCAGGACCCCAGGGGCCAAGCAGAGACCACAGCAACCCATACTATCCTGATGCTGGTAGTCACATTTGTTGGCTTTTATCTTCTAAGTCTTATTTGTATCATCTTTTACACCTATTTTATATATTCTCATCATTCCCTGAGGCATTGCAATGACATTTTGGTTTCGGGTTTCCCTACAATTTCTCCTTTACTGTTGACCTTCAGAGACCCTAAGGGTCCTTGTTCTGTGTTCTTCAACTGTTGAAAGCCAGAGTCACTAAAAATGCCAAACACAGAAGACAGCTTTGCTAATACCATTAAATACTTTATTCCATAAATATGTTTTTAAAAGCTTGTATGAACAAGGTATGGTGCTCACTGCTATACTTATAAAAGAGTAAGGTTATAATCACTTGTTGATATGAAAAGATTTCTGGTTGGAATCTGATTGAAACAGTGAGTTATTCACCACCCTCCATTCTCT'"
      ]
     },
     "execution_count": 4,
     "metadata": {},
     "output_type": "execute_result"
    }
   ],
   "source": [
    "seq = seq.replace(\"\\n\", \"\")   # replace line ending\n",
    "seq"
   ]
  },
  {
   "cell_type": "code",
   "execution_count": 5,
   "metadata": {
    "collapsed": true
   },
   "outputs": [],
   "source": [
    "seq = seq.replace(\"\\r\", \"\")  # replace \\r if it is there"
   ]
  },
  {
   "cell_type": "markdown",
   "metadata": {},
   "source": [
    "Download <a href=\"https://d37djvu3ytnwxt.cloudfront.net/assets/courseware/v1/3a8ec7081b9692ecf087871ad649abf3/asset-v1:HarvardX+PH526x+3T2016+type@asset+block/table.py\">table.py</a>\n",
    "  \n",
    "remove the indent  "
   ]
  },
  {
   "cell_type": "code",
   "execution_count": 6,
   "metadata": {
    "collapsed": true
   },
   "outputs": [],
   "source": [
    "table = {\n",
    "'ATA':'I', 'ATC':'I', 'ATT':'I', 'ATG':'M',\n",
    "'ACA':'T', 'ACC':'T', 'ACG':'T', 'ACT':'T',\n",
    "'AAC':'N', 'AAT':'N', 'AAA':'K', 'AAG':'K',\n",
    "'AGC':'S', 'AGT':'S', 'AGA':'R', 'AGG':'R',\n",
    "'CTA':'L', 'CTC':'L', 'CTG':'L', 'CTT':'L',\n",
    "'CCA':'P', 'CCC':'P', 'CCG':'P', 'CCT':'P',\n",
    "'CAC':'H', 'CAT':'H', 'CAA':'Q', 'CAG':'Q',\n",
    "'CGA':'R', 'CGC':'R', 'CGG':'R', 'CGT':'R',\n",
    "'GTA':'V', 'GTC':'V', 'GTG':'V', 'GTT':'V',\n",
    "'GCA':'A', 'GCC':'A', 'GCG':'A', 'GCT':'A',\n",
    "'GAC':'D', 'GAT':'D', 'GAA':'E', 'GAG':'E',\n",
    "'GGA':'G', 'GGC':'G', 'GGG':'G', 'GGT':'G',\n",
    "'TCA':'S', 'TCC':'S', 'TCG':'S', 'TCT':'S',\n",
    "'TTC':'F', 'TTT':'F', 'TTA':'L', 'TTG':'L',\n",
    "'TAC':'Y', 'TAT':'Y', 'TAA':'_', 'TAG':'_',\n",
    "'TGC':'C', 'TGT':'C', 'TGA':'_', 'TGG':'W',\n",
    "}"
   ]
  },
  {
   "cell_type": "code",
   "execution_count": 7,
   "metadata": {},
   "outputs": [
    {
     "data": {
      "text/plain": [
       "'Q'"
      ]
     },
     "execution_count": 7,
     "metadata": {},
     "output_type": "execute_result"
    }
   ],
   "source": [
    "table['CAA']"
   ]
  },
  {
   "cell_type": "code",
   "execution_count": 8,
   "metadata": {},
   "outputs": [
    {
     "data": {
      "text/plain": [
       "'P'"
      ]
     },
     "execution_count": 8,
     "metadata": {},
     "output_type": "execute_result"
    }
   ],
   "source": [
    "table['CCT']"
   ]
  },
  {
   "cell_type": "markdown",
   "metadata": {},
   "source": [
    "Step 1 : Check that length of sequence is divisible by 3  \n",
    "Step 2 : Look up each 3-letter string in table and store result  \n",
    "Step 3 : Continue lookups until reaching end of sequence  "
   ]
  },
  {
   "cell_type": "code",
   "execution_count": 9,
   "metadata": {
    "collapsed": true
   },
   "outputs": [],
   "source": [
    "# chck that the sequence length is divisible by 3\n",
    "    # loop over the sequence\n",
    "        # extract a single codon\n",
    "        # look up the codon and store the result"
   ]
  },
  {
   "cell_type": "code",
   "execution_count": 10,
   "metadata": {},
   "outputs": [
    {
     "data": {
      "text/plain": [
       "1157"
      ]
     },
     "execution_count": 10,
     "metadata": {},
     "output_type": "execute_result"
    }
   ],
   "source": [
    "len(seq)"
   ]
  },
  {
   "cell_type": "code",
   "execution_count": 11,
   "metadata": {},
   "outputs": [
    {
     "data": {
      "text/plain": [
       "2"
      ]
     },
     "execution_count": 11,
     "metadata": {},
     "output_type": "execute_result"
    }
   ],
   "source": [
    "len(seq) % 3"
   ]
  },
  {
   "cell_type": "code",
   "execution_count": 12,
   "metadata": {
    "collapsed": true
   },
   "outputs": [],
   "source": [
    "def translate(seq):\n",
    "    \"\"\"Translate a string containing a nucleotide sequence into a string\n",
    "    containing the corresponding sequence of amino acids. Nucleotides are \n",
    "    translated in triplets using the table dictionary; each amino acid\n",
    "    is encoded with a string of length 1. \"\"\"\n",
    "    table = {\n",
    "    'ATA':'I', 'ATC':'I', 'ATT':'I', 'ATG':'M',\n",
    "    'ACA':'T', 'ACC':'T', 'ACG':'T', 'ACT':'T',\n",
    "    'AAC':'N', 'AAT':'N', 'AAA':'K', 'AAG':'K',\n",
    "    'AGC':'S', 'AGT':'S', 'AGA':'R', 'AGG':'R',\n",
    "    'CTA':'L', 'CTC':'L', 'CTG':'L', 'CTT':'L',\n",
    "    'CCA':'P', 'CCC':'P', 'CCG':'P', 'CCT':'P',\n",
    "    'CAC':'H', 'CAT':'H', 'CAA':'Q', 'CAG':'Q',\n",
    "    'CGA':'R', 'CGC':'R', 'CGG':'R', 'CGT':'R',\n",
    "    'GTA':'V', 'GTC':'V', 'GTG':'V', 'GTT':'V',\n",
    "    'GCA':'A', 'GCC':'A', 'GCG':'A', 'GCT':'A',\n",
    "    'GAC':'D', 'GAT':'D', 'GAA':'E', 'GAG':'E',\n",
    "    'GGA':'G', 'GGC':'G', 'GGG':'G', 'GGT':'G',\n",
    "    'TCA':'S', 'TCC':'S', 'TCG':'S', 'TCT':'S',\n",
    "    'TTC':'F', 'TTT':'F', 'TTA':'L', 'TTG':'L',\n",
    "    'TAC':'Y', 'TAT':'Y', 'TAA':'_', 'TAG':'_',\n",
    "    'TGC':'C', 'TGT':'C', 'TGA':'_', 'TGG':'W',\n",
    "    }\n",
    "    protein = \"\"\n",
    "    if len(seq) % 3 == 0:\n",
    "        # pass\n",
    "        for i in range(0, len(seq), 3):\n",
    "            codon = seq[i : i+3]\n",
    "            protein += table[codon]\n",
    "    return protein"
   ]
  },
  {
   "cell_type": "code",
   "execution_count": 13,
   "metadata": {},
   "outputs": [
    {
     "data": {
      "text/plain": [
       "'I'"
      ]
     },
     "execution_count": 13,
     "metadata": {},
     "output_type": "execute_result"
    }
   ],
   "source": [
    "translate(\"ATA\")"
   ]
  },
  {
   "cell_type": "code",
   "execution_count": 14,
   "metadata": {},
   "outputs": [
    {
     "data": {
      "text/plain": [
       "'K'"
      ]
     },
     "execution_count": 14,
     "metadata": {},
     "output_type": "execute_result"
    }
   ],
   "source": [
    "translate(\"AAA\")"
   ]
  },
  {
   "cell_type": "code",
   "execution_count": 15,
   "metadata": {},
   "outputs": [
    {
     "name": "stdout",
     "output_type": "stream",
     "text": [
      "Help on function translate in module __main__:\n",
      "\n",
      "translate(seq)\n",
      "    Translate a string containing a nucleotide sequence into a string\n",
      "    containing the corresponding sequence of amino acids. Nucleotides are \n",
      "    translated in triplets using the table dictionary; each amino acid\n",
      "    is encoded with a string of length 1.\n",
      "\n"
     ]
    }
   ],
   "source": [
    "help(translate)"
   ]
  },
  {
   "cell_type": "code",
   "execution_count": 16,
   "metadata": {},
   "outputs": [
    {
     "data": {
      "text/plain": [
       "'A'"
      ]
     },
     "execution_count": 16,
     "metadata": {},
     "output_type": "execute_result"
    }
   ],
   "source": [
    "table[\"GCC\"]"
   ]
  },
  {
   "cell_type": "code",
   "execution_count": 17,
   "metadata": {},
   "outputs": [
    {
     "data": {
      "text/plain": [
       "8"
      ]
     },
     "execution_count": 17,
     "metadata": {},
     "output_type": "execute_result"
    }
   ],
   "source": [
    "138 % 13"
   ]
  },
  {
   "cell_type": "code",
   "execution_count": 18,
   "metadata": {},
   "outputs": [
    {
     "data": {
      "text/plain": [
       "'GGTCAGAAAAAGCCCTCTCCATGTCTACTCACGATACATCCCTGAAAACCACTGAGGAAGTGGCTTTTCA\\nGATCATCTTGCTTTGCCAGTTTGGGGTTGGGACTTTTGCCAATGTATTTCTCTTTGTCTATAATTTCTCT\\nCCAATCTCGACTGGTTCTAAACAGAGGCCCAGACAAGTGATTTTAAGACACATGGCTGTGGCCAATGCCT\\nTAACTCTCTTCCTCACTATATTTCCAAACAACATGATGACTTTTGCTCCAATTATTCCTCAAACTGACCT\\nCAAATGTAAATTAGAATTCTTCACTCGCCTCGTGGCAAGAAGCACAAACTTGTGTTCAACTTGTGTTCTG\\nAGTATCCATCAGTTTGTCACACTTGTTCCTGTTAATTCAGGTAAAGGAATACTCAGAGCAAGTGTCACAA\\nACATGGCAAGTTATTCTTGTTACAGTTGTTGGTTCTTCAGTGTCTTAAATAACATCTACATTCCAATTAA\\nGGTCACTGGTCCACAGTTAACAGACAATAACAATAACTCTAAAAGCAAGTTGTTCTGTTCCACTTCTGAT\\nTTCAGTGTAGGCATTGTCTTCTTGAGGTTTGCCCATGATGCCACATTCATGAGCATCATGGTCTGGACCA\\nGTGTCTCCATGGTACTTCTCCTCCATAGACATTGTCAGAGAATGCAGTACATATTCACTCTCAATCAGGA\\nCCCCAGGGGCCAAGCAGAGACCACAGCAACCCATACTATCCTGATGCTGGTAGTCACATTTGTTGGCTTT\\nTATCTTCTAAGTCTTATTTGTATCATCTTTTACACCTATTTTATATATTCTCATCATTCCCTGAGGCATT\\nGCAATGACATTTTGGTTTCGGGTTTCCCTACAATTTCTCCTTTACTGTTGACCTTCAGAGACCCTAAGGG\\nTCCTTGTTCTGTGTTCTTCAACTGTTGAAAGCCAGAGTCACTAAAAATGCCAAACACAGAAGACAGCTTT\\nGCTAATACCATTAAATACTTTATTCCATAAATATGTTTTTAAAAGCTTGTATGAACAAGGTATGGTGCTC\\nACTGCTATACTTATAAAAGAGTAAGGTTATAATCACTTGTTGATATGAAAAGATTTCTGGTTGGAATCTG\\nATTGAAACAGTGAGTTATTCACCACCCTCCATTCTCT'"
      ]
     },
     "execution_count": 18,
     "metadata": {},
     "output_type": "execute_result"
    }
   ],
   "source": [
    "inputfile = \"seq1.txt\"\n",
    "f = open(inputfile, \"r\")\n",
    "seq1 = f.read()                     # read the entire file\n",
    "seq1"
   ]
  },
  {
   "cell_type": "code",
   "execution_count": 19,
   "metadata": {
    "collapsed": true
   },
   "outputs": [],
   "source": [
    "seq1=seq1.replace(\"\\n\", \"\")\n",
    "seq1=seq1.replace(\"\\r\", \"\")"
   ]
  },
  {
   "cell_type": "code",
   "execution_count": 20,
   "metadata": {},
   "outputs": [
    {
     "data": {
      "text/plain": [
       "'GGTCAGAAAAAGCCCTCTCCATGTCTACTCACGATACATCCCTGAAAACCACTGAGGAAGTGGCTTTTCAGATCATCTTGCTTTGCCAGTTTGGGGTTGGGACTTTTGCCAATGTATTTCTCTTTGTCTATAATTTCTCTCCAATCTCGACTGGTTCTAAACAGAGGCCCAGACAAGTGATTTTAAGACACATGGCTGTGGCCAATGCCTTAACTCTCTTCCTCACTATATTTCCAAACAACATGATGACTTTTGCTCCAATTATTCCTCAAACTGACCTCAAATGTAAATTAGAATTCTTCACTCGCCTCGTGGCAAGAAGCACAAACTTGTGTTCAACTTGTGTTCTGAGTATCCATCAGTTTGTCACACTTGTTCCTGTTAATTCAGGTAAAGGAATACTCAGAGCAAGTGTCACAAACATGGCAAGTTATTCTTGTTACAGTTGTTGGTTCTTCAGTGTCTTAAATAACATCTACATTCCAATTAAGGTCACTGGTCCACAGTTAACAGACAATAACAATAACTCTAAAAGCAAGTTGTTCTGTTCCACTTCTGATTTCAGTGTAGGCATTGTCTTCTTGAGGTTTGCCCATGATGCCACATTCATGAGCATCATGGTCTGGACCAGTGTCTCCATGGTACTTCTCCTCCATAGACATTGTCAGAGAATGCAGTACATATTCACTCTCAATCAGGACCCCAGGGGCCAAGCAGAGACCACAGCAACCCATACTATCCTGATGCTGGTAGTCACATTTGTTGGCTTTTATCTTCTAAGTCTTATTTGTATCATCTTTTACACCTATTTTATATATTCTCATCATTCCCTGAGGCATTGCAATGACATTTTGGTTTCGGGTTTCCCTACAATTTCTCCTTTACTGTTGACCTTCAGAGACCCTAAGGGTCCTTGTTCTGTGTTCTTCAACTGTTGAAAGCCAGAGTCACTAAAAATGCCAAACACAGAAGACAGCTTTGCTAATACCATTAAATACTTTATTCCATAAATATGTTTTTAAAAGCTTGTATGAACAAGGTATGGTGCTCACTGCTATACTTATAAAAGAGTAAGGTTATAATCACTTGTTGATATGAAAAGATTTCTGGTTGGAATCTGATTGAAACAGTGAGTTATTCACCACCCTCCATTCTCT'"
      ]
     },
     "execution_count": 20,
     "metadata": {},
     "output_type": "execute_result"
    }
   ],
   "source": [
    "seq1"
   ]
  },
  {
   "cell_type": "code",
   "execution_count": 21,
   "metadata": {},
   "outputs": [
    {
     "data": {
      "text/plain": [
       "'CCTGAAAACC'"
      ]
     },
     "execution_count": 21,
     "metadata": {},
     "output_type": "execute_result"
    }
   ],
   "source": [
    "seq[40:50]"
   ]
  },
  {
   "cell_type": "code",
   "execution_count": 22,
   "metadata": {
    "collapsed": true
   },
   "outputs": [],
   "source": [
    "def read_seq(inputfile):\n",
    "    \"\"\"Reads and returns the input sequence with special characters removed.\"\"\"\n",
    "    with open(inputfile, \"r\") as f:\n",
    "        seq = f.read()\n",
    "    seq = seq.replace(\"\\n\", \"\")\n",
    "    seq = seq.replace(\"\\r\", \"\")\n",
    "    return seq\n",
    "\n",
    "prt = read_seq(\"protein.txt\")\n",
    "dna = read_seq(\"dna.txt\")"
   ]
  },
  {
   "cell_type": "code",
   "execution_count": 23,
   "metadata": {},
   "outputs": [
    {
     "data": {
      "text/plain": [
       "''"
      ]
     },
     "execution_count": 23,
     "metadata": {},
     "output_type": "execute_result"
    }
   ],
   "source": [
    "# If we tried to translate dna we get empty string which indicate there might be a problem\n",
    "translate(dna)"
   ]
  },
  {
   "cell_type": "code",
   "execution_count": 24,
   "metadata": {},
   "outputs": [
    {
     "data": {
      "text/plain": [
       "2"
      ]
     },
     "execution_count": 24,
     "metadata": {},
     "output_type": "execute_result"
    }
   ],
   "source": [
    "# is it divisible by 3 ? no the remainder is 2 so it is not\n",
    "len(dna)%3"
   ]
  },
  {
   "cell_type": "markdown",
   "metadata": {},
   "source": [
    "On the NCBI website, the CDS says 21 and 938, these are the locaions of the gene where the coding sequence starts and ends.   \n",
    "in python, it should be 20 and 938.   (20 to 937)   \n",
    "  \n",
    "'gene' positions are numbered from 1 to 1157   "
   ]
  },
  {
   "cell_type": "code",
   "execution_count": 25,
   "metadata": {},
   "outputs": [
    {
     "data": {
      "text/plain": [
       "'MSTHDTSLKTTEEVAFQIILLCQFGVGTFANVFLFVYNFSPISTGSKQRPRQVILRHMAVANALTLFLTIFPNNMMTFAPIIPQTDLKCKLEFFTRLVARSTNLCSTCVLSIHQFVTLVPVNSGKGILRASVTNMASYSCYSCWFFSVLNNIYIPIKVTGPQLTDNNNNSKSKLFCSTSDFSVGIVFLRFAHDATFMSIMVWTSVSMVLLLHRHCQRMQYIFTLNQDPRGQAETTATHTILMLVVTFVGFYLLSLICIIFYTYFIYSHHSLRHCNDILVSGFPTISPLLLTFRDPKGPCSVFFNC_'"
      ]
     },
     "execution_count": 25,
     "metadata": {},
     "output_type": "execute_result"
    }
   ],
   "source": [
    "translate(dna[20:938])"
   ]
  },
  {
   "cell_type": "code",
   "execution_count": 26,
   "metadata": {},
   "outputs": [
    {
     "data": {
      "text/plain": [
       "'MSTHDTSLKTTEEVAFQIILLCQFGVGTFANVFLFVYNFSPISTGSKQRPRQVILRHMAVANALTLFLTIFPNNMMTFAPIIPQTDLKCKLEFFTRLVARSTNLCSTCVLSIHQFVTLVPVNSGKGILRASVTNMASYSCYSCWFFSVLNNIYIPIKVTGPQLTDNNNNSKSKLFCSTSDFSVGIVFLRFAHDATFMSIMVWTSVSMVLLLHRHCQRMQYIFTLNQDPRGQAETTATHTILMLVVTFVGFYLLSLICIIFYTYFIYSHHSLRHCNDILVSGFPTISPLLLTFRDPKGPCSVFFNC'"
      ]
     },
     "execution_count": 26,
     "metadata": {},
     "output_type": "execute_result"
    }
   ],
   "source": [
    "# compare this with protein sequence\n",
    "prt"
   ]
  },
  {
   "cell_type": "markdown",
   "metadata": {},
   "source": [
    "Both are almost identical, last underscore character is missing  \n",
    "At the very end of a protein coding sequence, nature places what's called a stop codon.   \n",
    "There are three stop codons, and their function is to tell someone reading the sequence that this where you should stop.  \n",
    "(The stop codon is not included in the downloaded protein)  \n"
   ]
  },
  {
   "cell_type": "code",
   "execution_count": 27,
   "metadata": {},
   "outputs": [
    {
     "data": {
      "text/plain": [
       "'MSTHDTSLKTTEEVAFQIILLCQFGVGTFANVFLFVYNFSPISTGSKQRPRQVILRHMAVANALTLFLTIFPNNMMTFAPIIPQTDLKCKLEFFTRLVARSTNLCSTCVLSIHQFVTLVPVNSGKGILRASVTNMASYSCYSCWFFSVLNNIYIPIKVTGPQLTDNNNNSKSKLFCSTSDFSVGIVFLRFAHDATFMSIMVWTSVSMVLLLHRHCQRMQYIFTLNQDPRGQAETTATHTILMLVVTFVGFYLLSLICIIFYTYFIYSHHSLRHCNDILVSGFPTISPLLLTFRDPKGPCSVFFNC'"
      ]
     },
     "execution_count": 27,
     "metadata": {},
     "output_type": "execute_result"
    }
   ],
   "source": [
    "translate(dna[20:935])"
   ]
  },
  {
   "cell_type": "code",
   "execution_count": 28,
   "metadata": {},
   "outputs": [
    {
     "data": {
      "text/plain": [
       "True"
      ]
     },
     "execution_count": 28,
     "metadata": {},
     "output_type": "execute_result"
    }
   ],
   "source": [
    "prt == translate(dna[20:935])"
   ]
  },
  {
   "cell_type": "markdown",
   "metadata": {},
   "source": [
    "The function translate returns a string of amino acids. So instead of omitting the last three characters from the DNA sequence. \n",
    "the last character of the translated amino acid sequence"
   ]
  },
  {
   "cell_type": "code",
   "execution_count": 29,
   "metadata": {},
   "outputs": [
    {
     "data": {
      "text/plain": [
       "True"
      ]
     },
     "execution_count": 29,
     "metadata": {},
     "output_type": "execute_result"
    }
   ],
   "source": [
    "prt == translate(dna[20:938])[:-1]"
   ]
  },
  {
   "cell_type": "code",
   "execution_count": 30,
   "metadata": {},
   "outputs": [
    {
     "data": {
      "text/plain": [
       "True"
      ]
     },
     "execution_count": 30,
     "metadata": {},
     "output_type": "execute_result"
    }
   ],
   "source": [
    "translate(dna[20:938])[:-1] == translate(dna[20:935])"
   ]
  },
  {
   "cell_type": "markdown",
   "metadata": {},
   "source": [
    "## Homework : Case Study 1\n",
    "### Exercise 1\n",
    "A cipher is a secret code for a language. In this case study, we will explore a cipher that is reported by contemporary Greek historians to have been used by Julius Caesar to send secret messages to generals during times of war.  \n",
    "  \n",
    "The Caesar cipher shifts each letter of this message to another letter in the alphabet, which is a fixed number of letters away from the original. If our encryption key were 1, we would shift h to the next letter i, i to the next letter j, and so on. If we reach the end of the alphabet, which for us is the space character, we simply loop back to a. To decode the message, we make a similar shift, except we move the same number of steps backwards in the alphabet."
   ]
  },
  {
   "cell_type": "code",
   "execution_count": 31,
   "metadata": {},
   "outputs": [
    {
     "name": "stdout",
     "output_type": "stream",
     "text": [
      "{0: 'a', 1: 'b', 2: 'c', 3: 'd', 4: 'e', 5: 'f', 6: 'g', 7: 'h', 8: 'i', 9: 'j', 10: 'k', 11: 'l', 12: 'm', 13: 'n', 14: 'o', 15: 'p', 16: 'q', 17: 'r', 18: 's', 19: 't', 20: 'u', 21: 'v', 22: 'w', 23: 'x', 24: 'y', 25: 'z', 26: ' '}\n"
     ]
    }
   ],
   "source": [
    "import string\n",
    "string.ascii_lowercase\n",
    "alphabet = string.ascii_lowercase + \" \"\n",
    "letters = {}\n",
    "for i in range(0,27):\n",
    "    letters[i] = alphabet[i]\n",
    "print(letters)"
   ]
  },
  {
   "cell_type": "code",
   "execution_count": 32,
   "metadata": {},
   "outputs": [
    {
     "name": "stdout",
     "output_type": "stream",
     "text": [
      "{0: 'a', 1: 'b', 2: 'c', 3: 'd', 4: 'e', 5: 'f', 6: 'g', 7: 'h', 8: 'i', 9: 'j', 10: 'k', 11: 'l', 12: 'm', 13: 'n', 14: 'o', 15: 'p', 16: 'q', 17: 'r', 18: 's', 19: 't', 20: 'u', 21: 'v', 22: 'w', 23: 'x', 24: 'y', 25: 'z', 26: ' '}\n"
     ]
    }
   ],
   "source": [
    "letters2 = dict(enumerate(alphabet))\n",
    "print(letters2)"
   ]
  },
  {
   "cell_type": "markdown",
   "metadata": {},
   "source": [
    "### Exercise 2\n",
    "A cipher is a secret code for a language. In this case study, we will explore a cipher that is reported by contemporary Greek historians to have been used by Julius Caesar to send secret messages to generals during times of war.  \n",
    "  \n",
    "Create a dictionary encoding with keys being the characters in alphabet and values being numbers from 0-26, shifted by an integer encryption_key=3. For example, the key a should have value encryption_key, key b should have value encryption_key + 1, and so on. If any result of this addition is less than 0 or greater than 26, you can ensure the result remains within 0-26 using result % 27.  "
   ]
  },
  {
   "cell_type": "code",
   "execution_count": 33,
   "metadata": {},
   "outputs": [
    {
     "name": "stdout",
     "output_type": "stream",
     "text": [
      "{'a': 3, 'b': 4, 'c': 5, 'd': 6, 'e': 7, 'f': 8, 'g': 9, 'h': 10, 'i': 11, 'j': 12, 'k': 13, 'l': 14, 'm': 15, 'n': 16, 'o': 17, 'p': 18, 'q': 19, 'r': 20, 's': 21, 't': 22, 'u': 23, 'v': 24, 'w': 25, 'x': 26, 'y': 0, 'z': 1, ' ': 2}\n"
     ]
    }
   ],
   "source": [
    "encryption_key = 3\n",
    "i = 0\n",
    "encoding ={}\n",
    "for key,value in letters.items():\n",
    "    if (i < 24):\n",
    "        encoding[value] = encryption_key + i\n",
    "        i +=1\n",
    "    else:\n",
    "        encoding[value] = encryption_key + (i-27)\n",
    "        i += 1\n",
    "    \n",
    "print(encoding)"
   ]
  },
  {
   "cell_type": "code",
   "execution_count": null,
   "metadata": {
    "collapsed": true
   },
   "outputs": [],
   "source": []
  },
  {
   "cell_type": "markdown",
   "metadata": {},
   "source": [
    "### Exercise 3\n",
    "A cipher is a secret code for a language. In this case study, we will explore a cipher that is reported by contemporary Greek historians to have been used by Julius Caesar to send secret messages to generals during times of war.  \n",
    "  \n",
    "- alphabet and letters are preloaded from the previous exercise. Write a function caesar(message, encryption_key) to encode a message with the Caesar cipher.\n",
    "- Use your code from Exercise 2 to find the value of encoding for each letter in message.\n",
    "- Use these values as keys in the dictionary letters to determine the encoded letter for each letter in message.\n",
    "- Your function should return a string consisting of these encoded letters.\n",
    "- Use caesar to encode message using encryption_key = 3, and save the result as encoded_message."
   ]
  },
  {
   "cell_type": "code",
   "execution_count": 34,
   "metadata": {
    "collapsed": true
   },
   "outputs": [],
   "source": [
    "message = \"hi my name is caesar\"\n",
    "\n",
    "def caesar(message, encryption_key):\n",
    "    encrypt_text = \"\"\n",
    "    for c in message:\n",
    "        for k, v in encoding.items():\n",
    "            if c == k:\n",
    "                for l in letters:\n",
    "                    if l == v :\n",
    "                        if l != 26:\n",
    "                            encrypt_text += letters[l]\n",
    "\n",
    "    return (encrypt_text)    "
   ]
  },
  {
   "cell_type": "code",
   "execution_count": 35,
   "metadata": {},
   "outputs": [
    {
     "name": "stdout",
     "output_type": "stream",
     "text": [
      "klcpacqdphclvcfdhvdu\n"
     ]
    }
   ],
   "source": [
    "print(caesar(message, 3))"
   ]
  },
  {
   "cell_type": "code",
   "execution_count": 36,
   "metadata": {},
   "outputs": [
    {
     "name": "stdout",
     "output_type": "stream",
     "text": [
      "{'A': 0, 'B': 1, 'C': 2, 'D': 3, 'E': 4, 'F': 5, 'G': 6, 'H': 7, 'I': 8, 'J': 9, 'K': 10, 'L': 11, 'M': 12, 'N': 13, 'O': 14, 'P': 15, 'Q': 16, 'R': 17, 'S': 18, 'T': 19, 'U': 20, 'V': 21, 'W': 22, 'X': 23, 'Y': 24, 'Z': 25}\n"
     ]
    }
   ],
   "source": [
    "L2I = dict(zip(\"ABCDEFGHIJKLMNOPQRSTUVWXYZ\",range(26)))\n",
    "print(L2I)"
   ]
  },
  {
   "cell_type": "code",
   "execution_count": 37,
   "metadata": {},
   "outputs": [
    {
     "name": "stdout",
     "output_type": "stream",
     "text": [
      "{0: 'A', 1: 'B', 2: 'C', 3: 'D', 4: 'E', 5: 'F', 6: 'G', 7: 'H', 8: 'I', 9: 'J', 10: 'K', 11: 'L', 12: 'M', 13: 'N', 14: 'O', 15: 'P', 16: 'Q', 17: 'R', 18: 'S', 19: 'T', 20: 'U', 21: 'V', 22: 'W', 23: 'X', 24: 'Y', 25: 'Z'}\n"
     ]
    }
   ],
   "source": [
    "I2L = dict(zip(range(26),\"ABCDEFGHIJKLMNOPQRSTUVWXYZ\"))\n",
    "print(I2L)"
   ]
  },
  {
   "cell_type": "code",
   "execution_count": 38,
   "metadata": {},
   "outputs": [
    {
     "name": "stdout",
     "output_type": "stream",
     "text": [
      "{0: 'a', 1: 'b', 2: 'c', 3: 'd', 4: 'e', 5: 'f', 6: 'g', 7: 'h', 8: 'i', 9: 'j', 10: 'k', 11: 'l', 12: 'm', 13: 'n', 14: 'o', 15: 'p', 16: 'q', 17: 'r', 18: 's', 19: 't', 20: 'u', 21: 'v', 22: 'w', 23: 'x', 24: 'y', 25: 'z', 26: ' '}\n"
     ]
    }
   ],
   "source": [
    "print(letters)"
   ]
  },
  {
   "cell_type": "code",
   "execution_count": 39,
   "metadata": {},
   "outputs": [
    {
     "name": "stdout",
     "output_type": "stream",
     "text": [
      "{'a': 3, 'b': 4, 'c': 5, 'd': 6, 'e': 7, 'f': 8, 'g': 9, 'h': 10, 'i': 11, 'j': 12, 'k': 13, 'l': 14, 'm': 15, 'n': 16, 'o': 17, 'p': 18, 'q': 19, 'r': 20, 's': 21, 't': 22, 'u': 23, 'v': 24, 'w': 25, 'x': 26, 'y': 0, 'z': 1, ' ': 2}\n"
     ]
    }
   ],
   "source": [
    "print(encoding)"
   ]
  },
  {
   "cell_type": "code",
   "execution_count": 40,
   "metadata": {},
   "outputs": [
    {
     "name": "stdout",
     "output_type": "stream",
     "text": [
      "klcpacqdphclvcfdhvdu\n"
     ]
    }
   ],
   "source": [
    "message = \"hi my name is caesar\"\n",
    "def caesar(message, encryption_key):\n",
    "    encrypt_text = \"\"\n",
    "    for m in message:\n",
    "        if m in encoding:\n",
    "            encrypt_text  += letters[encoding[m]]\n",
    "\n",
    "    return(encrypt_text)\n",
    "print(caesar(message, 3))"
   ]
  },
  {
   "cell_type": "code",
   "execution_count": 41,
   "metadata": {},
   "outputs": [
    {
     "name": "stdout",
     "output_type": "stream",
     "text": [
      "klcpacqdphclvcfdhvdu\n"
     ]
    }
   ],
   "source": [
    "message = \"hi my name is caesar\"\n",
    "#encoding = {letter: (place + key) % 27 for (place, letter) in enumerate(alphabet)}\n",
    "def caesar(message, encryption_key):\n",
    "    coded_message_string = \"\".join([letters[encoding[letter]] for letter in message])\n",
    "    return coded_message_string\n",
    "\n",
    "encoded_message = caesar(message, 3)\n",
    "print(encoded_message)"
   ]
  },
  {
   "cell_type": "markdown",
   "metadata": {},
   "source": [
    "### Exercise 4\n",
    "A cipher is a secret code for a language. In this case study, we will explore a cipher that is reported by contemporary Greek historians to have been used by Julius Caesar to send secret messages to generals during times of war.\n",
    "- Note that encoded_message is already loaded from the previous problem. Use caesar to decode encoded_message using encryption_key = -3.\n",
    "- Store your decoded message as decoded_message.\n",
    "- Print decoded_message. Does this recover your original message?"
   ]
  },
  {
   "cell_type": "code",
   "execution_count": 42,
   "metadata": {},
   "outputs": [
    {
     "data": {
      "text/plain": [
       "'nofsdftgskfoyfigkygx'"
      ]
     },
     "execution_count": 42,
     "metadata": {},
     "output_type": "execute_result"
    }
   ],
   "source": [
    "decoded_message = caesar(encoded_message, -3)\n",
    "decoded_message\n",
    "\n",
    "# coded_message = {letter: (place + key) % 27 for (place, letter) in enumerate(alphabet)}"
   ]
  },
  {
   "cell_type": "markdown",
   "metadata": {},
   "source": [
    "## Case Study 2 : Language Processing\n",
    "### Introduction to Language processing\n",
    "100 books are downloaded from the project Gutenberg  \n",
    "4 languages, English, French, German, and Portuguese  \n",
    "Each lanugage, 1 to 4 authors each, 13 autors in total\n",
    "For each author, we have from 1 to 16 books, 102 books in total  \n",
    "  \n",
    "Our goal is to write a function that given a string of text counts the number of times each unique word appears.  \n",
    "What's the best way to keep track of these words?  \n",
    "Python dictionaries are a very natural choice. Here the keys are strings, the words containing the input text and the values are numbers that counts"
   ]
  },
  {
   "cell_type": "markdown",
   "metadata": {},
   "source": [
    "### Counting Words\n"
   ]
  },
  {
   "cell_type": "code",
   "execution_count": 43,
   "metadata": {
    "collapsed": true
   },
   "outputs": [],
   "source": [
    "text = \"This is my test text. We're keeping this text short to keep things manageable.\"\n",
    "def count_words(text):\n",
    "    \"\"\"Count the number of times each word occurs in text (str). Return dictionary where keys are unique words and values are word counts\"\"\"\n",
    "    word_counts = {}\n",
    "    for word in text.split(\" \"):\n",
    "        # known words\n",
    "        if word in word_counts:\n",
    "            word_counts[word] += 1\n",
    "        else:\n",
    "            word_counts[word] = 1\n",
    "    return word_counts"
   ]
  },
  {
   "cell_type": "code",
   "execution_count": 44,
   "metadata": {},
   "outputs": [
    {
     "data": {
      "text/plain": [
       "{'This': 1,\n",
       " \"We're\": 1,\n",
       " 'is': 1,\n",
       " 'keep': 1,\n",
       " 'keeping': 1,\n",
       " 'manageable.': 1,\n",
       " 'my': 1,\n",
       " 'short': 1,\n",
       " 'test': 1,\n",
       " 'text': 1,\n",
       " 'text.': 1,\n",
       " 'things': 1,\n",
       " 'this': 1,\n",
       " 'to': 1}"
      ]
     },
     "execution_count": 44,
     "metadata": {},
     "output_type": "execute_result"
    }
   ],
   "source": [
    "count_words(text)"
   ]
  },
  {
   "cell_type": "code",
   "execution_count": 45,
   "metadata": {
    "collapsed": true
   },
   "outputs": [],
   "source": [
    "text = \"This is my test text. We're keeping this text short to keep things manageable.\"\n",
    "def count_words(text):\n",
    "    \"\"\"Count the number of times each word occurs in text (str). Return dictionary where keys are unique words \n",
    "    and values are word counts. Skip punctuation\"\"\"\n",
    "    text = text.lower()\n",
    "    skips = [\".\",\",\",\":\",\";\",\"'\",'\"']\n",
    "    for ch in skips:\n",
    "        text = text.replace(ch, \"\")\n",
    "        \n",
    "    word_counts = {}\n",
    "    for word in text.split(\" \"):\n",
    "        # known words\n",
    "        if word in word_counts:\n",
    "            word_counts[word] += 1\n",
    "        else:\n",
    "            word_counts[word] = 1\n",
    "    return word_counts"
   ]
  },
  {
   "cell_type": "code",
   "execution_count": 46,
   "metadata": {},
   "outputs": [
    {
     "data": {
      "text/plain": [
       "{'is': 1,\n",
       " 'keep': 1,\n",
       " 'keeping': 1,\n",
       " 'manageable': 1,\n",
       " 'my': 1,\n",
       " 'short': 1,\n",
       " 'test': 1,\n",
       " 'text': 2,\n",
       " 'things': 1,\n",
       " 'this': 2,\n",
       " 'to': 1,\n",
       " 'were': 1}"
      ]
     },
     "execution_count": 46,
     "metadata": {},
     "output_type": "execute_result"
    }
   ],
   "source": [
    "count_words(text)"
   ]
  },
  {
   "cell_type": "markdown",
   "metadata": {},
   "source": [
    "Counting the frequency of objects is such a common operation that python provides what is known as a counter tool to support\n",
    "First we need to import collections module"
   ]
  },
  {
   "cell_type": "code",
   "execution_count": 47,
   "metadata": {
    "collapsed": true
   },
   "outputs": [],
   "source": [
    "from collections import Counter\n",
    "def count_words_fast(text):\n",
    "    \"\"\"Count the number of times each word occurs in text (str). Return dictionary where keys are unique words \n",
    "    and values are word counts. Skip punctuation. using the collection\"\"\"\n",
    "    text = text.lower()\n",
    "    skips = [\".\",\",\",\":\",\";\",\"'\",'\"']\n",
    "    for ch in skips:\n",
    "        text = text.replace(ch, \"\")\n",
    "        \n",
    "    word_counts = Counter(text.split(\" \"))\n",
    "    return word_counts"
   ]
  },
  {
   "cell_type": "code",
   "execution_count": 48,
   "metadata": {},
   "outputs": [
    {
     "data": {
      "text/plain": [
       "Counter({'is': 1,\n",
       "         'keep': 1,\n",
       "         'keeping': 1,\n",
       "         'manageable': 1,\n",
       "         'my': 1,\n",
       "         'short': 1,\n",
       "         'test': 1,\n",
       "         'text': 2,\n",
       "         'things': 1,\n",
       "         'this': 2,\n",
       "         'to': 1,\n",
       "         'were': 1})"
      ]
     },
     "execution_count": 48,
     "metadata": {},
     "output_type": "execute_result"
    }
   ],
   "source": [
    "count_words_fast(text)"
   ]
  },
  {
   "cell_type": "code",
   "execution_count": 49,
   "metadata": {},
   "outputs": [
    {
     "data": {
      "text/plain": [
       "True"
      ]
     },
     "execution_count": 49,
     "metadata": {},
     "output_type": "execute_result"
    }
   ],
   "source": [
    "count_words(text) == count_words_fast(text)"
   ]
  },
  {
   "cell_type": "code",
   "execution_count": 50,
   "metadata": {},
   "outputs": [
    {
     "data": {
      "text/plain": [
       "False"
      ]
     },
     "execution_count": 50,
     "metadata": {},
     "output_type": "execute_result"
    }
   ],
   "source": [
    "count_words(text) is count_words_fast(text)"
   ]
  },
  {
   "cell_type": "code",
   "execution_count": 51,
   "metadata": {},
   "outputs": [
    {
     "data": {
      "text/plain": [
       "6"
      ]
     },
     "execution_count": 51,
     "metadata": {},
     "output_type": "execute_result"
    }
   ],
   "source": [
    "len(count_words(\"This comprehension check is to check for comprehension.\"))"
   ]
  },
  {
   "cell_type": "code",
   "execution_count": 52,
   "metadata": {},
   "outputs": [
    {
     "data": {
      "text/plain": [
       "{'check': 2, 'comprehension': 2, 'for': 1, 'is': 1, 'this': 1, 'to': 1}"
      ]
     },
     "execution_count": 52,
     "metadata": {},
     "output_type": "execute_result"
    }
   ],
   "source": [
    "count_words(\"This comprehension check is to check for comprehension.\")"
   ]
  },
  {
   "cell_type": "markdown",
   "metadata": {},
   "source": [
    "### Reading in a Book"
   ]
  },
  {
   "cell_type": "code",
   "execution_count": 53,
   "metadata": {
    "collapsed": true
   },
   "outputs": [],
   "source": [
    "import os\n",
    "os.chdir('D:/Dev/Python/PythonForResearch/books')\n",
    "\n",
    "\n",
    "def read_book(title_path):\n",
    "    \"\"\"Read a book and return it as a string\"\"\"\n",
    "    with open(title_path, \"r\", encoding=\"utf8\") as current_file:\n",
    "        text = current_file.read()\n",
    "        text = text.replace(\"\\n\", \"\").replace(\"\\r\", \"\")\n",
    "    return text\n"
   ]
  },
  {
   "cell_type": "code",
   "execution_count": 54,
   "metadata": {
    "collapsed": true
   },
   "outputs": [],
   "source": [
    "text = read_book('English/shakespeare/Romeo and Juliet.txt')"
   ]
  },
  {
   "cell_type": "code",
   "execution_count": 55,
   "metadata": {},
   "outputs": [
    {
     "data": {
      "text/plain": [
       "169275"
      ]
     },
     "execution_count": 55,
     "metadata": {},
     "output_type": "execute_result"
    }
   ],
   "source": [
    "len(text)"
   ]
  },
  {
   "cell_type": "code",
   "execution_count": 56,
   "metadata": {
    "collapsed": true
   },
   "outputs": [],
   "source": [
    "ind = text.find(\"What's in a name?\")"
   ]
  },
  {
   "cell_type": "code",
   "execution_count": 57,
   "metadata": {},
   "outputs": [
    {
     "data": {
      "text/plain": [
       "42757"
      ]
     },
     "execution_count": 57,
     "metadata": {},
     "output_type": "execute_result"
    }
   ],
   "source": [
    "ind"
   ]
  },
  {
   "cell_type": "code",
   "execution_count": 58,
   "metadata": {},
   "outputs": [
    {
     "data": {
      "text/plain": [
       "\"What's in a name? That which we call a rose    By any other name would smell as sweet.    So Romeo would, were he not Romeo call'd,    Retain that dear perfection which he owes    Without that title. Romeo, doff thy name;    And for that name, which is no part of thee,    Take all myself.  Rom. I take thee at thy word.    Call me but love, and I'll be new baptiz'd;    Henceforth I never will be Romeo.  Jul. What man art thou that, thus bescreen'd in night,    So stumblest on my counsel?  Rom. By a name    I know not how to tell thee who I am.    My name, dear saint, is hateful to myself,    Because it is an enemy to thee.    Had I it written, I would tear the word.  Jul. My ears have yet not drunk a hundred words    Of that tongue's utterance, yet I know the sound.    Art thou not Romeo, and a Montague?  Rom. Neither, fair saint, if either thee dislike.  Jul. How cam'st thou hither, tell me, and wherefore?    The orchard walls are high and hard to climb,    And the place death, conside\""
      ]
     },
     "execution_count": 58,
     "metadata": {},
     "output_type": "execute_result"
    }
   ],
   "source": [
    "sample_text = text[ind : ind + 1000]\n",
    "sample_text"
   ]
  },
  {
   "cell_type": "markdown",
   "metadata": {},
   "source": [
    "### Computing word frequency statistics"
   ]
  },
  {
   "cell_type": "code",
   "execution_count": 59,
   "metadata": {
    "collapsed": true
   },
   "outputs": [],
   "source": [
    "\n",
    "def word_stats(word_counts):\n",
    "    \"\"\"Return number of unique words and word frequncies\"\"\"\n",
    "    num_unique = len(word_counts)\n",
    "    counts = word_counts.values()\n",
    "    return (num_unique, counts)"
   ]
  },
  {
   "cell_type": "code",
   "execution_count": 60,
   "metadata": {},
   "outputs": [
    {
     "data": {
      "text/plain": [
       "5118"
      ]
     },
     "execution_count": 60,
     "metadata": {},
     "output_type": "execute_result"
    }
   ],
   "source": [
    "# read_book and count_words are already defined.\n",
    "text = read_book('English/shakespeare/Romeo and Juliet.txt')\n",
    "word_counts = count_words(text)\n",
    "(num_unique, counts) = word_stats(word_counts)\n",
    "num_unique"
   ]
  },
  {
   "cell_type": "code",
   "execution_count": 61,
   "metadata": {},
   "outputs": [
    {
     "data": {
      "text/plain": [
       "40776"
      ]
     },
     "execution_count": 61,
     "metadata": {},
     "output_type": "execute_result"
    }
   ],
   "source": [
    "sum(counts)  # total number of words"
   ]
  },
  {
   "cell_type": "code",
   "execution_count": 62,
   "metadata": {},
   "outputs": [
    {
     "name": "stdout",
     "output_type": "stream",
     "text": [
      "7527 20311\n"
     ]
    }
   ],
   "source": [
    "text = read_book('German/shakespeare/Romeo und Julia.txt')\n",
    "word_counts = count_words(text)\n",
    "(num_unique, counts) = word_stats(word_counts)\n",
    "print(num_unique, sum(counts))"
   ]
  },
  {
   "cell_type": "markdown",
   "metadata": {},
   "source": [
    " Word_stats returns The number of unique words and a list of word counts"
   ]
  },
  {
   "cell_type": "markdown",
   "metadata": {},
   "source": [
    "### Reading Multiple Files\n"
   ]
  },
  {
   "cell_type": "code",
   "execution_count": 72,
   "metadata": {},
   "outputs": [
    {
     "name": "stdout",
     "output_type": "stream",
     "text": [
      "D:/Dev/Python/PythonForResearch/books/English/AbrahamLincoln/Bancroft_Copy.txt\n",
      "D:/Dev/Python/PythonForResearch/books/English/AbrahamLincoln/Bliss_Copy.txt\n",
      "D:/Dev/Python/PythonForResearch/books/English/AbrahamLincoln/DataCamp.txt\n",
      "D:/Dev/Python/PythonForResearch/books/English/AbrahamLincoln/Everett_Copy.txt\n",
      "D:/Dev/Python/PythonForResearch/books/English/AbrahamLincoln/Hay_Copy.txt\n",
      "D:/Dev/Python/PythonForResearch/books/English/AbrahamLincoln/Nicolay_Copy.txt\n",
      "D:/Dev/Python/PythonForResearch/books/English/shakespeare/A Midsummer Night's Dream.txt\n",
      "D:/Dev/Python/PythonForResearch/books/English/shakespeare/Hamlet.txt\n",
      "D:/Dev/Python/PythonForResearch/books/English/shakespeare/Macbeth.txt\n",
      "D:/Dev/Python/PythonForResearch/books/English/shakespeare/Othello.txt\n",
      "D:/Dev/Python/PythonForResearch/books/English/shakespeare/Richard III.txt\n",
      "D:/Dev/Python/PythonForResearch/books/English/shakespeare/Romeo and Juliet.txt\n",
      "D:/Dev/Python/PythonForResearch/books/English/shakespeare/The Merchant of Venice.txt\n",
      "D:/Dev/Python/PythonForResearch/books/French/chevalier/L'enfer et le paradis de l'autre monde.txt\n",
      "D:/Dev/Python/PythonForResearch/books/French/chevalier/L'åle de sable.txt\n",
      "D:/Dev/Python/PythonForResearch/books/French/chevalier/La capitaine.txt\n",
      "D:/Dev/Python/PythonForResearch/books/French/chevalier/La fille des indiens rouges.txt\n",
      "D:/Dev/Python/PythonForResearch/books/French/chevalier/La fille du pirate.txt\n",
      "D:/Dev/Python/PythonForResearch/books/French/chevalier/Le chasseur noir.txt\n",
      "D:/Dev/Python/PythonForResearch/books/French/chevalier/Les derniers Iroquois.txt\n",
      "D:/Dev/Python/PythonForResearch/books/French/de Maupassant/Boule de Suif.txt\n",
      "D:/Dev/Python/PythonForResearch/books/French/de Maupassant/Claire de Lune.txt\n",
      "D:/Dev/Python/PythonForResearch/books/French/de Maupassant/Contes de la Becasse.txt\n",
      "D:/Dev/Python/PythonForResearch/books/French/de Maupassant/L'inutile beautÇ.txt\n",
      "D:/Dev/Python/PythonForResearch/books/French/de Maupassant/La Main Gauche.txt\n",
      "D:/Dev/Python/PythonForResearch/books/French/de Maupassant/La Maison Tellier.txt\n",
      "D:/Dev/Python/PythonForResearch/books/French/de Maupassant/La petite roque.txt\n",
      "D:/Dev/Python/PythonForResearch/books/French/de Maupassant/Le Horla.txt\n",
      "D:/Dev/Python/PythonForResearch/books/French/de Maupassant/Œuvres complètes de Guy de Maupassant.txt\n",
      "D:/Dev/Python/PythonForResearch/books/French/diderot/Ceci n'est pas un conte.txt\n",
      "D:/Dev/Python/PythonForResearch/books/French/diderot/Entretien d'un päre avec ses enfants.txt\n",
      "D:/Dev/Python/PythonForResearch/books/French/diderot/L'oiseau blanc.txt\n",
      "D:/Dev/Python/PythonForResearch/books/French/diderot/Les deux amis de Bourbonne.txt\n",
      "D:/Dev/Python/PythonForResearch/books/French/diderot/Regrets sur ma vieille robe de chambre.txt\n",
      "D:/Dev/Python/PythonForResearch/books/French/sand/cora.txt\n",
      "D:/Dev/Python/PythonForResearch/books/French/sand/Jacques le fataliste et son maåtre.txt\n",
      "D:/Dev/Python/PythonForResearch/books/French/sand/L' Orco.txt\n",
      "D:/Dev/Python/PythonForResearch/books/French/sand/La Coupe; Lupo Liverani; Le Toast; Garnier; Le Contrebandier; La Ràverie Ö Paris.txt\n",
      "D:/Dev/Python/PythonForResearch/books/French/sand/La Marquise.txt\n",
      "D:/Dev/Python/PythonForResearch/books/French/sand/Le Piccinino.txt\n",
      "D:/Dev/Python/PythonForResearch/books/French/sand/Le poâme de Myrza.txt\n",
      "D:/Dev/Python/PythonForResearch/books/French/sand/Mattea.txt\n",
      "D:/Dev/Python/PythonForResearch/books/French/sand/Metella.txt\n",
      "D:/Dev/Python/PythonForResearch/books/French/sand/Oeuvres illustrÇes de George Sand.txt\n",
      "D:/Dev/Python/PythonForResearch/books/French/sand/Pauline.txt\n",
      "D:/Dev/Python/PythonForResearch/books/German/lessing/der freigeist.txt\n",
      "D:/Dev/Python/PythonForResearch/books/German/lessing/der junge gelehrte.txt\n",
      "D:/Dev/Python/PythonForResearch/books/German/lessing/die juden.txt\n",
      "D:/Dev/Python/PythonForResearch/books/German/lessing/emilia galotti.txt\n",
      "D:/Dev/Python/PythonForResearch/books/German/lessing/hamburgische dramaturgie.txt\n",
      "D:/Dev/Python/PythonForResearch/books/German/lessing/minna von barnhelm.txt\n",
      "D:/Dev/Python/PythonForResearch/books/German/lessing/miss sara sampson.txt\n",
      "D:/Dev/Python/PythonForResearch/books/German/lessing/philotas.txt\n",
      "D:/Dev/Python/PythonForResearch/books/German/raimund/Das MÑdchen aus der Feenwelt.txt\n",
      "D:/Dev/Python/PythonForResearch/books/German/raimund/Der Alpenkînig und der Menschenfeind.txt\n",
      "D:/Dev/Python/PythonForResearch/books/German/raimund/Der Barometermacher auf der Zauberinsel.txt\n",
      "D:/Dev/Python/PythonForResearch/books/German/raimund/Der Diamant des Geisterkînigs.txt\n",
      "D:/Dev/Python/PythonForResearch/books/German/raimund/Der Verschwender.txt\n",
      "D:/Dev/Python/PythonForResearch/books/German/raimund/Die gefesselte Phantasie.txt\n",
      "D:/Dev/Python/PythonForResearch/books/German/raimund/Die unheilbringende Krone.txt\n",
      "D:/Dev/Python/PythonForResearch/books/German/raimund/Moisasurs Zauberfluch.txt\n",
      "D:/Dev/Python/PythonForResearch/books/German/schiller/Der Neffe als Onkel.txt\n",
      "D:/Dev/Python/PythonForResearch/books/German/schiller/Der Parasit, oder die Kunst, sein GlÅck zu machen.txt\n",
      "D:/Dev/Python/PythonForResearch/books/German/schiller/die braut von messina.txt\n",
      "D:/Dev/Python/PythonForResearch/books/German/schiller/Die Huldigung der KÅnste.txt\n",
      "D:/Dev/Python/PythonForResearch/books/German/schiller/Die Jungfrau von Orleans.txt\n",
      "D:/Dev/Python/PythonForResearch/books/German/schiller/Die Piccolomini.txt\n",
      "D:/Dev/Python/PythonForResearch/books/German/schiller/Die Verschwîrung des Fiesco zu Genua.txt\n",
      "D:/Dev/Python/PythonForResearch/books/German/schiller/Kabale und Liebe.txt\n",
      "D:/Dev/Python/PythonForResearch/books/German/schiller/Turandot, Prinzessin von China.txt\n",
      "D:/Dev/Python/PythonForResearch/books/German/schiller/Wallensteins Lager.txt\n",
      "D:/Dev/Python/PythonForResearch/books/German/schiller/Wallensteins Tod.txt\n",
      "D:/Dev/Python/PythonForResearch/books/German/shakespeare/Der Kaufmann von Venedig.txt\n",
      "D:/Dev/Python/PythonForResearch/books/German/shakespeare/Ein Sommernachtstraum.txt\n",
      "D:/Dev/Python/PythonForResearch/books/German/shakespeare/Hamlet.txt\n",
      "D:/Dev/Python/PythonForResearch/books/German/shakespeare/Macbeth.txt\n",
      "D:/Dev/Python/PythonForResearch/books/German/shakespeare/Othello.txt\n",
      "D:/Dev/Python/PythonForResearch/books/German/shakespeare/Richard III.txt\n",
      "D:/Dev/Python/PythonForResearch/books/German/shakespeare/Romeo und Julia.txt\n",
      "D:/Dev/Python/PythonForResearch/books/Portuguese/branco/A Filha do Arcediago.txt\n",
      "D:/Dev/Python/PythonForResearch/books/Portuguese/branco/A Neta do Arcediago.txt\n",
      "D:/Dev/Python/PythonForResearch/books/Portuguese/branco/A Queda d'um Anjo.txt\n",
      "D:/Dev/Python/PythonForResearch/books/Portuguese/branco/Agulha em Palheiro.txt\n",
      "D:/Dev/Python/PythonForResearch/books/Portuguese/branco/Amor de Perdição.txt\n",
      "D:/Dev/Python/PythonForResearch/books/Portuguese/branco/Amor de Salvação.txt\n",
      "D:/Dev/Python/PythonForResearch/books/Portuguese/branco/Annos de Prosa.txt\n",
      "D:/Dev/Python/PythonForResearch/books/Portuguese/branco/Carlota Angela.txt\n",
      "D:/Dev/Python/PythonForResearch/books/Portuguese/branco/Estrellas Funestas.txt\n",
      "D:/Dev/Python/PythonForResearch/books/Portuguese/branco/Estrellas Prop°cias.txt\n",
      "D:/Dev/Python/PythonForResearch/books/Portuguese/branco/Lagrimas Abenáoadas.txt\n",
      "D:/Dev/Python/PythonForResearch/books/Portuguese/branco/Livro de Consolação.txt\n",
      "D:/Dev/Python/PythonForResearch/books/Portuguese/branco/O Olho de Vidro.txt\n",
      "D:/Dev/Python/PythonForResearch/books/Portuguese/branco/O que fazem mulheres.txt\n",
      "D:/Dev/Python/PythonForResearch/books/Portuguese/branco/O Regicida.txt\n",
      "D:/Dev/Python/PythonForResearch/books/Portuguese/branco/Scenas Contemporaneas.txt\n",
      "D:/Dev/Python/PythonForResearch/books/Portuguese/dinis/A Morgadinha dos Cannaviaes.txt\n",
      "D:/Dev/Python/PythonForResearch/books/Portuguese/dinis/Os fidalgos da Casa Mourisca.txt\n",
      "D:/Dev/Python/PythonForResearch/books/Portuguese/dinis/Uma fam°lia ingleza.txt\n",
      "D:/Dev/Python/PythonForResearch/books/Portuguese/Queir¢s/A Cidade e as Serras.txt\n",
      "D:/Dev/Python/PythonForResearch/books/Portuguese/Queir¢s/A correspondància de Fradique Mendes.txt\n",
      "D:/Dev/Python/PythonForResearch/books/Portuguese/Queir¢s/A Illustre Casa de Ramires.txt\n",
      "D:/Dev/Python/PythonForResearch/books/Portuguese/Queir¢s/A Rel°quia.txt\n",
      "D:/Dev/Python/PythonForResearch/books/Portuguese/Queir¢s/Cartas de Inglaterra.txt\n",
      "D:/Dev/Python/PythonForResearch/books/Portuguese/Queir¢s/O crime do padre Amaro.txt\n",
      "D:/Dev/Python/PythonForResearch/books/Portuguese/Queir¢s/O Mandarim.txt\n",
      "D:/Dev/Python/PythonForResearch/books/Portuguese/Queir¢s/O Primo Bazilio.txt\n",
      "D:/Dev/Python/PythonForResearch/books/Portuguese/Queir¢s/Os Maias.txt\n"
     ]
    },
    {
     "name": "stdout",
     "output_type": "stream",
     "text": [
      "D:/Dev/Python/PythonForResearch/books/Portuguese/shakespeare/Hamlet.txt\n"
     ]
    }
   ],
   "source": [
    "import os\n",
    "book_dir = 'D:/Dev/Python/PythonForResearch/books'\n",
    "for language in os.listdir(book_dir):\n",
    "    for author in os.listdir(book_dir + \"/\" + language):\n",
    "        for title in os.listdir(book_dir + \"/\" + language + \"/\" + author):\n",
    "            inputfile = book_dir + \"/\" + language + \"/\" + author + \"/\" + title\n",
    "            print(inputfile)\n",
    "            text = read_book(inputfile)\n",
    "            (num_unique, counts) = word_stats(count_words(text))\n",
    "    "
   ]
  },
  {
   "cell_type": "code",
   "execution_count": 73,
   "metadata": {},
   "outputs": [
    {
     "data": {
      "text/html": [
       "<div>\n",
       "<style>\n",
       "    .dataframe thead tr:only-child th {\n",
       "        text-align: right;\n",
       "    }\n",
       "\n",
       "    .dataframe thead th {\n",
       "        text-align: left;\n",
       "    }\n",
       "\n",
       "    .dataframe tbody tr th {\n",
       "        vertical-align: top;\n",
       "    }\n",
       "</style>\n",
       "<table border=\"1\" class=\"dataframe\">\n",
       "  <thead>\n",
       "    <tr style=\"text-align: right;\">\n",
       "      <th></th>\n",
       "      <th>name</th>\n",
       "      <th>age</th>\n",
       "    </tr>\n",
       "  </thead>\n",
       "  <tbody>\n",
       "    <tr>\n",
       "      <th>1</th>\n",
       "      <td>James</td>\n",
       "      <td>22</td>\n",
       "    </tr>\n",
       "    <tr>\n",
       "      <th>2</th>\n",
       "      <td>Jess</td>\n",
       "      <td>32</td>\n",
       "    </tr>\n",
       "  </tbody>\n",
       "</table>\n",
       "</div>"
      ],
      "text/plain": [
       "    name age\n",
       "1  James  22\n",
       "2   Jess  32"
      ]
     },
     "execution_count": 73,
     "metadata": {},
     "output_type": "execute_result"
    }
   ],
   "source": [
    "import pandas as pd\n",
    "table = pd.DataFrame(columns=(\"name\", \"age\"))\n",
    "table.loc[1] = \"James\", 22\n",
    "table.loc[2] = \"Jess\", 32\n",
    "table"
   ]
  },
  {
   "cell_type": "code",
   "execution_count": 74,
   "metadata": {},
   "outputs": [
    {
     "name": "stdout",
     "output_type": "stream",
     "text": [
      "       language          author                                       title  \\\n",
      "1       English  AbrahamLincoln                           Bancroft_Copy.txt   \n",
      "2       English  AbrahamLincoln                              Bliss_Copy.txt   \n",
      "3       English  AbrahamLincoln                                DataCamp.txt   \n",
      "4       English  AbrahamLincoln                            Everett_Copy.txt   \n",
      "5       English  AbrahamLincoln                                Hay_Copy.txt   \n",
      "6       English  AbrahamLincoln                            Nicolay_Copy.txt   \n",
      "7       English     shakespeare               A Midsummer Night's Dream.txt   \n",
      "8       English     shakespeare                                  Hamlet.txt   \n",
      "9       English     shakespeare                                 Macbeth.txt   \n",
      "10      English     shakespeare                                 Othello.txt   \n",
      "11      English     shakespeare                             Richard III.txt   \n",
      "12      English     shakespeare                        Romeo and Juliet.txt   \n",
      "13      English     shakespeare                  The Merchant of Venice.txt   \n",
      "14       French       chevalier  L'enfer et le paradis de l'autre monde.txt   \n",
      "15       French       chevalier                          L'åle de sable.txt   \n",
      "16       French       chevalier                            La capitaine.txt   \n",
      "17       French       chevalier             La fille des indiens rouges.txt   \n",
      "18       French       chevalier                      La fille du pirate.txt   \n",
      "19       French       chevalier                        Le chasseur noir.txt   \n",
      "20       French       chevalier                   Les derniers Iroquois.txt   \n",
      "21       French   de Maupassant                           Boule de Suif.txt   \n",
      "22       French   de Maupassant                          Claire de Lune.txt   \n",
      "23       French   de Maupassant                    Contes de la Becasse.txt   \n",
      "24       French   de Maupassant                        L'inutile beautÇ.txt   \n",
      "25       French   de Maupassant                          La Main Gauche.txt   \n",
      "26       French   de Maupassant                       La Maison Tellier.txt   \n",
      "27       French   de Maupassant                         La petite roque.txt   \n",
      "28       French   de Maupassant                                Le Horla.txt   \n",
      "29       French   de Maupassant   Œuvres complètes de Guy de Maupassant.txt   \n",
      "30       French         diderot                 Ceci n'est pas un conte.txt   \n",
      "..          ...             ...                                         ...   \n",
      "79       German     shakespeare                         Romeo und Julia.txt   \n",
      "80   Portuguese          branco                    A Filha do Arcediago.txt   \n",
      "81   Portuguese          branco                     A Neta do Arcediago.txt   \n",
      "82   Portuguese          branco                       A Queda d'um Anjo.txt   \n",
      "83   Portuguese          branco                      Agulha em Palheiro.txt   \n",
      "84   Portuguese          branco                        Amor de Perdição.txt   \n",
      "85   Portuguese          branco                        Amor de Salvação.txt   \n",
      "86   Portuguese          branco                          Annos de Prosa.txt   \n",
      "87   Portuguese          branco                          Carlota Angela.txt   \n",
      "88   Portuguese          branco                      Estrellas Funestas.txt   \n",
      "89   Portuguese          branco                     Estrellas Prop°cias.txt   \n",
      "90   Portuguese          branco                     Lagrimas Abenáoadas.txt   \n",
      "91   Portuguese          branco                     Livro de Consolação.txt   \n",
      "92   Portuguese          branco                         O Olho de Vidro.txt   \n",
      "93   Portuguese          branco                    O que fazem mulheres.txt   \n",
      "94   Portuguese          branco                              O Regicida.txt   \n",
      "95   Portuguese          branco                   Scenas Contemporaneas.txt   \n",
      "96   Portuguese           dinis             A Morgadinha dos Cannaviaes.txt   \n",
      "97   Portuguese           dinis            Os fidalgos da Casa Mourisca.txt   \n",
      "98   Portuguese           dinis                     Uma fam°lia ingleza.txt   \n",
      "99   Portuguese         Queir¢s                    A Cidade e as Serras.txt   \n",
      "100  Portuguese         Queir¢s    A correspondància de Fradique Mendes.txt   \n",
      "101  Portuguese         Queir¢s              A Illustre Casa de Ramires.txt   \n",
      "102  Portuguese         Queir¢s                              A Rel°quia.txt   \n",
      "103  Portuguese         Queir¢s                    Cartas de Inglaterra.txt   \n",
      "104  Portuguese         Queir¢s                  O crime do padre Amaro.txt   \n",
      "105  Portuguese         Queir¢s                              O Mandarim.txt   \n",
      "106  Portuguese         Queir¢s                         O Primo Bazilio.txt   \n",
      "107  Portuguese         Queir¢s                                Os Maias.txt   \n",
      "108  Portuguese     shakespeare                                  Hamlet.txt   \n",
      "\n",
      "     length unique  \n",
      "1       270    138  \n",
      "2       276    139  \n",
      "3         1      1  \n",
      "4       268    139  \n",
      "5       264    136  \n",
      "6       235    127  \n",
      "7     16103   4345  \n",
      "8     28551   6776  \n",
      "9     16874   4780  \n",
      "10    26590   5898  \n",
      "11    48315   5449  \n",
      "12    40776   5118  \n",
      "13    20949   4978  \n",
      "14    40827  10831  \n",
      "15    73801  18989  \n",
      "16    46306  13083  \n",
      "17    66621  17875  \n",
      "18    52519  14649  \n",
      "19    51341  12945  \n",
      "20    55565  15583  \n",
      "21    35905  10725  \n",
      "22    25975   8076  \n",
      "23    34723  10210  \n",
      "24    37840  10781  \n",
      "25    33481   9983  \n",
      "26    43685  12305  \n",
      "27    40688  10890  \n",
      "28    41485  11091  \n",
      "29    54772  15028  \n",
      "30    10938   3674  \n",
      "..      ...    ...  \n",
      "79    20311   7527  \n",
      "80    74446  18238  \n",
      "81    52996  14549  \n",
      "82    48022  15133  \n",
      "83    43575  12761  \n",
      "84    46751  12884  \n",
      "85    47739  14337  \n",
      "86    61473  16987  \n",
      "87    46927  13456  \n",
      "88    46709  13450  \n",
      "89    43445  12478  \n",
      "90    45182  12622  \n",
      "91    54151  15871  \n",
      "92    45461  13180  \n",
      "93    41175  12316  \n",
      "94    50751  14779  \n",
      "95    48889  14395  \n",
      "96   134382  30728  \n",
      "97   130834  27834  \n",
      "98   109270  26786  \n",
      "99    65225  19230  \n",
      "100   52982  16648  \n",
      "101   98218  25353  \n",
      "102   77627  21399  \n",
      "103   44293  13898  \n",
      "104  128630  29300  \n",
      "105   21440   7836  \n",
      "106  107303  27644  \n",
      "107  195771  40665  \n",
      "108   30567   9700  \n",
      "\n",
      "[108 rows x 5 columns]\n"
     ]
    }
   ],
   "source": [
    "import os\n",
    "book_dir = 'D:/Dev/Python/PythonForResearch/books'\n",
    "\n",
    "import pandas as pd\n",
    "stats = pd.DataFrame(columns=(\"language\", \"author\", \"title\", \"length\", \"unique\"))\n",
    "title_num = 1\n",
    "\n",
    "for language in os.listdir(book_dir):\n",
    "    for author in os.listdir(book_dir + \"/\" + language):\n",
    "        for title in os.listdir(book_dir + \"/\" + language + \"/\" + author):\n",
    "            inputfile = book_dir + \"/\" + language + \"/\" + author + \"/\" + title\n",
    "            # print(inputfile)\n",
    "            text = read_book(inputfile)\n",
    "            (num_unique, counts) = word_stats(count_words(text))\n",
    "            stats.loc[title_num] = language, author, title, sum(counts), num_unique\n",
    "            title_num += 1\n",
    "print(stats)"
   ]
  },
  {
   "cell_type": "code",
   "execution_count": 75,
   "metadata": {},
   "outputs": [
    {
     "name": "stdout",
     "output_type": "stream",
     "text": [
      "  language          author              title length unique\n",
      "1  English  AbrahamLincoln  Bancroft_Copy.txt    270    138\n",
      "2  English  AbrahamLincoln     Bliss_Copy.txt    276    139\n",
      "3  English  AbrahamLincoln       DataCamp.txt      1      1\n",
      "4  English  AbrahamLincoln   Everett_Copy.txt    268    139\n",
      "5  English  AbrahamLincoln       Hay_Copy.txt    264    136\n"
     ]
    }
   ],
   "source": [
    "print(stats.head())"
   ]
  },
  {
   "cell_type": "code",
   "execution_count": 76,
   "metadata": {},
   "outputs": [],
   "source": [
    "import os\n",
    "book_dir = 'D:/Dev/Python/PythonForResearch/books'\n",
    "\n",
    "import pandas as pd\n",
    "stats = pd.DataFrame(columns=(\"language\", \"author\", \"title\", \"length\", \"unique\"))\n",
    "title_num = 1\n",
    "\n",
    "for language in os.listdir(book_dir):\n",
    "    for author in os.listdir(book_dir + \"/\" + language):\n",
    "        for title in os.listdir(book_dir + \"/\" + language + \"/\" + author):\n",
    "            inputfile = book_dir + \"/\" + language + \"/\" + author + \"/\" + title\n",
    "            # print(inputfile)\n",
    "            text = read_book(inputfile)\n",
    "            (num_unique, counts) = word_stats(count_words(text))\n",
    "            stats.loc[title_num] = language, author.capitalize(), title.replace(\".txt\", \"\"), sum(counts), num_unique\n",
    "            title_num += 1"
   ]
  },
  {
   "cell_type": "code",
   "execution_count": 78,
   "metadata": {},
   "outputs": [
    {
     "name": "stdout",
     "output_type": "stream",
     "text": [
      "  language          author          title length unique\n",
      "1  English  Abrahamlincoln  Bancroft_Copy    270    138\n",
      "2  English  Abrahamlincoln     Bliss_Copy    276    139\n",
      "3  English  Abrahamlincoln       DataCamp      1      1\n",
      "4  English  Abrahamlincoln   Everett_Copy    268    139\n",
      "5  English  Abrahamlincoln       Hay_Copy    264    136\n"
     ]
    }
   ],
   "source": [
    "print(stats.head())"
   ]
  },
  {
   "cell_type": "markdown",
   "metadata": {},
   "source": [
    "What type of object does os.listdir return?  \n",
    "ANSWER: LIST  \n",
    "  \n",
    "What pandas method allows you to insert a row to a dataframe?  \n",
    "ANSWER: loc  \n",
    "  \n",
    "How can you increase a numerical title_num value by 1?   \n",
    "ANSWER: title_num += 1  \n",
    "  \n",
    "How can you retrieve the first and last few rows of a pandas dataframe called stats?  \n",
    "ANSWER: stats.head() and stats.tail()  "
   ]
  },
  {
   "cell_type": "markdown",
   "metadata": {},
   "source": [
    "### Plotting Book Statistics"
   ]
  },
  {
   "cell_type": "code",
   "execution_count": 79,
   "metadata": {},
   "outputs": [
    {
     "name": "stdout",
     "output_type": "stream",
     "text": [
      "1         270\n",
      "2         276\n",
      "3           1\n",
      "4         268\n",
      "5         264\n",
      "6         235\n",
      "7       16103\n",
      "8       28551\n",
      "9       16874\n",
      "10      26590\n",
      "11      48315\n",
      "12      40776\n",
      "13      20949\n",
      "14      40827\n",
      "15      73801\n",
      "16      46306\n",
      "17      66621\n",
      "18      52519\n",
      "19      51341\n",
      "20      55565\n",
      "21      35905\n",
      "22      25975\n",
      "23      34723\n",
      "24      37840\n",
      "25      33481\n",
      "26      43685\n",
      "27      40688\n",
      "28      41485\n",
      "29      54772\n",
      "30      10938\n",
      "        ...  \n",
      "79      20311\n",
      "80      74446\n",
      "81      52996\n",
      "82      48022\n",
      "83      43575\n",
      "84      46751\n",
      "85      47739\n",
      "86      61473\n",
      "87      46927\n",
      "88      46709\n",
      "89      43445\n",
      "90      45182\n",
      "91      54151\n",
      "92      45461\n",
      "93      41175\n",
      "94      50751\n",
      "95      48889\n",
      "96     134382\n",
      "97     130834\n",
      "98     109270\n",
      "99      65225\n",
      "100     52982\n",
      "101     98218\n",
      "102     77627\n",
      "103     44293\n",
      "104    128630\n",
      "105     21440\n",
      "106    107303\n",
      "107    195771\n",
      "108     30567\n",
      "Name: length, Length: 108, dtype: object\n"
     ]
    }
   ],
   "source": [
    "print(stats.length)"
   ]
  },
  {
   "cell_type": "code",
   "execution_count": 80,
   "metadata": {},
   "outputs": [
    {
     "data": {
      "text/plain": [
       "1        138\n",
       "2        139\n",
       "3          1\n",
       "4        139\n",
       "5        136\n",
       "6        127\n",
       "7       4345\n",
       "8       6776\n",
       "9       4780\n",
       "10      5898\n",
       "11      5449\n",
       "12      5118\n",
       "13      4978\n",
       "14     10831\n",
       "15     18989\n",
       "16     13083\n",
       "17     17875\n",
       "18     14649\n",
       "19     12945\n",
       "20     15583\n",
       "21     10725\n",
       "22      8076\n",
       "23     10210\n",
       "24     10781\n",
       "25      9983\n",
       "26     12305\n",
       "27     10890\n",
       "28     11091\n",
       "29     15028\n",
       "30      3674\n",
       "       ...  \n",
       "79      7527\n",
       "80     18238\n",
       "81     14549\n",
       "82     15133\n",
       "83     12761\n",
       "84     12884\n",
       "85     14337\n",
       "86     16987\n",
       "87     13456\n",
       "88     13450\n",
       "89     12478\n",
       "90     12622\n",
       "91     15871\n",
       "92     13180\n",
       "93     12316\n",
       "94     14779\n",
       "95     14395\n",
       "96     30728\n",
       "97     27834\n",
       "98     26786\n",
       "99     19230\n",
       "100    16648\n",
       "101    25353\n",
       "102    21399\n",
       "103    13898\n",
       "104    29300\n",
       "105     7836\n",
       "106    27644\n",
       "107    40665\n",
       "108     9700\n",
       "Name: unique, Length: 108, dtype: object"
      ]
     },
     "execution_count": 80,
     "metadata": {},
     "output_type": "execute_result"
    }
   ],
   "source": [
    "stats.unique"
   ]
  },
  {
   "cell_type": "code",
   "execution_count": 81,
   "metadata": {},
   "outputs": [
    {
     "data": {
      "image/png": "[encoded data removed]",
      "text/plain": [
       "<matplotlib.figure.Figure at 0x22026e8bcc0>"
      ]
     },
     "metadata": {},
     "output_type": "display_data"
    }
   ],
   "source": [
    "import matplotlib.pyplot as plt\n",
    "plt.plot(stats.length, stats.unique, \"bo\")\n",
    "plt.show()"
   ]
  },
  {
   "cell_type": "code",
   "execution_count": 82,
   "metadata": {},
   "outputs": [
    {
     "data": {
      "image/png": "[encoded data removed]",
      "text/plain": [
       "<matplotlib.figure.Figure at 0x22026f8e978>"
      ]
     },
     "metadata": {},
     "output_type": "display_data"
    }
   ],
   "source": [
    "plt.loglog(stats.length, stats.unique, \"bo\")\n",
    "plt.show()"
   ]
  },
  {
   "cell_type": "code",
   "execution_count": 83,
   "metadata": {},
   "outputs": [
    {
     "data": {
      "text/html": [
       "<div>\n",
       "<style>\n",
       "    .dataframe thead tr:only-child th {\n",
       "        text-align: right;\n",
       "    }\n",
       "\n",
       "    .dataframe thead th {\n",
       "        text-align: left;\n",
       "    }\n",
       "\n",
       "    .dataframe tbody tr th {\n",
       "        vertical-align: top;\n",
       "    }\n",
       "</style>\n",
       "<table border=\"1\" class=\"dataframe\">\n",
       "  <thead>\n",
       "    <tr style=\"text-align: right;\">\n",
       "      <th></th>\n",
       "      <th>language</th>\n",
       "      <th>author</th>\n",
       "      <th>title</th>\n",
       "      <th>length</th>\n",
       "      <th>unique</th>\n",
       "    </tr>\n",
       "  </thead>\n",
       "  <tbody>\n",
       "    <tr>\n",
       "      <th>1</th>\n",
       "      <td>English</td>\n",
       "      <td>Abrahamlincoln</td>\n",
       "      <td>Bancroft_Copy</td>\n",
       "      <td>270</td>\n",
       "      <td>138</td>\n",
       "    </tr>\n",
       "    <tr>\n",
       "      <th>2</th>\n",
       "      <td>English</td>\n",
       "      <td>Abrahamlincoln</td>\n",
       "      <td>Bliss_Copy</td>\n",
       "      <td>276</td>\n",
       "      <td>139</td>\n",
       "    </tr>\n",
       "    <tr>\n",
       "      <th>3</th>\n",
       "      <td>English</td>\n",
       "      <td>Abrahamlincoln</td>\n",
       "      <td>DataCamp</td>\n",
       "      <td>1</td>\n",
       "      <td>1</td>\n",
       "    </tr>\n",
       "    <tr>\n",
       "      <th>4</th>\n",
       "      <td>English</td>\n",
       "      <td>Abrahamlincoln</td>\n",
       "      <td>Everett_Copy</td>\n",
       "      <td>268</td>\n",
       "      <td>139</td>\n",
       "    </tr>\n",
       "    <tr>\n",
       "      <th>5</th>\n",
       "      <td>English</td>\n",
       "      <td>Abrahamlincoln</td>\n",
       "      <td>Hay_Copy</td>\n",
       "      <td>264</td>\n",
       "      <td>136</td>\n",
       "    </tr>\n",
       "    <tr>\n",
       "      <th>6</th>\n",
       "      <td>English</td>\n",
       "      <td>Abrahamlincoln</td>\n",
       "      <td>Nicolay_Copy</td>\n",
       "      <td>235</td>\n",
       "      <td>127</td>\n",
       "    </tr>\n",
       "    <tr>\n",
       "      <th>7</th>\n",
       "      <td>English</td>\n",
       "      <td>Shakespeare</td>\n",
       "      <td>A Midsummer Night's Dream</td>\n",
       "      <td>16103</td>\n",
       "      <td>4345</td>\n",
       "    </tr>\n",
       "    <tr>\n",
       "      <th>8</th>\n",
       "      <td>English</td>\n",
       "      <td>Shakespeare</td>\n",
       "      <td>Hamlet</td>\n",
       "      <td>28551</td>\n",
       "      <td>6776</td>\n",
       "    </tr>\n",
       "    <tr>\n",
       "      <th>9</th>\n",
       "      <td>English</td>\n",
       "      <td>Shakespeare</td>\n",
       "      <td>Macbeth</td>\n",
       "      <td>16874</td>\n",
       "      <td>4780</td>\n",
       "    </tr>\n",
       "    <tr>\n",
       "      <th>10</th>\n",
       "      <td>English</td>\n",
       "      <td>Shakespeare</td>\n",
       "      <td>Othello</td>\n",
       "      <td>26590</td>\n",
       "      <td>5898</td>\n",
       "    </tr>\n",
       "    <tr>\n",
       "      <th>11</th>\n",
       "      <td>English</td>\n",
       "      <td>Shakespeare</td>\n",
       "      <td>Richard III</td>\n",
       "      <td>48315</td>\n",
       "      <td>5449</td>\n",
       "    </tr>\n",
       "    <tr>\n",
       "      <th>12</th>\n",
       "      <td>English</td>\n",
       "      <td>Shakespeare</td>\n",
       "      <td>Romeo and Juliet</td>\n",
       "      <td>40776</td>\n",
       "      <td>5118</td>\n",
       "    </tr>\n",
       "    <tr>\n",
       "      <th>13</th>\n",
       "      <td>English</td>\n",
       "      <td>Shakespeare</td>\n",
       "      <td>The Merchant of Venice</td>\n",
       "      <td>20949</td>\n",
       "      <td>4978</td>\n",
       "    </tr>\n",
       "  </tbody>\n",
       "</table>\n",
       "</div>"
      ],
      "text/plain": [
       "   language          author                      title length unique\n",
       "1   English  Abrahamlincoln              Bancroft_Copy    270    138\n",
       "2   English  Abrahamlincoln                 Bliss_Copy    276    139\n",
       "3   English  Abrahamlincoln                   DataCamp      1      1\n",
       "4   English  Abrahamlincoln               Everett_Copy    268    139\n",
       "5   English  Abrahamlincoln                   Hay_Copy    264    136\n",
       "6   English  Abrahamlincoln               Nicolay_Copy    235    127\n",
       "7   English     Shakespeare  A Midsummer Night's Dream  16103   4345\n",
       "8   English     Shakespeare                     Hamlet  28551   6776\n",
       "9   English     Shakespeare                    Macbeth  16874   4780\n",
       "10  English     Shakespeare                    Othello  26590   5898\n",
       "11  English     Shakespeare                Richard III  48315   5449\n",
       "12  English     Shakespeare           Romeo and Juliet  40776   5118\n",
       "13  English     Shakespeare     The Merchant of Venice  20949   4978"
      ]
     },
     "execution_count": 83,
     "metadata": {},
     "output_type": "execute_result"
    }
   ],
   "source": [
    "stats[stats.language == 'English']"
   ]
  },
  {
   "cell_type": "code",
   "execution_count": 84,
   "metadata": {},
   "outputs": [
    {
     "data": {
      "text/html": [
       "<div>\n",
       "<style>\n",
       "    .dataframe thead tr:only-child th {\n",
       "        text-align: right;\n",
       "    }\n",
       "\n",
       "    .dataframe thead th {\n",
       "        text-align: left;\n",
       "    }\n",
       "\n",
       "    .dataframe tbody tr th {\n",
       "        vertical-align: top;\n",
       "    }\n",
       "</style>\n",
       "<table border=\"1\" class=\"dataframe\">\n",
       "  <thead>\n",
       "    <tr style=\"text-align: right;\">\n",
       "      <th></th>\n",
       "      <th>language</th>\n",
       "      <th>author</th>\n",
       "      <th>title</th>\n",
       "      <th>length</th>\n",
       "      <th>unique</th>\n",
       "    </tr>\n",
       "  </thead>\n",
       "  <tbody>\n",
       "    <tr>\n",
       "      <th>14</th>\n",
       "      <td>French</td>\n",
       "      <td>Chevalier</td>\n",
       "      <td>L'enfer et le paradis de l'autre monde</td>\n",
       "      <td>40827</td>\n",
       "      <td>10831</td>\n",
       "    </tr>\n",
       "    <tr>\n",
       "      <th>15</th>\n",
       "      <td>French</td>\n",
       "      <td>Chevalier</td>\n",
       "      <td>L'åle de sable</td>\n",
       "      <td>73801</td>\n",
       "      <td>18989</td>\n",
       "    </tr>\n",
       "    <tr>\n",
       "      <th>16</th>\n",
       "      <td>French</td>\n",
       "      <td>Chevalier</td>\n",
       "      <td>La capitaine</td>\n",
       "      <td>46306</td>\n",
       "      <td>13083</td>\n",
       "    </tr>\n",
       "    <tr>\n",
       "      <th>17</th>\n",
       "      <td>French</td>\n",
       "      <td>Chevalier</td>\n",
       "      <td>La fille des indiens rouges</td>\n",
       "      <td>66621</td>\n",
       "      <td>17875</td>\n",
       "    </tr>\n",
       "    <tr>\n",
       "      <th>18</th>\n",
       "      <td>French</td>\n",
       "      <td>Chevalier</td>\n",
       "      <td>La fille du pirate</td>\n",
       "      <td>52519</td>\n",
       "      <td>14649</td>\n",
       "    </tr>\n",
       "    <tr>\n",
       "      <th>19</th>\n",
       "      <td>French</td>\n",
       "      <td>Chevalier</td>\n",
       "      <td>Le chasseur noir</td>\n",
       "      <td>51341</td>\n",
       "      <td>12945</td>\n",
       "    </tr>\n",
       "    <tr>\n",
       "      <th>20</th>\n",
       "      <td>French</td>\n",
       "      <td>Chevalier</td>\n",
       "      <td>Les derniers Iroquois</td>\n",
       "      <td>55565</td>\n",
       "      <td>15583</td>\n",
       "    </tr>\n",
       "    <tr>\n",
       "      <th>21</th>\n",
       "      <td>French</td>\n",
       "      <td>De maupassant</td>\n",
       "      <td>Boule de Suif</td>\n",
       "      <td>35905</td>\n",
       "      <td>10725</td>\n",
       "    </tr>\n",
       "    <tr>\n",
       "      <th>22</th>\n",
       "      <td>French</td>\n",
       "      <td>De maupassant</td>\n",
       "      <td>Claire de Lune</td>\n",
       "      <td>25975</td>\n",
       "      <td>8076</td>\n",
       "    </tr>\n",
       "    <tr>\n",
       "      <th>23</th>\n",
       "      <td>French</td>\n",
       "      <td>De maupassant</td>\n",
       "      <td>Contes de la Becasse</td>\n",
       "      <td>34723</td>\n",
       "      <td>10210</td>\n",
       "    </tr>\n",
       "    <tr>\n",
       "      <th>24</th>\n",
       "      <td>French</td>\n",
       "      <td>De maupassant</td>\n",
       "      <td>L'inutile beautÇ</td>\n",
       "      <td>37840</td>\n",
       "      <td>10781</td>\n",
       "    </tr>\n",
       "    <tr>\n",
       "      <th>25</th>\n",
       "      <td>French</td>\n",
       "      <td>De maupassant</td>\n",
       "      <td>La Main Gauche</td>\n",
       "      <td>33481</td>\n",
       "      <td>9983</td>\n",
       "    </tr>\n",
       "    <tr>\n",
       "      <th>26</th>\n",
       "      <td>French</td>\n",
       "      <td>De maupassant</td>\n",
       "      <td>La Maison Tellier</td>\n",
       "      <td>43685</td>\n",
       "      <td>12305</td>\n",
       "    </tr>\n",
       "    <tr>\n",
       "      <th>27</th>\n",
       "      <td>French</td>\n",
       "      <td>De maupassant</td>\n",
       "      <td>La petite roque</td>\n",
       "      <td>40688</td>\n",
       "      <td>10890</td>\n",
       "    </tr>\n",
       "    <tr>\n",
       "      <th>28</th>\n",
       "      <td>French</td>\n",
       "      <td>De maupassant</td>\n",
       "      <td>Le Horla</td>\n",
       "      <td>41485</td>\n",
       "      <td>11091</td>\n",
       "    </tr>\n",
       "    <tr>\n",
       "      <th>29</th>\n",
       "      <td>French</td>\n",
       "      <td>De maupassant</td>\n",
       "      <td>Œuvres complètes de Guy de Maupassant</td>\n",
       "      <td>54772</td>\n",
       "      <td>15028</td>\n",
       "    </tr>\n",
       "    <tr>\n",
       "      <th>30</th>\n",
       "      <td>French</td>\n",
       "      <td>Diderot</td>\n",
       "      <td>Ceci n'est pas un conte</td>\n",
       "      <td>10938</td>\n",
       "      <td>3674</td>\n",
       "    </tr>\n",
       "    <tr>\n",
       "      <th>31</th>\n",
       "      <td>French</td>\n",
       "      <td>Diderot</td>\n",
       "      <td>Entretien d'un päre avec ses enfants</td>\n",
       "      <td>11125</td>\n",
       "      <td>3720</td>\n",
       "    </tr>\n",
       "    <tr>\n",
       "      <th>32</th>\n",
       "      <td>French</td>\n",
       "      <td>Diderot</td>\n",
       "      <td>L'oiseau blanc</td>\n",
       "      <td>21973</td>\n",
       "      <td>6337</td>\n",
       "    </tr>\n",
       "    <tr>\n",
       "      <th>33</th>\n",
       "      <td>French</td>\n",
       "      <td>Diderot</td>\n",
       "      <td>Les deux amis de Bourbonne</td>\n",
       "      <td>8510</td>\n",
       "      <td>2929</td>\n",
       "    </tr>\n",
       "    <tr>\n",
       "      <th>34</th>\n",
       "      <td>French</td>\n",
       "      <td>Diderot</td>\n",
       "      <td>Regrets sur ma vieille robe de chambre</td>\n",
       "      <td>4980</td>\n",
       "      <td>1876</td>\n",
       "    </tr>\n",
       "    <tr>\n",
       "      <th>35</th>\n",
       "      <td>French</td>\n",
       "      <td>Sand</td>\n",
       "      <td>cora</td>\n",
       "      <td>12370</td>\n",
       "      <td>4370</td>\n",
       "    </tr>\n",
       "    <tr>\n",
       "      <th>36</th>\n",
       "      <td>French</td>\n",
       "      <td>Sand</td>\n",
       "      <td>Jacques le fataliste et son maåtre</td>\n",
       "      <td>85756</td>\n",
       "      <td>18744</td>\n",
       "    </tr>\n",
       "    <tr>\n",
       "      <th>37</th>\n",
       "      <td>French</td>\n",
       "      <td>Sand</td>\n",
       "      <td>L' Orco</td>\n",
       "      <td>8748</td>\n",
       "      <td>3162</td>\n",
       "    </tr>\n",
       "    <tr>\n",
       "      <th>38</th>\n",
       "      <td>French</td>\n",
       "      <td>Sand</td>\n",
       "      <td>La Coupe; Lupo Liverani; Le Toast; Garnier; Le...</td>\n",
       "      <td>47831</td>\n",
       "      <td>12540</td>\n",
       "    </tr>\n",
       "    <tr>\n",
       "      <th>39</th>\n",
       "      <td>French</td>\n",
       "      <td>Sand</td>\n",
       "      <td>La Marquise</td>\n",
       "      <td>14716</td>\n",
       "      <td>4786</td>\n",
       "    </tr>\n",
       "    <tr>\n",
       "      <th>40</th>\n",
       "      <td>French</td>\n",
       "      <td>Sand</td>\n",
       "      <td>Le Piccinino</td>\n",
       "      <td>151405</td>\n",
       "      <td>27435</td>\n",
       "    </tr>\n",
       "    <tr>\n",
       "      <th>41</th>\n",
       "      <td>French</td>\n",
       "      <td>Sand</td>\n",
       "      <td>Le poâme de Myrza</td>\n",
       "      <td>12771</td>\n",
       "      <td>4348</td>\n",
       "    </tr>\n",
       "    <tr>\n",
       "      <th>42</th>\n",
       "      <td>French</td>\n",
       "      <td>Sand</td>\n",
       "      <td>Mattea</td>\n",
       "      <td>21089</td>\n",
       "      <td>6429</td>\n",
       "    </tr>\n",
       "    <tr>\n",
       "      <th>43</th>\n",
       "      <td>French</td>\n",
       "      <td>Sand</td>\n",
       "      <td>Metella</td>\n",
       "      <td>19600</td>\n",
       "      <td>5715</td>\n",
       "    </tr>\n",
       "    <tr>\n",
       "      <th>44</th>\n",
       "      <td>French</td>\n",
       "      <td>Sand</td>\n",
       "      <td>Oeuvres illustrÇes de George Sand</td>\n",
       "      <td>23210</td>\n",
       "      <td>7503</td>\n",
       "    </tr>\n",
       "    <tr>\n",
       "      <th>45</th>\n",
       "      <td>French</td>\n",
       "      <td>Sand</td>\n",
       "      <td>Pauline</td>\n",
       "      <td>27486</td>\n",
       "      <td>7901</td>\n",
       "    </tr>\n",
       "  </tbody>\n",
       "</table>\n",
       "</div>"
      ],
      "text/plain": [
       "   language         author                                              title  \\\n",
       "14   French      Chevalier             L'enfer et le paradis de l'autre monde   \n",
       "15   French      Chevalier                                     L'åle de sable   \n",
       "16   French      Chevalier                                       La capitaine   \n",
       "17   French      Chevalier                        La fille des indiens rouges   \n",
       "18   French      Chevalier                                 La fille du pirate   \n",
       "19   French      Chevalier                                   Le chasseur noir   \n",
       "20   French      Chevalier                              Les derniers Iroquois   \n",
       "21   French  De maupassant                                      Boule de Suif   \n",
       "22   French  De maupassant                                     Claire de Lune   \n",
       "23   French  De maupassant                               Contes de la Becasse   \n",
       "24   French  De maupassant                                   L'inutile beautÇ   \n",
       "25   French  De maupassant                                     La Main Gauche   \n",
       "26   French  De maupassant                                  La Maison Tellier   \n",
       "27   French  De maupassant                                    La petite roque   \n",
       "28   French  De maupassant                                           Le Horla   \n",
       "29   French  De maupassant              Œuvres complètes de Guy de Maupassant   \n",
       "30   French        Diderot                            Ceci n'est pas un conte   \n",
       "31   French        Diderot               Entretien d'un päre avec ses enfants   \n",
       "32   French        Diderot                                     L'oiseau blanc   \n",
       "33   French        Diderot                         Les deux amis de Bourbonne   \n",
       "34   French        Diderot             Regrets sur ma vieille robe de chambre   \n",
       "35   French           Sand                                               cora   \n",
       "36   French           Sand                 Jacques le fataliste et son maåtre   \n",
       "37   French           Sand                                            L' Orco   \n",
       "38   French           Sand  La Coupe; Lupo Liverani; Le Toast; Garnier; Le...   \n",
       "39   French           Sand                                        La Marquise   \n",
       "40   French           Sand                                       Le Piccinino   \n",
       "41   French           Sand                                  Le poâme de Myrza   \n",
       "42   French           Sand                                             Mattea   \n",
       "43   French           Sand                                            Metella   \n",
       "44   French           Sand                  Oeuvres illustrÇes de George Sand   \n",
       "45   French           Sand                                            Pauline   \n",
       "\n",
       "    length unique  \n",
       "14   40827  10831  \n",
       "15   73801  18989  \n",
       "16   46306  13083  \n",
       "17   66621  17875  \n",
       "18   52519  14649  \n",
       "19   51341  12945  \n",
       "20   55565  15583  \n",
       "21   35905  10725  \n",
       "22   25975   8076  \n",
       "23   34723  10210  \n",
       "24   37840  10781  \n",
       "25   33481   9983  \n",
       "26   43685  12305  \n",
       "27   40688  10890  \n",
       "28   41485  11091  \n",
       "29   54772  15028  \n",
       "30   10938   3674  \n",
       "31   11125   3720  \n",
       "32   21973   6337  \n",
       "33    8510   2929  \n",
       "34    4980   1876  \n",
       "35   12370   4370  \n",
       "36   85756  18744  \n",
       "37    8748   3162  \n",
       "38   47831  12540  \n",
       "39   14716   4786  \n",
       "40  151405  27435  \n",
       "41   12771   4348  \n",
       "42   21089   6429  \n",
       "43   19600   5715  \n",
       "44   23210   7503  \n",
       "45   27486   7901  "
      ]
     },
     "execution_count": 84,
     "metadata": {},
     "output_type": "execute_result"
    }
   ],
   "source": [
    "stats[stats.language == 'French']"
   ]
  },
  {
   "cell_type": "code",
   "execution_count": 85,
   "metadata": {},
   "outputs": [
    {
     "data": {
      "image/png": "[encoded data removed]",
      "text/plain": [
       "<matplotlib.figure.Figure at 0x2202b8beac8>"
      ]
     },
     "metadata": {},
     "output_type": "display_data"
    }
   ],
   "source": [
    "plt.figure(figsize = (10,10))\n",
    "subset = stats[stats.language == 'English']\n",
    "plt.loglog(subset.length, subset.unique, \"o\", label = \"English\", color=\"crimson\")\n",
    "\n",
    "subset = stats[stats.language == 'French']\n",
    "plt.loglog(subset.length, subset.unique, \"o\", label = \"French\", color=\"forestgreen\")\n",
    "\n",
    "subset = stats[stats.language == 'German']\n",
    "plt.loglog(subset.length, subset.unique, \"o\", label = \"German\", color=\"orange\")\n",
    "\n",
    "subset = stats[stats.language == 'Portuguese']\n",
    "plt.loglog(subset.length, subset.unique, \"o\", label = \"Portuguese\", color=\"blueviolet\")\n",
    "plt.legend()\n",
    "plt.xlabel(\"Book length\")\n",
    "plt.ylabel(\"Number of unuque words\")\n",
    "plt.savefig(\"lang_plot.pdf\")\n",
    "plt.show()"
   ]
  },
  {
   "cell_type": "markdown",
   "metadata": {},
   "source": [
    "stats is a Pandas dataframe, How can you access the column \"length\" in this dataframe?    \n",
    "ANsWER: stats.length and stats[\"length\"]  \n",
    "    \n",
    "How can you select only the rows where the language is French?  \n",
    "ANSWER: stats[stats.language == \"French\"]"
   ]
  },
  {
   "cell_type": "markdown",
   "metadata": {
    "collapsed": true
   },
   "source": [
    "### Exercise 1\n",
    "In this case study, we will find and plot the distribution of word frequencies for each translation of Hamlet. Perhaps the distribution of word frequencies of Hamlet depends on the translation --- let's find out!  \n",
    "  \n",
    "For these exercises, functions count_words_fast, read_book, and word_stats are already defined as in the Case 2 Videos (Videos 3.2.x).  \n",
    "  \n",
    "Write a function word_count_distribution(text) that takes a book string and returns a dictionary with items corresponding to the count of times a collection of words appears in the translation, and values corresponding to the number of number of words that appear with that frequency.  \n",
    "  \n",
    "First use count_words_fast(text) to create a dictionary called word_counts with unique words in the dictionary as keys and their frequency in the book as values.  \n",
    "  \n",
    "Next, create and return a new dictionary count_distribution with unique values from word_counts as keys and their frequency as values. For example, 'you are what you eat' contains three words that occur once and one word that occurs twice, so word_count_distribution('you are what you eat') should return a dictionary {1:3, 2:1}.  \n",
    "  \n",
    "'Romeo and Juliet' is preloaded as text. Call word_count_distribution(text), and save the result as distribution."
   ]
  },
  {
   "cell_type": "code",
   "execution_count": 86,
   "metadata": {
    "collapsed": true
   },
   "outputs": [],
   "source": [
    "from collections import Counter\n",
    "import os\n",
    "os.chdir('D:/Dev/Python/PythonForResearch/books/English/shakespeare')\n",
    "\n",
    "with open('Romeo and Juliet.txt', \"r\") as f:\n",
    "    seq = f.read()\n",
    "    seq = seq.replace(\"\\n\", \"\")\n",
    "    seq = seq.replace(\"\\r\", \"\")\n",
    "    \n",
    "def count_words_fast(text):\n",
    "    \"\"\"Count the number of times each word occurs in text (str). Return dictionary where keys are unique words \n",
    "    and values are word counts. Skip punctuation. using the collection\"\"\"\n",
    "    text = text.lower()\n",
    "    skips = [\".\",\",\",\":\",\";\",\"'\",'\"']\n",
    "    for ch in skips:\n",
    "        text = text.replace(ch, \"\")\n",
    "        \n",
    "    word_counts = Counter(text.split(\" \"))\n",
    "    return word_counts\n",
    "\n",
    "def word_count_distribution(text):\n",
    "    word_counts = count_words_fast(text)\n",
    "    count_distribution = Counter(word_counts.values())\n",
    "    return count_distribution\n",
    "\n",
    "distribution = word_count_distribution(seq)\n"
   ]
  },
  {
   "cell_type": "markdown",
   "metadata": {
    "collapsed": true
   },
   "source": [
    "### Exercise 2\n",
    "In this case study, we will find and plot the distribution of word frequencies for each translation of Hamlet. Perhaps the distribution of word frequencies of Hamlet depends on the translation --- let's find out!  \n",
    "  \n",
    "For these exercises, functions count_words_fast, read_book, and word_stats are already defined as in the Case 2 Videos (Videos 3.2.x)  \n",
    "  \n",
    "Create a function more_frequent(distribution) that takes a word frequency dictionary (like that made in Exercise 1) and outputs a dictionary with the same keys as those in distribution (the number of times a group of words appears in the text), and values corresponding to the fraction of words that occur with more frequency than that key.  \n",
    "  \n",
    "Call more_frequent(distribution), and store as cumulative."
   ]
  },
  {
   "cell_type": "code",
   "execution_count": 89,
   "metadata": {},
   "outputs": [
    {
     "name": "stdout",
     "output_type": "stream",
     "text": [
      "{1: 0.38882375928096913, 67: 0.38823759280969128, 23: 0.38608831574833924, 10: 0.37807737397420871, 527: 0.37788198515044935, 116: 0.3776865963266901, 777: 0.37749120750293086, 57: 0.37710042985541226, 126: 0.37690504103165301, 7: 0.36440015631105904, 367: 0.36420476748729969, 254: 0.36400937866354044, 834: 0.36381398983978119, 26: 0.36244626807346625, 5: 0.33841344275107466, 3: 0.2778429073856975, 82: 0.27745212973817901, 112: 0.27706135209066041, 4: 0.24013286440015635, 2: 0.094372801875732715, 12183: 0.094177413051973469, 348: 0.093982024228214112, 64: 0.093395857756936262, 235: 0.093200468933177016, 52: 0.092809691285658413, 21: 0.09085580304806562, 14: 0.08655724892536143, 20: 0.085189527159046485, 11: 0.078937084798749502, 257: 0.078741695974990256, 137: 0.078546307151230899, 606: 0.078350918327471653, 286: 0.078155529503712406, 18: 0.076006252442360256, 111: 0.075615474794841764, 12: 0.070535365377100478, 9: 0.0607659241891364, 6: 0.043962485345838243, 88: 0.043571707698319639, 41: 0.04298554122704179, 189: 0.042790152403282544, 509: 0.042594763579523298, 141: 0.042399374755763941, 166: 0.042203985932004695, 51: 0.041813208284486092, 277: 0.041617819460726846, 355: 0.0414224306369676, 29: 0.040640875341930394, 35: 0.040250097694411902, 32: 0.039859320046893298, 27: 0.039273153575615449, 24: 0.038296209456819108, 31: 0.037905431809300505, 30: 0.037319265338022656, 62: 0.036733098866744807, 16: 0.03438843298163341, 50: 0.033997655334114918, 61: 0.033411488862837069, 19: 0.031457600625244275, 15: 0.029503712387651482, 13: 0.025986713559984387, 84: 0.025791324736225141, 136: 0.025595935912465784, 42: 0.025009769441187935, 58: 0.024814380617428689, 374: 0.024618991793669442, 54: 0.02364204767487299, 73: 0.023055881203595141, 65: 0.022860492379835895, 96: 0.022665103556076538, 45: 0.021883548261039443, 8: 0.016021883548261062, 47: 0.015435717076983213, 63: 0.01504493942946461, 120: 0.014849550605705364, 70: 0.014654161781946118, 100: 0.014458772958186761, 160: 0.014263384134427515, 72: 0.014067995310668269, 577: 0.013872606486908912, 87: 0.013677217663149666, 360: 0.01348182883939042, 25: 0.011918718249316118, 81: 0.011723329425556872, 226: 0.011527940601797626, 275: 0.011332551778038269, 243: 0.011137162954279023, 152: 0.01074638530676042, 46: 0.010550996483001174, 129: 0.010355607659241928, 139: 0.010160218835482571, 110: 0.0099648300117233246, 130: 0.0097694411879640786, 49: 0.0091832747166862294, 60: 0.0087924970691676263, 164: 0.0085971082454083803, 28: 0.0080109417741305311, 22: 0.0070339976553340788, 43: 0.0068386088315748328, 102: 0.0066432200078155867, 48: 0.0062524423602969836, 17: 0.003712387651426341, 36: 0.0031262211801484918, 53: 0.0029308323563892458, 39: 0.0027354435326298887, 94: 0.0025400547088706427, 33: 0.0023446658851113966, 38: 0.0019538882375927935, 119: 0.0017584994138335475, 92: 0.0015631105900743014, 56: 0.0013677217663149444, 83: 0.0011723329425556983, 37: 0.00097694411879645227, 163: 0.0007815552950370952, 151: 0.00058616647127784915, 117: 0.00039077764751860311, 40: 0.00019538882375924604, 34: 0.0}\n"
     ]
    }
   ],
   "source": [
    "import numpy as np\n",
    "def more_frequent(distribution):\n",
    "    counts  = list(distribution.keys())\n",
    "    frequency_of_counts  = list(distribution.values())\n",
    "    freq = np.cumsum(frequency_of_counts)\n",
    "    more_frequency = 1 - freq/freq[-1]\n",
    "    return dict(zip(counts, more_frequency))\n",
    "    \n",
    "cumulative  = more_frequent(distribution)\n",
    "print(cumulative)"
   ]
  },
  {
   "cell_type": "markdown",
   "metadata": {},
   "source": [
    "### Exercise 3\n",
    "In this case study, we will find and plot the distribution of word frequencies for each translation of Hamlet. Perhaps the distribution of word frequencies of Hamlet depends on the translation --- let's find out!  \n",
    "  \n",
    "For these exercises, functions count_words_fast, read_book, and word_stats are already defined as in the Case 2 Videos (Videos 3.2.x)  \n",
    "  \n",
    "Edit the code used to read though each of the books in our library, and store the word frequency distribution for each translation of William Shakespeare's \"Hamlet\" as a Pandas dataframe hamlets with columns named \"language\" and \"distribution\". word_count_distribution is preloaded from Exercise 1. How many translations are there? Which languages are they translated into?"
   ]
  },
  {
   "cell_type": "code",
   "execution_count": 88,
   "metadata": {},
   "outputs": [
    {
     "ename": "NameError",
     "evalue": "name 'book_titles' is not defined",
     "output_type": "error",
     "traceback": [
      "\u001b[1;31m---------------------------------------------------------------------------\u001b[0m",
      "\u001b[1;31mNameError\u001b[0m                                 Traceback (most recent call last)",
      "\u001b[1;32m<ipython-input-88-729e70d898ba>\u001b[0m in \u001b[0;36m<module>\u001b[1;34m()\u001b[0m\n\u001b[0;32m      3\u001b[0m \u001b[0mbook_dir\u001b[0m \u001b[1;33m=\u001b[0m \u001b[1;34m\"Books\"\u001b[0m\u001b[1;33m\u001b[0m\u001b[0m\n\u001b[0;32m      4\u001b[0m \u001b[0mtitle_num\u001b[0m \u001b[1;33m=\u001b[0m \u001b[1;36m1\u001b[0m\u001b[1;33m\u001b[0m\u001b[0m\n\u001b[1;32m----> 5\u001b[1;33m \u001b[1;32mfor\u001b[0m \u001b[0mlanguage\u001b[0m \u001b[1;32min\u001b[0m \u001b[0mbook_titles\u001b[0m\u001b[1;33m:\u001b[0m\u001b[1;33m\u001b[0m\u001b[0m\n\u001b[0m\u001b[0;32m      6\u001b[0m     \u001b[1;32mfor\u001b[0m \u001b[0mauthor\u001b[0m \u001b[1;32min\u001b[0m \u001b[0mbook_titles\u001b[0m\u001b[1;33m[\u001b[0m\u001b[0mlanguage\u001b[0m\u001b[1;33m]\u001b[0m\u001b[1;33m:\u001b[0m\u001b[1;33m\u001b[0m\u001b[0m\n\u001b[0;32m      7\u001b[0m         \u001b[1;32mfor\u001b[0m \u001b[0mtitle\u001b[0m \u001b[1;32min\u001b[0m \u001b[0mbook_titles\u001b[0m\u001b[1;33m[\u001b[0m\u001b[0mlanguage\u001b[0m\u001b[1;33m]\u001b[0m\u001b[1;33m[\u001b[0m\u001b[0mauthor\u001b[0m\u001b[1;33m]\u001b[0m\u001b[1;33m:\u001b[0m\u001b[1;33m\u001b[0m\u001b[0m\n",
      "\u001b[1;31mNameError\u001b[0m: name 'book_titles' is not defined"
     ]
    }
   ],
   "source": [
    "import pandas as pd\n",
    "hamlets = pd.DataFrame(columns=(\"language\", \"distribution\"))  # add code here\n",
    "book_dir = \"Books\"\n",
    "title_num = 1\n",
    "for language in book_titles:\n",
    "    for author in book_titles[language]:\n",
    "        for title in book_titles[language][author]:\n",
    "            if title == \"Hamlet\":\n",
    "                inputfile = data_filepath+\"Books/\"+language+\"/\"+author+\"/\"+title+\".txt\"\n",
    "                text = read_book(inputfile)\n",
    "                distribution = word_count_distribution(text)   # ADD code here\n",
    "                hamlets.loc[title_num] = language, distribution\n",
    "                title_num += 1"
   ]
  },
  {
   "cell_type": "markdown",
   "metadata": {},
   "source": [
    "### Exercise 4\n",
    "In this case study, we will find and plot the distribution of word frequencies for each translation of Hamlet. Perhaps the distribution of word frequencies of Hamlet depends on the translation --- let's find out!  \n",
    "  \n",
    "For these exercises, functions count_words_fast, read_book, and word_stats are already defined as in the Case 2 Videos (Videos 3.2.x)  \n",
    "  \n",
    "Plot the word frequency distributions of each translations on a single log-log plot. Note that we have already done most of the work for you. Do the distributions of each translation differ?"
   ]
  },
  {
   "cell_type": "code",
   "execution_count": 90,
   "metadata": {},
   "outputs": [
    {
     "data": {
      "image/png": "[encoded data removed]",
      "text/plain": [
       "<matplotlib.figure.Figure at 0x2202a8a9208>"
      ]
     },
     "metadata": {},
     "output_type": "display_data"
    }
   ],
   "source": [
    "import matplotlib.pyplot as plt\n",
    "colors = [\"crimson\", \"forestgreen\", \"blueviolet\"]\n",
    "handles, hamlet_languages = [], []\n",
    "for index in range(hamlets.shape[0]):\n",
    "    language, distribution = hamlets.language[index+1], hamlets.distribution[index+1]\n",
    "    dist = more_frequent(distribution)\n",
    "    plot, = plt.loglog(sorted(list(dist.keys())),sorted(list(dist.values()),\n",
    "        reverse = True), color = colors[index], linewidth = 2)\n",
    "    handles.append(plot)\n",
    "    hamlet_languages.append(language)\n",
    "plt.title(\"Word Frequencies in Hamlet Translations\")\n",
    "xlim    = [0, 2e3]\n",
    "xlabel  = \"Frequency of Word $W$\"\n",
    "ylabel  = \"Fraction of Words\\nWith Greater Frequency than $W$\"\n",
    "plt.xlim(xlim); plt.xlabel(xlabel); plt.ylabel(ylabel)\n",
    "plt.legend(handles, hamlet_languages, loc = \"upper right\", numpoints = 1)\n",
    "# show your plot using `plt.show`!\n",
    "plt.show()\n",
    "\n"
   ]
  },
  {
   "cell_type": "markdown",
   "metadata": {
    "collapsed": true
   },
   "source": [
    "## Introduction to kNN Classification\n",
    "- k-Nearest Neighbors\n",
    "\n",
    "Statistical learning refers to a collection of mathematical and computation tools to understand data.  \n",
    "In what is often called supervised learning, the goal is to estimate or predict an output based on one or more inputs.  \n",
    "  \n",
    "The inputs have many names, like predictors, independent variables, features, and variables being called common.  \n",
    "  \n",
    "The output or outputs are often called response variables, or dependent variables.  \n",
    "  \n",
    "If the response is quantitative-- say, a number that measures weight or height, we call these problems regression problems.  \n",
    "  \n",
    "If the response is qualitative-- say, yes or no, or blue or green, we call these problems classification problems.  \n",
    "  \n",
    "This case study deals with one specific approach to classification. The goal is to set up a classifier such that when\n",
    "it's presented with a new observation whose category is not known, it will attempt to assign that observation to a category, or a class, based on the observations for which it does know the true category.  \n",
    "  \n",
    "This specific method is known as the k-Nearest Neighbors classifier, or kNN for short.  \n",
    "Given a positive integer k, say 5, and a new data point, it first identifies those k points in the data that are nearest to the point and classifies the new data point as belonging to the most common class among those k neighbors."
   ]
  },
  {
   "cell_type": "markdown",
   "metadata": {},
   "source": [
    "### Introduction to kNN Classification: Question 1\n",
    "How does the k-Nearest Neighbors classifier classify observations?  \n",
    "ANsWEr: According to the most common class among the nearest k neighbors"
   ]
  },
  {
   "cell_type": "markdown",
   "metadata": {},
   "source": [
    "### Finding the Distance between two points\n",
    "finding the Euclidean distance  \n",
    "   \n",
    "first data point (x<sub>1</sub>, y<sub>1</sub>)    \n",
    "second data point (x<sub>2</sub>, y<sub>2</sub>)   \n",
    "  \n",
    "|x<sub>2</sub> - x<sub>1</sub>|    \n",
    "|y<sub>2</sub> - y<sub>1</sub>|  \n",
    "d<sup>2</sup> = (x<sub>2</sub> - x<sub>1</sub>)<sup>2</sup> + (y<sub>2</sub> - y<sub>1</sub>)<sup>2</sup>  \n",
    "d = &radic;(x<sub>2</sub> - x<sub>1</sub>)<sup>2</sup> + (y<sub>2</sub> - y<sub>1</sub>)<sup>2</sup>  \n",
    "  \n",
    "We'll be using numpy and use row vectors rather than column vectors   "
   ]
  },
  {
   "cell_type": "code",
   "execution_count": 92,
   "metadata": {},
   "outputs": [
    {
     "data": {
      "text/plain": [
       "4.2426406871192848"
      ]
     },
     "execution_count": 92,
     "metadata": {},
     "output_type": "execute_result"
    }
   ],
   "source": [
    "import numpy as np\n",
    "def distance(p1,p2):\n",
    "    '''Find the distance between points p1 and p2.'''\n",
    "    return np.sqrt(np.sum(np.power(p2-p1,2)))\n",
    "\n",
    "p1 = np.array([1,1])\n",
    "p2 = np.array([4,4])\n",
    "distance(p1,p2)"
   ]
  },
  {
   "cell_type": "markdown",
   "metadata": {},
   "source": [
    "### Finding Distance: Question 1\n",
    "How is the distance measure we use (as in Video 3.3.2) defined between points (a1, b1) and (a2, b2)?  \n",
    "  \n",
    "ANSWER: &radic;(a<sub>2</sub> - a<sub>1</sub>)<sup>2</sup> + (b<sub>2</sub> - b<sub>1</sub>)<sup>2</sup>)"
   ]
  },
  {
   "cell_type": "markdown",
   "metadata": {},
   "source": [
    "### Majority Vote\n",
    "- Most common vote\n",
    "- compare two different methods\n",
    "if we had two 1s, three 2s and one 3, the majority vote would be 2  \n"
   ]
  },
  {
   "cell_type": "code",
   "execution_count": 93,
   "metadata": {},
   "outputs": [
    {
     "data": {
      "text/plain": [
       "{1: 3, 2: 3, 3: 6}"
      ]
     },
     "execution_count": 93,
     "metadata": {},
     "output_type": "execute_result"
    }
   ],
   "source": [
    "def majority_vote(votes):\n",
    "    '''xx'''\n",
    "    vote_counts = {}\n",
    "    for vote in votes:\n",
    "        if vote in vote_counts:\n",
    "            vote_counts[vote] += 1\n",
    "        else:\n",
    "            vote_counts[vote] = 1\n",
    "    return vote_counts\n",
    "\n",
    "votes = [1,2,3,1,2,3,1,2,3,3,3,3]\n",
    "vote_counts = majority_vote(votes)\n",
    "vote_counts"
   ]
  },
  {
   "cell_type": "code",
   "execution_count": 94,
   "metadata": {},
   "outputs": [
    {
     "data": {
      "text/plain": [
       "3"
      ]
     },
     "execution_count": 94,
     "metadata": {},
     "output_type": "execute_result"
    }
   ],
   "source": [
    "max(vote_counts)"
   ]
  },
  {
   "cell_type": "code",
   "execution_count": 95,
   "metadata": {},
   "outputs": [
    {
     "data": {
      "text/plain": [
       "3"
      ]
     },
     "execution_count": 95,
     "metadata": {},
     "output_type": "execute_result"
    }
   ],
   "source": [
    "max(vote_counts.keys())"
   ]
  },
  {
   "cell_type": "code",
   "execution_count": 96,
   "metadata": {
    "collapsed": true
   },
   "outputs": [],
   "source": [
    "max_counts = max(vote_counts.values())"
   ]
  },
  {
   "cell_type": "code",
   "execution_count": 97,
   "metadata": {},
   "outputs": [
    {
     "name": "stdout",
     "output_type": "stream",
     "text": [
      "1 3\n",
      "2 3\n",
      "3 6\n"
     ]
    }
   ],
   "source": [
    "for vote, count in vote_counts.items():\n",
    "    print(vote, count)"
   ]
  },
  {
   "cell_type": "code",
   "execution_count": 98,
   "metadata": {},
   "outputs": [
    {
     "data": {
      "text/plain": [
       "[3]"
      ]
     },
     "execution_count": 98,
     "metadata": {},
     "output_type": "execute_result"
    }
   ],
   "source": [
    "winners = []\n",
    "for vote, count in vote_counts.items():\n",
    "    if count == max_counts:\n",
    "        winners.append(vote)\n",
    "winners"
   ]
  },
  {
   "cell_type": "code",
   "execution_count": 99,
   "metadata": {},
   "outputs": [
    {
     "data": {
      "text/plain": [
       "3"
      ]
     },
     "execution_count": 99,
     "metadata": {},
     "output_type": "execute_result"
    }
   ],
   "source": [
    "import random\n",
    "def majority_vote(votes):\n",
    "    '''xxx'''\n",
    "    vote_counts = {}\n",
    "    for vote in votes:\n",
    "        if vote in vote_counts:\n",
    "            vote_counts[vote] += 1\n",
    "        else:\n",
    "            vote_counts[vote] = 1\n",
    "    \n",
    "    winners = []\n",
    "    max_count = max(vote_counts.values())\n",
    "    for vote, count in vote_counts.items():\n",
    "        if count == max_count:\n",
    "            winners.append(vote)\n",
    "    return random.choice(winners)\n",
    "\n",
    "votes = [1,2,3,1,2,3,1,2,3,3,3,3]\n",
    "winner = majority_vote(votes)\n",
    "winner"
   ]
  },
  {
   "cell_type": "markdown",
   "metadata": {},
   "source": [
    "most commonly occurring element in a sequence is called mode in statistics"
   ]
  },
  {
   "cell_type": "code",
   "execution_count": 100,
   "metadata": {},
   "outputs": [
    {
     "data": {
      "text/plain": [
       "array([ 3.])"
      ]
     },
     "execution_count": 100,
     "metadata": {},
     "output_type": "execute_result"
    }
   ],
   "source": [
    "import scipy.stats as ss\n",
    "def majority_vote_short(voters):\n",
    "    '''Return the most common element in votes'''\n",
    "    mode, count = ss.mstats.mode(votes)\n",
    "    return mode\n",
    "\n",
    "votes = [1,2,3,1,2,3,1,2,3,3,3,3]\n",
    "win = majority_vote_short(votes)\n",
    "win"
   ]
  },
  {
   "cell_type": "markdown",
   "metadata": {},
   "source": [
    "### Majority Vote: Question 1\n",
    "What does the items method for dictionaries return?\n",
    "ANSWER: A dict_items object with elements consisting of tuples of key, value pairs\n",
    "\n",
    "### Majority Vote: Question 2\n",
    "What will random.choice() return for a list containing only one object? (Assume that the random module has already been imported.)  \n",
    "ANSWER:This code returns the single element every time"
   ]
  },
  {
   "cell_type": "markdown",
   "metadata": {},
   "source": [
    "### Finding Nearest Neighbors\n",
    "- find the nearest neighbors\n",
    "- use the nearest neighbors to Predict the class of an observations\n",
    "  \n",
    "The first is to loop over all points. For any given point, we want to compute the distance between point P, a point, we're hoping to classify, and every other point. Once we're done with that, we'd like to sort distances and return those k points that are nearest to point p.  \n",
    "  "
   ]
  },
  {
   "cell_type": "code",
   "execution_count": 101,
   "metadata": {},
   "outputs": [
    {
     "data": {
      "image/png": "[encoded data removed]",
      "text/plain": [
       "<matplotlib.figure.Figure at 0x2202d562470>"
      ]
     },
     "metadata": {},
     "output_type": "display_data"
    }
   ],
   "source": [
    "points = np.array([[1,1],[1,2],[1,3],[2,1],[2,2],[2,3],[3,1],[3,2],[3,3]])\n",
    "distances = np.zeros(points.shape[0])\n",
    "p = np.array([2.5,2])\n",
    "for i in range(len(distances)):\n",
    "    distances[i] = distance(p, points[i])\n",
    "    \n",
    "\n",
    "\n",
    "import matplotlib.pyplot as plt\n",
    "plt.plot(points[:,0], points[:,1], \"ro\")\n",
    "plt.plot(p[0], p[1], \"bo\")\n",
    "#plt.axis([0.5,3.5,0.5,3.5])\n",
    "plt.show()"
   ]
  },
  {
   "cell_type": "code",
   "execution_count": 102,
   "metadata": {},
   "outputs": [
    {
     "data": {
      "text/plain": [
       "array([ 1.80277564,  1.5       ,  1.80277564,  1.11803399,  0.5       ,\n",
       "        1.11803399,  1.11803399,  0.5       ,  1.11803399])"
      ]
     },
     "execution_count": 102,
     "metadata": {},
     "output_type": "execute_result"
    }
   ],
   "source": [
    "distances"
   ]
  },
  {
   "cell_type": "code",
   "execution_count": 103,
   "metadata": {},
   "outputs": [
    {
     "data": {
      "text/plain": [
       "array([2, 2])"
      ]
     },
     "execution_count": 103,
     "metadata": {},
     "output_type": "execute_result"
    }
   ],
   "source": [
    "points[4]"
   ]
  },
  {
   "cell_type": "code",
   "execution_count": 104,
   "metadata": {},
   "outputs": [
    {
     "data": {
      "text/plain": [
       "0.5"
      ]
     },
     "execution_count": 104,
     "metadata": {},
     "output_type": "execute_result"
    }
   ],
   "source": [
    "distances[4]"
   ]
  },
  {
   "cell_type": "code",
   "execution_count": 105,
   "metadata": {},
   "outputs": [
    {
     "data": {
      "text/plain": [
       "array([4, 7, 3, 5, 6, 8, 1, 0, 2], dtype=int64)"
      ]
     },
     "execution_count": 105,
     "metadata": {},
     "output_type": "execute_result"
    }
   ],
   "source": [
    "ind = np.argsort(distances)\n",
    "ind"
   ]
  },
  {
   "cell_type": "code",
   "execution_count": 106,
   "metadata": {},
   "outputs": [
    {
     "data": {
      "text/plain": [
       "array([ 0.5       ,  0.5       ,  1.11803399,  1.11803399,  1.11803399,\n",
       "        1.11803399,  1.5       ,  1.80277564,  1.80277564])"
      ]
     },
     "execution_count": 106,
     "metadata": {},
     "output_type": "execute_result"
    }
   ],
   "source": [
    "distances[ind]"
   ]
  },
  {
   "cell_type": "code",
   "execution_count": 107,
   "metadata": {},
   "outputs": [
    {
     "data": {
      "text/plain": [
       "array([ 0.5,  0.5])"
      ]
     },
     "execution_count": 107,
     "metadata": {},
     "output_type": "execute_result"
    }
   ],
   "source": [
    "distances[ind[0:2]]"
   ]
  },
  {
   "cell_type": "code",
   "execution_count": 108,
   "metadata": {},
   "outputs": [
    {
     "name": "stdout",
     "output_type": "stream",
     "text": [
      "[[2 2]\n",
      " [3 2]]\n"
     ]
    }
   ],
   "source": [
    "def find_nearest_neighbors(p,points, k=5):\n",
    "    '''Find the k nearest neighbors of points p and return their indices.'''\n",
    "    distances = np.zeros(points.shape[0])\n",
    "    for i in range(len(distances)):\n",
    "        distances[i] = distance(p,points[i])\n",
    "    ind = np.argsort(distances)\n",
    "    return ind[:k]\n",
    "\n",
    "ind = find_nearest_neighbors(p, points, 2); print(points[ind])"
   ]
  },
  {
   "cell_type": "code",
   "execution_count": 109,
   "metadata": {
    "collapsed": true
   },
   "outputs": [],
   "source": [
    "def knn_predict(p, points, outcomes, k=5):\n",
    "    # find k nearest neighbors\n",
    "    ind = find_nearest_neighbors(p, points, k)\n",
    "    return majority_vote(outcomes[ind])\n",
    "    # predict the class of p based on majority vote"
   ]
  },
  {
   "cell_type": "code",
   "execution_count": 110,
   "metadata": {},
   "outputs": [
    {
     "data": {
      "text/plain": [
       "9"
      ]
     },
     "execution_count": 110,
     "metadata": {},
     "output_type": "execute_result"
    }
   ],
   "source": [
    "outcomes = np.array([0,0,0,0,1,1,1,1,1])\n",
    "len(outcomes)"
   ]
  },
  {
   "cell_type": "code",
   "execution_count": 111,
   "metadata": {},
   "outputs": [
    {
     "data": {
      "text/plain": [
       "1"
      ]
     },
     "execution_count": 111,
     "metadata": {},
     "output_type": "execute_result"
    }
   ],
   "source": [
    "knn_predict(np.array([2.5,2.7]), points, outcomes, k=2)"
   ]
  },
  {
   "cell_type": "code",
   "execution_count": 112,
   "metadata": {},
   "outputs": [
    {
     "data": {
      "text/plain": [
       "0"
      ]
     },
     "execution_count": 112,
     "metadata": {},
     "output_type": "execute_result"
    }
   ],
   "source": [
    "knn_predict(np.array([1.,2.7]), points, outcomes, k=2)"
   ]
  },
  {
   "cell_type": "markdown",
   "metadata": {},
   "source": [
    "### Finding Nearest Neighbors: Question 1\n",
    "For an np.array of dimension 2, what does the shape method return?  \n",
    "ANSWER: A tuple containing the number of rows and columns\n",
    "  \n",
    "### Finding Nearest Neighbors: Question 2\n",
    "What does np.argsort do?  \n",
    "ANSWER: It sorts an array according to a single argument and returns the sorted indices."
   ]
  },
  {
   "cell_type": "markdown",
   "metadata": {},
   "source": [
    "### Generating Synthetic Data\n",
    "\n",
    "We're going to write a function that generates two end data points, where the first end points are from class 0, and the second end points\n",
    "are from class 1.  \n",
    "These data are known as synthetic data because we will be generating these data with the help of the computer.    \n",
    "In this case, we'll generate predictors from two bivariate normal distributions, where the first distribution gives rise  \n",
    "to observations belonging to class 0, and the second gives rise to observations belonging to class 1.  \n",
    "  \n",
    "The word, bivariate, just means 2 variables, like x and y.  \n",
    "If it were generating say, just the x variables, then we'd be dealing with univariate data.    \n",
    "   \n",
    "To generate the synthetic data, we'll be using this ipstats module. First, we specify the mean and standard deviation\n",
    "for observations coming from class 1\n",
    "  "
   ]
  },
  {
   "cell_type": "code",
   "execution_count": 113,
   "metadata": {},
   "outputs": [
    {
     "data": {
      "text/plain": [
       "array([[-0.49014416,  0.82340516],\n",
       "       [ 1.20785883, -1.5716544 ],\n",
       "       [-1.43699667, -0.14406878],\n",
       "       [ 0.03364848,  0.28733344],\n",
       "       [ 0.67316789, -1.31903148]])"
      ]
     },
     "execution_count": 113,
     "metadata": {},
     "output_type": "execute_result"
    }
   ],
   "source": [
    "import scipy.stats as ss\n",
    "ss.norm(0,1).rvs((5,2))  # generate 5 rows and 2 columns of observation normal distribution"
   ]
  },
  {
   "cell_type": "code",
   "execution_count": 114,
   "metadata": {},
   "outputs": [
    {
     "data": {
      "text/plain": [
       "array([[ 2.28305719, -0.32731779],\n",
       "       [-1.42176648, -1.07304597],\n",
       "       [ 0.29479326,  1.08654371],\n",
       "       [ 0.65705257,  0.58734277],\n",
       "       [ 1.68065147, -0.69068118]])"
      ]
     },
     "execution_count": 114,
     "metadata": {},
     "output_type": "execute_result"
    }
   ],
   "source": [
    "ss.norm(1,1).rvs((5,2))  # mean is 1"
   ]
  },
  {
   "cell_type": "code",
   "execution_count": 115,
   "metadata": {},
   "outputs": [
    {
     "data": {
      "text/plain": [
       "array([[-0.87806901, -1.34380214],\n",
       "       [-1.34117489, -0.09518377],\n",
       "       [-1.67464263,  0.41958623],\n",
       "       [ 0.28053425,  1.49806858],\n",
       "       [-0.26079503, -0.41950227],\n",
       "       [ 3.04882487,  1.68310228],\n",
       "       [ 1.57687108, -0.14460874],\n",
       "       [ 1.78612341,  0.81676888],\n",
       "       [ 0.434537  ,  1.61984909],\n",
       "       [ 0.24915819,  0.63483072]])"
      ]
     },
     "execution_count": 115,
     "metadata": {},
     "output_type": "execute_result"
    }
   ],
   "source": [
    "import numpy as np\n",
    "np.concatenate((ss.norm(0,1).rvs((5,2)), ss.norm(1,1).rvs((5,2))), axis=0)  #concatenate along rows"
   ]
  },
  {
   "cell_type": "markdown",
   "metadata": {},
   "source": [
    "To turn, this into a function, we want to be able to specify the number of rows in out synthetic data set"
   ]
  },
  {
   "cell_type": "code",
   "execution_count": 118,
   "metadata": {},
   "outputs": [
    {
     "data": {
      "text/plain": [
       "array([[-1.06395953, -1.5944395 ],\n",
       "       [-0.35349449,  0.44575758],\n",
       "       [-1.32910931, -0.89579308],\n",
       "       [-0.28427491, -0.3080023 ],\n",
       "       [-0.31708398,  1.17976471],\n",
       "       [ 1.85302092, -1.22821933],\n",
       "       [ 1.99760463, -0.17943574],\n",
       "       [-0.2321586 ,  1.58371337],\n",
       "       [ 0.78076381,  0.18746609],\n",
       "       [-0.13602511,  1.86035195]])"
      ]
     },
     "execution_count": 118,
     "metadata": {},
     "output_type": "execute_result"
    }
   ],
   "source": [
    "n=5   # rows 5 changed to n\n",
    "np.concatenate((ss.norm(0,1).rvs((n,2)), ss.norm(1,1).rvs((n,2))), axis=0)  # rows 5 changed to n"
   ]
  },
  {
   "cell_type": "markdown",
   "metadata": {},
   "source": [
    "We also need to generate the outcomes, the first n observations have outcome equal to 0, which is the class label  \n",
    "The second group of observations have class label or outcome equal to 1. \n",
    "Let's generate the outcome vector.  "
   ]
  },
  {
   "cell_type": "code",
   "execution_count": 119,
   "metadata": {
    "collapsed": true
   },
   "outputs": [],
   "source": [
    "n = 5\n",
    "outcomes = np.concatenate((np.repeat(0,n), np.repeat(1,n)) )"
   ]
  },
  {
   "cell_type": "code",
   "execution_count": 120,
   "metadata": {
    "collapsed": true
   },
   "outputs": [],
   "source": [
    "import os\n",
    "os.chdir('D:/Dev/Python/PythonForResearch/classification')\n",
    "import scipy.stats as ss\n",
    "import numpy as np\n",
    "import matplotlib.pyplot as plt\n",
    "def generate_synth_data(n=50):\n",
    "    '''Create two sets of points from bivariate normal distributions'''\n",
    "    points = np.concatenate((ss.norm(0,1).rvs((n,2)), ss.norm(1,1).rvs((n,2))), axis=0) \n",
    "    outcomes = np.concatenate((np.repeat(0,n), np.repeat(1,n)) )\n",
    "    return (points, outcomes)"
   ]
  },
  {
   "cell_type": "code",
   "execution_count": 121,
   "metadata": {},
   "outputs": [
    {
     "data": {
      "image/png": "[encoded data removed]",
      "text/plain": [
       "<matplotlib.figure.Figure at 0x2202d5d8ba8>"
      ]
     },
     "metadata": {},
     "output_type": "display_data"
    }
   ],
   "source": [
    "n = 20\n",
    "\n",
    "(points, outcomes) = generate_synth_data(n)\n",
    "\n",
    "plt.figure()\n",
    "plt.plot(points[:n,0], points[:n,1], \"ro\")\n",
    "plt.plot(points[n:,0], points[n:,1], \"bo\")\n",
    "plt.savefig(\"bivardata.pdf\")\n",
    "plt.show()"
   ]
  },
  {
   "cell_type": "markdown",
   "metadata": {},
   "source": [
    "### Generating Synthetic Data: Question 1\n",
    "What does np.concatenate do?  \n",
    "Takes in a tuple of np.arrays and joins them lengthwise along the specified axis  \n",
    "  \n",
    "### Generating Synthetic Data: Question 2\n",
    "Do you expect the k-Nearest Neighbors to categorize new values in the synthetic data perfectly?  \n",
    "ANSWER: No, because the data contain some observations with a majority of neighbors in another category"
   ]
  },
  {
   "cell_type": "markdown",
   "metadata": {},
   "source": [
    "### Making a Prediction Grid\n",
    "- how to make a prediction grid\n",
    "- how to use enumerate\n",
    "- how to use NumPy meshgrid\n",
    "  \n",
    "Our next task is to plot a prediction grid. This means that once we've observed our data, we can examine some part of the predictor space and compute the class prediction for each point in the grid using the knn classifier.  \n",
    "  \n",
    "So instead of finding out how our classifier might classify a given point, we can ask how it classifies all points that\n",
    "belong to a rectangular region of the predictor space.  \n",
    "  "
   ]
  },
  {
   "cell_type": "code",
   "execution_count": 122,
   "metadata": {
    "collapsed": true
   },
   "outputs": [],
   "source": [
    "def make_prediction_grid(predictor, outcomes, limits, h, k):    # limits will consists of 4 elements tuple\n",
    "    \"\"\"Classify each point on the prediciton grid. \"\"\"\n",
    "    (x_min, x_max, y_min, y_max) = limits\n",
    "    xs = np.arange(x_min, x_max, h)   # x values of our grid, xmin to xmax and increment of h\n",
    "    ys = np.arange(y_min, y_max, h)   # y values of our grid\n",
    "    xx, yy = np.meshgrid(xs, ys)      # takes xy, ys and generate 2 dimensional arrays\n",
    "    \n",
    "    # next we need to generate our classifiers prediction corresponding to every point of the meshgrid\n",
    "    prediction_grid = np.zeros(xx.shape, dtype = int)   # first fill with zeros and it is the same size as xx or yy\n",
    "                                                        # dtype is int as the class label is either 0 or 1\n",
    "    for i, x in enumerate(xs):\n",
    "        for j, y in enumerate(ys):\n",
    "            p = np.array([x,y])\n",
    "            prediction_grid[j,i] = knn_predict(p, predictor, outcomes, k)\n",
    "    return (xx, yy, prediction_grid)\n",
    "    "
   ]
  },
  {
   "cell_type": "markdown",
   "metadata": {
    "collapsed": true
   },
   "source": [
    "prediction_grid[j,i] = knn_predict(p, predictor, outcomes, k)  \n",
    "Note that we're doing the assignment j, i, not the other way around. This is because j corresponds to y values,\n",
    "and when we specify an index using square brackets, the first value, the first argument, corresponds to the role of the array.\n",
    "That's why we want to make sure that we will assign the y values the rows of the array and the x values the columns of array.  \n",
    "  \n",
    "Let's look at the meshgrid in a little bit more detail. Meshgrid takes in two or more coordinate vectors, say one vector containing the x values of interest and the other containing the y values of interest. It returns matrices, the first containing the x values for each grid point and the second containing the y values for each grid point.  \n",
    "  \n",
    "  \n",
    "  \n",
    "  ![title](\"https://drive.google.com/open?id=0B5HWZVVswrOtbThRdlFJS2JObm8\")\n",
    "  <img src=\"https://drive.google.com/open?id=0B5HWZVVswrOtbThRdlFJS2JObm8\" />"
   ]
  },
  {
   "cell_type": "markdown",
   "metadata": {},
   "source": [
    "Enumerate is useful when dealing with sequences and when we'd like to have access simulataneously to two things-- different elements in the sequence as well as their index values."
   ]
  },
  {
   "cell_type": "code",
   "execution_count": 123,
   "metadata": {},
   "outputs": [
    {
     "data": {
      "text/plain": [
       "[(0, 'spring'), (1, 'summer'), (2, 'fall'), (3, 'winter')]"
      ]
     },
     "execution_count": 123,
     "metadata": {},
     "output_type": "execute_result"
    }
   ],
   "source": [
    "seasons = [\"spring\", \"summer\", \"fall\", \"winter\"]\n",
    "list(enumerate(seasons))"
   ]
  },
  {
   "cell_type": "code",
   "execution_count": 124,
   "metadata": {},
   "outputs": [
    {
     "name": "stdout",
     "output_type": "stream",
     "text": [
      "0 spring\n",
      "1 summer\n",
      "2 fall\n",
      "3 winter\n"
     ]
    }
   ],
   "source": [
    "for ind, season in enumerate(seasons):\n",
    "    print(ind, season)"
   ]
  },
  {
   "cell_type": "markdown",
   "metadata": {},
   "source": [
    "### Making a Prediction Grid: Question 1\n",
    "What does np.arange do?    \n",
    "ANSWER: Creates regularly spaced values between the first and second argument, with spacing given in the third argument   \n",
    "  \n",
    "### Making a Prediction Grid: Question 2\n",
    "What does enumerate do?  \n",
    "ANSWER: Takes an iterable and returns a new iterable with tuples as elements, where the first index of each tuple is the index of the tuple in the iterable  "
   ]
  },
  {
   "cell_type": "markdown",
   "metadata": {},
   "source": [
    "### Plotting the Prediction Grid\n",
    "For us to be able to plot the prediction grid, we need one more function. This function is called <strong>plot prediction grid</strong>,and in this case we provide this to you on the course site. We can now try out different values for k. If you use a small value you'll see that the boundary between the colors, the so-called decision boundary, is more smooth the larger the value of k.\n",
    "This means that k controls the smoothness of the fit.  \n",
    "    \n",
    "Let's first generate some synthetic data.  "
   ]
  },
  {
   "cell_type": "code",
   "execution_count": 125,
   "metadata": {
    "collapsed": true
   },
   "outputs": [],
   "source": [
    "(predictors, outcomes) = generate_synth_data()"
   ]
  },
  {
   "cell_type": "code",
   "execution_count": 126,
   "metadata": {},
   "outputs": [
    {
     "data": {
      "text/plain": [
       "(100, 2)"
      ]
     },
     "execution_count": 126,
     "metadata": {},
     "output_type": "execute_result"
    }
   ],
   "source": [
    "predictors.shape"
   ]
  },
  {
   "cell_type": "code",
   "execution_count": 127,
   "metadata": {},
   "outputs": [
    {
     "data": {
      "text/plain": [
       "(100,)"
      ]
     },
     "execution_count": 127,
     "metadata": {},
     "output_type": "execute_result"
    }
   ],
   "source": [
    "outcomes.shape"
   ]
  },
  {
   "cell_type": "code",
   "execution_count": 128,
   "metadata": {
    "collapsed": true
   },
   "outputs": [],
   "source": [
    "import os\n",
    "os.chdir('D:/Dev/Python/PythonForResearch/classification')"
   ]
  },
  {
   "cell_type": "code",
   "execution_count": 129,
   "metadata": {
    "collapsed": true
   },
   "outputs": [],
   "source": [
    "def plot_prediction_grid (xx, yy, prediction_grid, filename):\n",
    "    \"\"\" Plot KNN predictions for every point on the grid.\"\"\"\n",
    "    from matplotlib.colors import ListedColormap\n",
    "    background_colormap = ListedColormap ([\"hotpink\",\"lightskyblue\", \"yellowgreen\"])\n",
    "    observation_colormap = ListedColormap ([\"red\",\"blue\",\"green\"])\n",
    "    plt.figure(figsize =(10,10))\n",
    "    plt.pcolormesh(xx, yy, prediction_grid, cmap = background_colormap, alpha = 0.5)\n",
    "    plt.scatter(predictors[:,0], predictors [:,1], c = outcomes, cmap = observation_colormap, s = 50)\n",
    "    plt.xlabel('Variable 1'); plt.ylabel('Variable 2')\n",
    "    plt.xticks(()); plt.yticks(())\n",
    "    plt.xlim (np.min(xx), np.max(xx))\n",
    "    plt.ylim (np.min(yy), np.max(yy))\n",
    "    plt.savefig(filename)\n",
    "    plt.show()"
   ]
  },
  {
   "cell_type": "code",
   "execution_count": 130,
   "metadata": {},
   "outputs": [
    {
     "data": {
      "image/png": "[encoded data removed]",
      "text/plain": [
       "<matplotlib.figure.Figure at 0x2202d6dd0f0>"
      ]
     },
     "metadata": {},
     "output_type": "display_data"
    }
   ],
   "source": [
    "k=5; filename=\"knn_synth_5.pdf\"; limits = (-3,4,-3,4); h =0.1\n",
    "(xx, yy, prediction_grid) = make_prediction_grid(predictors, outcomes, limits, h, k)\n",
    "plot_prediction_grid(xx,yy, prediction_grid, filename)"
   ]
  },
  {
   "cell_type": "code",
   "execution_count": 131,
   "metadata": {},
   "outputs": [
    {
     "data": {
      "image/png": "[encoded data removed]",
      "text/plain": [
       "<matplotlib.figure.Figure at 0x2202d5e4ba8>"
      ]
     },
     "metadata": {},
     "output_type": "display_data"
    }
   ],
   "source": [
    "k=50; filename=\"knn_synth_50.pdf\"; limits = (-3,4,-3,4); h =0.1\n",
    "(xx, yy, prediction_grid) = make_prediction_grid(predictors, outcomes, limits, h, k)\n",
    "plot_prediction_grid(xx,yy, prediction_grid, filename)"
   ]
  },
  {
   "cell_type": "markdown",
   "metadata": {},
   "source": [
    "Looking at the plot here for k equals 50, we can see that the decision boundary is pretty smooth. In contrast, if you look at the plot on the right, where k is equal to 5, you'll see that the shape of the decision boundary is more complicated.\n",
    "It seems that you might be able to find a value of k that maximizes the accuracy of the predictions.\n",
    "But that's somewhat short sighted. This is because what you really care about is not how well your method performs on the training data set, the data set we've used so far. But rather how well it performs on a future dataset you haven't yet seen.\n",
    "It turns out that using a value for k that's too large or too small is not optimal. A phenomenon that is known as the bias-variance tradeoff. This suggests that some intermediate values of k might be best. We will not talk more about it here,\n",
    "but for this application, using k equal to 5 is a reasonable choice."
   ]
  },
  {
   "cell_type": "markdown",
   "metadata": {},
   "source": [
    "### Applying the kNN Method\n",
    "Iris dataset, 150 different iris flowers, 50 from each of 3 different species.  \n",
    "Sepal length, sepal width, petal length, petal width"
   ]
  },
  {
   "cell_type": "code",
   "execution_count": 132,
   "metadata": {
    "collapsed": true
   },
   "outputs": [],
   "source": [
    "from sklearn import datasets\n",
    "iris = datasets.load_iris()"
   ]
  },
  {
   "cell_type": "code",
   "execution_count": 133,
   "metadata": {},
   "outputs": [
    {
     "data": {
      "text/plain": [
       "array([0, 0, 0, 0, 0, 0, 0, 0, 0, 0, 0, 0, 0, 0, 0, 0, 0, 0, 0, 0, 0, 0, 0,\n",
       "       0, 0, 0, 0, 0, 0, 0, 0, 0, 0, 0, 0, 0, 0, 0, 0, 0, 0, 0, 0, 0, 0, 0,\n",
       "       0, 0, 0, 0, 1, 1, 1, 1, 1, 1, 1, 1, 1, 1, 1, 1, 1, 1, 1, 1, 1, 1, 1,\n",
       "       1, 1, 1, 1, 1, 1, 1, 1, 1, 1, 1, 1, 1, 1, 1, 1, 1, 1, 1, 1, 1, 1, 1,\n",
       "       1, 1, 1, 1, 1, 1, 1, 1, 2, 2, 2, 2, 2, 2, 2, 2, 2, 2, 2, 2, 2, 2, 2,\n",
       "       2, 2, 2, 2, 2, 2, 2, 2, 2, 2, 2, 2, 2, 2, 2, 2, 2, 2, 2, 2, 2, 2, 2,\n",
       "       2, 2, 2, 2, 2, 2, 2, 2, 2, 2, 2, 2])"
      ]
     },
     "execution_count": 133,
     "metadata": {},
     "output_type": "execute_result"
    }
   ],
   "source": [
    "# iris.data  # will list 150 rows or observations\n",
    "iris.target"
   ]
  },
  {
   "cell_type": "code",
   "execution_count": null,
   "metadata": {
    "collapsed": true
   },
   "outputs": [],
   "source": []
  },
  {
   "cell_type": "markdown",
   "metadata": {},
   "source": [
    "we have 4 different covariates which is why we have four columns. for simplicity, we'll just look at the first two covariates or predictors.   \n",
    "  \n",
    "all rows but only column 0 and 1"
   ]
  },
  {
   "cell_type": "code",
   "execution_count": 134,
   "metadata": {
    "collapsed": true
   },
   "outputs": [],
   "source": [
    "pred = iris.data[:,0:2]"
   ]
  },
  {
   "cell_type": "markdown",
   "metadata": {},
   "source": [
    "We'll then build an outcomes vector, which is iris.target"
   ]
  },
  {
   "cell_type": "code",
   "execution_count": 135,
   "metadata": {},
   "outputs": [
    {
     "data": {
      "image/png": "[encoded data removed]",
      "text/plain": [
       "<matplotlib.figure.Figure at 0x22026fa33c8>"
      ]
     },
     "metadata": {},
     "output_type": "display_data"
    }
   ],
   "source": [
    "plt.clf()      # clear all figures\n",
    "outc = iris.target\n",
    "plt.plot(pred[outc==0][:,0], pred[outc==0][:,1], \"ro\")   \n",
    "plt.plot(pred[outc==1][:,0], pred[outc==1][:,1], \"go\") \n",
    "plt.plot(pred[outc==2][:,0], pred[outc==2][:,1], \"bo\")\n",
    "plt.show()"
   ]
  },
  {
   "cell_type": "code",
   "execution_count": 136,
   "metadata": {
    "collapsed": true
   },
   "outputs": [],
   "source": [
    "def make_pred_grid(predictor, outcomes, limits, h, k):    # limits will consists of 4 elements tuple\n",
    "    \"\"\"Classify each point on the prediciton grid. \"\"\"\n",
    "    (x_min, x_max, y_min, y_max) = limits\n",
    "    xs = np.arange(x_min, x_max, h)   # x values of our grid, xmin to xmax and increment of h\n",
    "    ys = np.arange(y_min, y_max, h)   # y values of our grid\n",
    "    xx, yy = np.meshgrid(xs, ys)      # takes xy, ys and generate 2 dimensional arrays\n",
    "    \n",
    "    # next we need to generate our classifiers prediction corresponding to every point of the meshgrid\n",
    "    prediction_grid = np.zeros(xx.shape, dtype = int)   # first fill with zeros and it is the same size as xx or yy\n",
    "                                                        # dtype is int as the class label is either 0 or 1\n",
    "    for i, x in enumerate(xs):\n",
    "        for j, y in enumerate(ys):\n",
    "            p = np.array([x,y])\n",
    "            prediction_grid[j,i] = knn_predict(p, predictor, outcomes, k)\n",
    "    return (xx, yy, prediction_grid)"
   ]
  },
  {
   "cell_type": "code",
   "execution_count": 137,
   "metadata": {
    "collapsed": true
   },
   "outputs": [],
   "source": [
    "def plot_pred_grid (xx, yy, prediction_grid, filename):\n",
    "    \"\"\" Plot KNN predictions for every point on the grid.\"\"\"\n",
    "    from matplotlib.colors import ListedColormap\n",
    "    background_colormap = ListedColormap ([\"hotpink\",\"lightskyblue\", \"yellowgreen\"])\n",
    "    observation_colormap = ListedColormap ([\"red\",\"blue\",\"green\"])\n",
    "    plt.figure(figsize =(10,10))\n",
    "    plt.pcolormesh(xx, yy, prediction_grid, cmap = background_colormap, alpha = 0.5)\n",
    "    plt.scatter(predictors[:,0], predictors [:,1], c = outcomes, cmap = observation_colormap, s = 50)\n",
    "    plt.xlabel('Variable 1'); plt.ylabel('Variable 2')\n",
    "    plt.xticks(()); plt.yticks(())\n",
    "    plt.xlim (np.min(xx), np.max(xx))\n",
    "    plt.ylim (np.min(yy), np.max(yy))\n",
    "    plt.savefig(filename)\n",
    "    plt.show()"
   ]
  },
  {
   "cell_type": "code",
   "execution_count": 138,
   "metadata": {},
   "outputs": [
    {
     "data": {
      "image/png": "[encoded data removed]",
      "text/plain": [
       "<matplotlib.figure.Figure at 0x2202d6bd9b0>"
      ]
     },
     "metadata": {},
     "output_type": "display_data"
    }
   ],
   "source": [
    "k=5; filename=\"iris_grid.pdf\"; limits = (4,8,1.5,4.5); h=0.1\n",
    "(xx,yy, pred_grid) = make_pred_grid(pred, outc, limits, h, k)\n",
    "plot_pred_grid(xx, yy, pred_grid, filename)"
   ]
  },
  {
   "cell_type": "code",
   "execution_count": null,
   "metadata": {
    "collapsed": true
   },
   "outputs": [],
   "source": []
  },
  {
   "cell_type": "code",
   "execution_count": 139,
   "metadata": {
    "collapsed": true
   },
   "outputs": [],
   "source": [
    "from sklearn.neighbors import KNeighborsClassifier\n",
    "knn= KNeighborsClassifier(n_neighbors = 5)\n",
    "knn.fit(pred, outc)\n",
    "sk_predicitons = knn.predict(pred)"
   ]
  },
  {
   "cell_type": "code",
   "execution_count": 140,
   "metadata": {},
   "outputs": [
    {
     "data": {
      "text/plain": [
       "(150,)"
      ]
     },
     "execution_count": 140,
     "metadata": {},
     "output_type": "execute_result"
    }
   ],
   "source": [
    "sk_predicitons.shape"
   ]
  },
  {
   "cell_type": "code",
   "execution_count": 141,
   "metadata": {},
   "outputs": [
    {
     "data": {
      "text/plain": [
       "(150,)"
      ]
     },
     "execution_count": 141,
     "metadata": {},
     "output_type": "execute_result"
    }
   ],
   "source": [
    "my_predictions = np.array([knn_predict(p, pred, outc, 5) for p in pred])\n",
    "my_predictions.shape"
   ]
  },
  {
   "cell_type": "code",
   "execution_count": 142,
   "metadata": {},
   "outputs": [
    {
     "data": {
      "text/plain": [
       "array([ True,  True,  True,  True,  True,  True,  True,  True,  True,\n",
       "        True,  True,  True,  True,  True,  True,  True,  True,  True,\n",
       "        True,  True,  True,  True,  True,  True,  True,  True,  True,\n",
       "        True,  True,  True,  True,  True,  True,  True,  True,  True,\n",
       "        True,  True,  True,  True,  True,  True,  True,  True,  True,\n",
       "        True,  True,  True,  True,  True,  True,  True,  True,  True,\n",
       "        True,  True,  True,  True,  True,  True,  True, False,  True,\n",
       "        True,  True,  True,  True,  True,  True,  True,  True,  True,\n",
       "        True,  True,  True,  True,  True, False,  True,  True,  True,\n",
       "        True,  True,  True,  True, False,  True,  True,  True,  True,\n",
       "        True,  True,  True,  True,  True,  True,  True,  True,  True,\n",
       "        True,  True,  True,  True,  True,  True,  True,  True,  True,\n",
       "       False,  True,  True,  True,  True,  True,  True,  True,  True,\n",
       "        True,  True,  True,  True,  True,  True,  True,  True,  True,\n",
       "        True,  True,  True,  True,  True,  True,  True,  True,  True,\n",
       "        True,  True,  True,  True,  True,  True,  True,  True,  True,\n",
       "        True, False,  True,  True,  True, False], dtype=bool)"
      ]
     },
     "execution_count": 142,
     "metadata": {},
     "output_type": "execute_result"
    }
   ],
   "source": [
    "(sk_predicitons == my_predictions)"
   ]
  },
  {
   "cell_type": "code",
   "execution_count": 143,
   "metadata": {},
   "outputs": [
    {
     "data": {
      "text/plain": [
       "0.95999999999999996"
      ]
     },
     "execution_count": 143,
     "metadata": {},
     "output_type": "execute_result"
    }
   ],
   "source": [
    "np.mean(sk_predicitons == my_predictions)"
   ]
  },
  {
   "cell_type": "code",
   "execution_count": 144,
   "metadata": {},
   "outputs": [
    {
     "name": "stdout",
     "output_type": "stream",
     "text": [
      "96.0\n"
     ]
    }
   ],
   "source": [
    "print(100 * np.mean(sk_predicitons == my_predictions))"
   ]
  },
  {
   "cell_type": "code",
   "execution_count": 145,
   "metadata": {},
   "outputs": [
    {
     "name": "stdout",
     "output_type": "stream",
     "text": [
      "83.3333333333\n",
      "84.6666666667\n"
     ]
    }
   ],
   "source": [
    "print(100 * np.mean(sk_predicitons == outc))\n",
    "print(100 * np.mean(my_predictions == outc))"
   ]
  },
  {
   "cell_type": "markdown",
   "metadata": {},
   "source": [
    "### Exercise 1\n",
    "In this case study, we will analyze a dataset consisting of an assortment of wines classified as \"high quality\" and \"low quality\" and will use the k-Nearest Neighbors classifier to determine whether or not other information about the wine helps us correctly predict whether a new wine will be of high quality.  \n",
    "  \n",
    "- Read in the data as a pandas dataframe using pd.read_csv. The data can be found at https://s3.amazonaws.com/demo-datasets/wine.csv."
   ]
  },
  {
   "cell_type": "code",
   "execution_count": 146,
   "metadata": {
    "collapsed": true
   },
   "outputs": [],
   "source": [
    "import pandas as pd\n",
    "data = pd.read_csv(\"https://s3.amazonaws.com/demo-datasets/wine.csv\")"
   ]
  },
  {
   "cell_type": "markdown",
   "metadata": {},
   "source": [
    "### Exercise 2\n",
    "In this case study, we will analyze a dataset consisting of an assortment of wines classified as \"high quality\" and \"low quality\" and will use the k-Nearest Neighbors classifier to determine whether or not other information about the wine helps us correctly predict whether a new wine will be of high quality.  \n",
    "  \n",
    "- The dataset remains stored as data. Two columns in data are is_red and color, which are redundant. Drop color from the dataset, and save the new dataset as numeric_data."
   ]
  },
  {
   "cell_type": "code",
   "execution_count": 147,
   "metadata": {
    "collapsed": true
   },
   "outputs": [],
   "source": [
    "numeric_data = data.drop('color', axis=1)\n"
   ]
  },
  {
   "cell_type": "markdown",
   "metadata": {},
   "source": [
    "### Exercise 3\n",
    "In this case study, we will analyze a dataset consisting of an assortment of wines classified as \"high quality\" and \"low quality\" and will use the k-Nearest Neighbors classifier to determine whether or not other information about the wine helps us correctly predict whether a new wine will be of high quality.  \n",
    "  \n",
    "To ensure that each variable contributes equally to the kNN classifier, we need to standardize the data. First, from each variable in numeric_data, subtract its mean. Second, for each variable in numeric_data, divide by its standard deviation. Store your standardized result as numeric_data.  \n",
    "  \n",
    "Principal component analysis is a way to take a linear snapshot of the data from several different angles, with each snapshot ordered by how well it aligns with variation in the data. The sklearn.decomposition module contains the PCA class, which determines the most informative principal components of the data (a matrix with columns corresponding to the principal components). Use pca.fit(numeric_data).transform(numeric_data) to extract the first two principal components from the data. Store this as principal_components."
   ]
  },
  {
   "cell_type": "code",
   "execution_count": 148,
   "metadata": {
    "collapsed": true
   },
   "outputs": [],
   "source": [
    "numeric_data = (numeric_data - np.mean(numeric_data, axis=0)) / np.std(numeric_data, axis=0)\n",
    "\n",
    "import sklearn.decomposition\n",
    "pca = sklearn.decomposition.PCA(n_components=2)\n",
    "principal_components = pca.fit(numeric_data).transform(numeric_data)"
   ]
  },
  {
   "cell_type": "markdown",
   "metadata": {},
   "source": [
    "### Exercise 4\n",
    "In this case study, we will analyze a dataset consisting of an assortment of wines classified as \"high quality\" and \"low quality\" and will use the k-Nearest Neighbors classifier to determine whether or not other information about the wine helps us correctly predict whether a new wine will be of high quality.  \n",
    "  \n",
    "- The first two principal components can be accessed using principal_components[:,0] and principal_components[:,1]. Store these as x and y respectively, and plot the first two principal components. The high and low quality wines will be colored using red and blue. How well are the two groups of wines separated by the first two principal components?  \n",
    "  \n",
    "<pre>\n",
    "import matplotlib.pyplot as plt\n",
    "from matplotlib.colors import ListedColormap\n",
    "from matplotlib.backends.backend_pdf import PdfPages\n",
    "observation_colormap = ListedColormap(['red', 'blue'])\n",
    "x = # Enter your code here!\n",
    "y = # Enter your code here!\n",
    "\n",
    "plt.title(\"Principal Components of Wine\")\n",
    "plt.scatter(x, y, alpha = 0.2,\n",
    "    c = data['high_quality'], cmap = observation_colormap, edgecolors = 'none')\n",
    "plt.xlim(-8, 8); plt.ylim(-8, 8)\n",
    "plt.xlabel(\"Principal Component 1\"); plt.ylabel(\"Principal Component 2\")\n",
    "plt.show()\n",
    "\n",
    "</pre>"
   ]
  },
  {
   "cell_type": "code",
   "execution_count": 149,
   "metadata": {},
   "outputs": [
    {
     "data": {
      "image/png": "[encoded data removed]",
      "text/plain": [
       "<matplotlib.figure.Figure at 0x2202b0e1e10>"
      ]
     },
     "metadata": {},
     "output_type": "display_data"
    }
   ],
   "source": [
    "import matplotlib.pyplot as plt\n",
    "from matplotlib.colors import ListedColormap\n",
    "from matplotlib.backends.backend_pdf import PdfPages\n",
    "observation_colormap = ListedColormap(['red', 'blue'])\n",
    "x = principal_components[:,0]\n",
    "y = principal_components[:,1]\n",
    "\n",
    "plt.title(\"Principal Components of Wine\")\n",
    "plt.scatter(x, y, alpha = 0.2,\n",
    "    c = data['high_quality'], cmap = observation_colormap, edgecolors = 'none')\n",
    "plt.xlim(-8, 8); plt.ylim(-8, 8)\n",
    "plt.xlabel(\"Principal Component 1\"); plt.ylabel(\"Principal Component 2\")\n",
    "plt.show()\n"
   ]
  },
  {
   "cell_type": "markdown",
   "metadata": {},
   "source": [
    "### Exercise 5\n",
    "In this case study, we will analyze a dataset consisting of an assortment of wines classified as \"high quality\" and \"low quality\" and will use the k-Nearest Neighbors classifier to determine whether or not other information about the wine helps us correctly predict whether a new wine will be of high quality.  \n",
    "  \n",
    "- We are now ready to fit the wine data to our kNN classifier. Create a function accuracy(predictions, outcomes) that takes two lists of the same size as arguments and returns a single number, which is the percentage of elements that are equal for the two lists.\n",
    "- Use accuracy to compare the percentage of similar elements in x = np.array([1,2,3]) and y = np.array([1,2,4]).\n"
   ]
  },
  {
   "cell_type": "code",
   "execution_count": 150,
   "metadata": {},
   "outputs": [
    {
     "name": "stdout",
     "output_type": "stream",
     "text": [
      "66.6666666667\n"
     ]
    }
   ],
   "source": [
    "def accuracy(predictions, outcomes):\n",
    "    # Enter your code here!\n",
    "    return 100 * np.mean(predictions == outcomes)\n",
    "    \n",
    "x = np.array([1,2,3])\n",
    "y = np.array([1,2,4])\n",
    "\n",
    "print(accuracy(x,y))\n",
    "    "
   ]
  },
  {
   "cell_type": "markdown",
   "metadata": {},
   "source": [
    "### Exercise 6\n",
    "In this case study, we will analyze a dataset consisting of an assortment of wines classified as \"high quality\" and \"low quality\" and will use the k-Nearest Neighbors classifier to determine whether or not other information about the wine helps us correctly predict whether a new wine will be of high quality.  \n",
    "  \n",
    "- The dataset remains stored as data. Because most wines in the dataset are classified as low quality, one very simple classification rule is to predict that all wines are of low quality. Use the accuracy function (preloaded into memory as defined in Exercise 5) to calculate how many wines in the dataset are of low quality. Accomplish this by calling accuracy with 0 as the first argument, and data[\"high_quality\"] as the second argument."
   ]
  },
  {
   "cell_type": "code",
   "execution_count": 151,
   "metadata": {
    "collapsed": true
   },
   "outputs": [],
   "source": [
    "wine = pd.read_csv('D:\\\\Dev\\\\Python\\\\DataCamp\\\\SupervisedLearningwithscikitlearn\\\\1 Classification\\\\datasets\\\\wine.csv')"
   ]
  },
  {
   "cell_type": "code",
   "execution_count": 152,
   "metadata": {},
   "outputs": [
    {
     "name": "stdout",
     "output_type": "stream",
     "text": [
      "80.3447745113\n"
     ]
    }
   ],
   "source": [
    "print(accuracy(0,wine[\"high_quality\"]))"
   ]
  },
  {
   "cell_type": "markdown",
   "metadata": {},
   "source": [
    "### Exercise 7\n",
    "In this case study, we will analyze a dataset consisting of an assortment of wines classified as \"high quality\" and \"low quality\" and will use the k-Nearest Neighbors classifier to determine whether or not other information about the wine helps us correctly predict whether a new wine will be of high quality.  \n",
    "  \n",
    "- Use knn.predict(numeric_data) to predict which wines are high and low quality and store the result as library_predictions.\n",
    "- Use accuracy to find the accuracy of your predictions, using library_predictions as the first argument and data[\"high_quality\"] as the second argument.\n",
    "- Print your answer. Is this prediction better than the simple classifier in Exercise 6?\n",
    "  \n",
    "<pre>\n",
    "from sklearn.neighbors import KNeighborsClassifier\n",
    "knn = KNeighborsClassifier(n_neighbors = 5)\n",
    "knn.fit(numeric_data, data['high_quality'])\n",
    "# Enter your code here!\n",
    "</pre>"
   ]
  },
  {
   "cell_type": "code",
   "execution_count": 153,
   "metadata": {},
   "outputs": [
    {
     "name": "stdout",
     "output_type": "stream",
     "text": [
      "99.9692165615\n"
     ]
    }
   ],
   "source": [
    "from sklearn.neighbors import KNeighborsClassifier\n",
    "knn = KNeighborsClassifier(n_neighbors = 5)\n",
    "knn.fit(numeric_data, data['high_quality'])\n",
    "# Enter your code here!\n",
    "library_predictions = knn.predict(numeric_data)\n",
    "print(accuracy(library_predictions, data[\"high_quality\"]))"
   ]
  },
  {
   "cell_type": "markdown",
   "metadata": {},
   "source": [
    "### Exercise 8\n",
    "In this case study, we will analyze a dataset consisting of an assortment of wines classified as \"high quality\" and \"low quality\" and will use the k-Nearest Neighbors classifier to determine whether or not other information about the wine helps us correctly predict whether a new wine will be of high quality.  \n",
    "  \n",
    "Unlike the scikit-learn function, our homemade kNN classifier does not take any shortcuts in calculating which neighbors are closest to each observation, so it is likely too slow to carry out on the whole dataset. To circumvent this, fix the random generator using random.seed(123), and select 10 rows from the dataset using random.sample(range(n_rows), 10). Store this selection as selection."
   ]
  },
  {
   "cell_type": "code",
   "execution_count": 154,
   "metadata": {
    "collapsed": true
   },
   "outputs": [],
   "source": [
    "n_rows = data.shape[0]\n",
    "\n",
    "# Enter your code here.\n",
    "random.seed(123)\n",
    "selection = random.sample(range(n_rows),10)\n"
   ]
  },
  {
   "cell_type": "markdown",
   "metadata": {},
   "source": [
    "### Exercise 9\n",
    "In this case study, we will analyze a dataset consisting of an assortment of wines \n",
    "classified as \"high quality\" and \"low quality\" and will use the k-Nearest Neighbors classifier to determine whether or not other information about the wine helps us correctly predict whether a new wine will be of high quality.  \n",
    "  \n",
    "- The sample of 10 row indices are stored as selection from the previous exercise. For each predictor p in predictors[selection], use knn_predict(p, predictors[training_indices,:], outcomes, k=5) to predict the quality of each wine in the prediction set, and store these predictions as a np.array called my_predictions. Note that knn_predict is already defined as in the Case 3 videos.  \n",
    "- Using the accuracy function, compare these results to the selected rows from the high_quality variable in data using my_predictions as the first argument and data.high_quality[selection] as the second argument. Store these results as percentage.\n",
    "  \n",
    "<pre>\n",
    "predictors = np.array(numeric_data)\n",
    "training_indices = [i for i in range(len(predictors)) if i not in selection]\n",
    "outcomes = np.array(data[\"high_quality\"])\n",
    "\n",
    "my_predictions = # Enter your code here!\n",
    "percentage = # Enter your code here!\n",
    "\n",
    "</pre>"
   ]
  },
  {
   "cell_type": "code",
   "execution_count": 155,
   "metadata": {},
   "outputs": [
    {
     "name": "stdout",
     "output_type": "stream",
     "text": [
      "100.0\n"
     ]
    }
   ],
   "source": [
    "predictors = np.array(numeric_data)\n",
    "training_indices = [i for i in range(len(predictors)) if i not in selection]\n",
    "outcomes = np.array(wine[\"high_quality\"])\n",
    "\n",
    "my_predictions = np.array([knn_predict(p, predictors, outcomes, 5) for p in predictors[selection]])\n",
    "percentage = accuracy(my_predictions, wine.high_quality[selection])\n",
    "print(percentage)"
   ]
  },
  {
   "cell_type": "code",
   "execution_count": null,
   "metadata": {
    "collapsed": true
   },
   "outputs": [],
   "source": []
  },
  {
   "cell_type": "code",
   "execution_count": null,
   "metadata": {
    "collapsed": true
   },
   "outputs": [],
   "source": []
  },
  {
   "cell_type": "code",
   "execution_count": null,
   "metadata": {
    "collapsed": true
   },
   "outputs": [],
   "source": []
  }
 ],
 "metadata": {
  "kernelspec": {
   "display_name": "Python 3",
   "language": "python",
   "name": "python3"
  },
  "language_info": {
   "codemirror_mode": {
    "name": "ipython",
    "version": 3
   },
   "file_extension": ".py",
   "mimetype": "text/x-python",
   "name": "python",
   "nbconvert_exporter": "python",
   "pygments_lexer": "ipython3",
   "version": "3.6.1"
  }
 },
 "nbformat": 4,
 "nbformat_minor": 2
}
