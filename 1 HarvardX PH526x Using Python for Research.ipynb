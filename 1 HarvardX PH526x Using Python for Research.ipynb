{
 "cells": [
  {
   "cell_type": "markdown",
   "metadata": {},
   "source": [
    "# Using Python for Research \n",
    "\n",
    "## Week 1 Basics of Python 3\n",
    "### Week 1 Overview\n",
    "Week 1 serves as a refresher of basic Python concepts with which you should already be familiar. Remember, this course assumes some prior knowledge of Python programming (in any version of Python). If you're an experienced programmer with coding skills using another language, this Week 1 refresher can also introduce you to the Python syntax you will need throughout the rest of the course.  \n",
    "  \n",
    "In Week 1, you will review:  \n",
    "  \n",
    "- Python data types (lists, dictionaries, tuples, etc.)\n",
    "- Statements (if, while, for, etc.)\n",
    "- Dynamic typing\n",
    "- Functions\n",
    "- Common errors and how to fix them\n",
    "  \n",
    "Week 1 is divided into three segments. Part 1 covers objects and methods. Part 2 covers sequence objects such as lists, tuples, and dictionaries. Part 3 covers manipulating objects. Comprehension Checks follow most videos. There is also one Homework assignment that uses the DataCamp platform that will allow you to practice your coding skills.  \n",
    "  \n",
    "Some of the Comprehension Checks will require you to work through code. We encourage you to use Python to interactively test out your answers and further your learning."
   ]
  },
  {
   "cell_type": "markdown",
   "metadata": {},
   "source": [
    "### Python Basics\n",
    "- Learn about the Python platform used in this course, Anaconda\n",
    "- Learn about the version of Python used in this course, Python 3"
   ]
  },
  {
   "cell_type": "markdown",
   "metadata": {},
   "source": [
    "### Python Basics: Question 1\n",
    "  \n",
    "Python has two operating modes. Which are they?  \n",
    "- Interactive mode\n",
    "- Standard mode\n",
    "- Both of the above\n",
    "- None of the above\n",
    "  \n",
    "ANSWER: Both of the above  \n",
    "  \n",
    "### Python Basics: Question 2\n",
    "  \n",
    "Which version of Python will we focus on in this course?  \n",
    "ANSWER: Python 3\n",
    "  \n",
    "### Python Basics: Question 3\n",
    "  \n",
    "What does it mean for Python 3 to not be backwards-compatible with Python 2?  \n",
    "- Valid Python 2 code is not guaranteed to work in Python 3.\n",
    "- Valid Python 3 code is not guaranteed to work in Python 2.\n",
    "- Both of the above\n",
    "- Neither of the above\n",
    "  \n",
    "ANSWER: Both of the above"
   ]
  },
  {
   "cell_type": "markdown",
   "metadata": {},
   "source": [
    "### Objects\n",
    "- Review the meaning of object type, value, and identity\n",
    "- Review the difference between data attributes and methods\n",
    "  \n",
    "Objects whose value can change are said to be mutable objects, whereas objects whose value is unchangeable after they've been created are called immutable.  \n",
    "  \n",
    "Each object in Python has three characteristics. These characteristics are called object type, object value, and object identity.  \n",
    "  \n",
    "Most Python objects have either data or functions or both associated with them.These are known as attributes. The name of the attribute follows the name of the object. And these two are separated by a dot in between them. The two types of attributes are called either data attributes or methods. A data attribute is a value that is attached to a specific object. In contrast, a method is a function that is attached to an object.    \n",
    "  \n",
    "    x.shape - atrribute\n",
    "    x.mean() - method"
   ]
  },
  {
   "cell_type": "markdown",
   "metadata": {},
   "source": [
    "### Objects: Question 1\n",
    "What does it mean for an object to be immutable?\n",
    "- Its contents cannot be modified by the programmer.\n",
    "- Its contents cannot be modified by the programmer after the object has been created.  \n",
    "ANSWER: Its contents cannot be modified by the programmer after the object has been created.  \n",
    "  \n",
    "### Objects: Question 2\n",
    "x = 4  \n",
    "In this assignment, what does the number 4 represent?  \n",
    "- The object type\n",
    "- The object value\n",
    "- The object identity\n",
    "  \n",
    "ANSWER: The Object value  \n",
    "  \n",
    "### Objects: Question 3 \n",
    "What is the difference between methods and data attributes of objects?  \n",
    "- Methods are functions associated with objects, whereas data attributes are data associated with objects. correct\n",
    "- Both methods and data attributes are functions associated with objects, but only data attributes process data.\n",
    "  \n",
    "ANSWER:Methods are functions associated with objects, whereas data attributes are data associated with objects. correct"
   ]
  },
  {
   "cell_type": "markdown",
   "metadata": {},
   "source": [
    "### Modules and Methods\n",
    "- Review how to import modules using the example of the math module\n",
    "- Review object methods through examples using string methods\n",
    "  \n",
    "Python modules are libraries of code and you can import Python modules using the import statements.  \n",
    "    import math  \n",
    "  \n",
    "math.pi   \n",
    "math.sqrt(10)  \n",
    "math.pi / 2  \n",
    "math.sin(math.pi / 2)    \n",
    "    \n",
    "from math import pi  \n",
    "    \n",
    "math.sqrt(2)  \n",
    "  \n",
    "import numpy as np  \n",
    "np.sqrt(2)  \n",
    "np.sqrt([2,3,4])  # array([1.414,1.732,2.0])  \n",
    "    \n",
    "name = \"Amy\"  \n",
    "type(name)   # str  \n",
    "  \n",
    "dir(name) # will list the methods   \n",
    "dir(str)  # same as above  \n",
    "    \n",
    "help(name.upper)    # NOT help(name.upper())  \n",
    "\n"
   ]
  },
  {
   "cell_type": "markdown",
   "metadata": {},
   "source": [
    "### Modules and Methods: Question 1\n",
    "Suppose that math.sqrt and numpy.sqrt had identical behavior. Are they the same function?  \n",
    "- Yes. If they behave identically, they are the same function.\n",
    "- No. Because they belong to different namespaces, Python treats them separately, regardless of their behavior.  \n",
    "  \n",
    "ANSWER: No. Because they belong to different namespaces, Python treats them separately, regardless of their behavior.  \n",
    "  \n",
    "### Modules and Methods: Question 2\n",
    "When using the import statement, which of the following does NOT occur?  \n",
    "- Python downloads the specified library if it is not yet available.\n",
    "- Python creates a new namespace for all the objects which are defined in the new module.\n",
    "- Python executes the code of the module and it runs it within a newly created namespace\n",
    "- Python creates a name that references its namespace.\n",
    "  \n",
    "ANSWER: Python downloads the specified library if it is not yet available  \n",
    "  \n",
    "### Modules and Methods: Question 3\n",
    "What is the difference between help() and dir()?  \n",
    "- help() is defined for types or objects, whereas dir() is defined for methods\n",
    "- help() is defined for methods, whereas dir() is defined for types or objects.\n",
    "  \n",
    "ANSWER: help() is defined for methods, whereas dir() is defined for types or objects.\n"
   ]
  },
  {
   "cell_type": "markdown",
   "metadata": {},
   "source": [
    "### Numbers and Basic Calculations\n",
    "- Review the numeric types in Python: integers, floating-point numbers, and complex numbers\n",
    "- Review basic operations you can conduct with numbers\n",
    "  \n",
    "(This video introduces one of the points of difference between Python 2 and Python 3. Floating point division in Python 2 and Python 3 behaves the same, but integer division works differently in Python 2 and in Python 3.  \n",
    "  \n",
    "In the example at 1:10 in the video, where JP divides 6 by 7, Python 2 would give you 0 - but Python 3 does not give 0!  \n",
    "  \n",
    "This is an important point distinction between Python 2 and Python 3.)  \n",
    "  "
   ]
  },
  {
   "cell_type": "code",
   "execution_count": null,
   "metadata": {
    "collapsed": true
   },
   "outputs": [],
   "source": []
  },
  {
   "cell_type": "code",
   "execution_count": null,
   "metadata": {
    "collapsed": true
   },
   "outputs": [],
   "source": []
  },
  {
   "cell_type": "code",
   "execution_count": null,
   "metadata": {
    "collapsed": true
   },
   "outputs": [],
   "source": []
  },
  {
   "cell_type": "code",
   "execution_count": null,
   "metadata": {
    "collapsed": true
   },
   "outputs": [],
   "source": []
  },
  {
   "cell_type": "code",
   "execution_count": null,
   "metadata": {
    "collapsed": true
   },
   "outputs": [],
   "source": []
  },
  {
   "cell_type": "code",
   "execution_count": null,
   "metadata": {
    "collapsed": true
   },
   "outputs": [],
   "source": []
  },
  {
   "cell_type": "markdown",
   "metadata": {},
   "source": [
    "\n",
    "### Part 3 : Manipulating Objects\n",
    "\n",
    "#### Dynamic Typing\n",
    "Type checking  \n",
    "\n",
    "\n",
    "\n"
   ]
  },
  {
   "cell_type": "code",
   "execution_count": 1,
   "metadata": {},
   "outputs": [
    {
     "name": "stdout",
     "output_type": "stream",
     "text": [
      "x : 3\n",
      "y : 2\n"
     ]
    }
   ],
   "source": [
    "x = 3\n",
    "y = x\n",
    "y = y -1\n",
    "print(\"x : \" + str(x))\n",
    "print(\"y : \" + str(y))"
   ]
  },
  {
   "cell_type": "code",
   "execution_count": 2,
   "metadata": {},
   "outputs": [
    {
     "name": "stdout",
     "output_type": "stream",
     "text": [
      "[24, 3, 4]\n",
      "[24, 3, 4]\n"
     ]
    }
   ],
   "source": [
    "L1 = [2,3,4]\n",
    "L2 = L1\n",
    "L1[0] = 24\n",
    "print(L1)\n",
    "print(L2)"
   ]
  },
  {
   "cell_type": "code",
   "execution_count": 5,
   "metadata": {},
   "outputs": [
    {
     "name": "stdout",
     "output_type": "stream",
     "text": [
      "True\n",
      "False\n",
      "1655249302856\n",
      "1655249545672\n"
     ]
    }
   ],
   "source": [
    "L = [1,2,3]\n",
    "M = [1,2,3]\n",
    "print(L==M)     # chceck if the values are same\n",
    "print(L is M)   # check if it is a same object\n",
    "print(id(L))\n",
    "print(id(M))"
   ]
  },
  {
   "cell_type": "code",
   "execution_count": 6,
   "metadata": {},
   "outputs": [
    {
     "name": "stdout",
     "output_type": "stream",
     "text": [
      "True\n",
      "False\n"
     ]
    }
   ],
   "source": [
    "L = [1,2,3]\n",
    "M = L\n",
    "M = list(L)  # will create a new list\n",
    "print(M == L)\n",
    "print(M is L)"
   ]
  },
  {
   "cell_type": "code",
   "execution_count": 7,
   "metadata": {},
   "outputs": [
    {
     "name": "stdout",
     "output_type": "stream",
     "text": [
      "True\n",
      "False\n"
     ]
    }
   ],
   "source": [
    "M = L[:]    # will create a new list\n",
    "print(M == L)\n",
    "print(M is L)"
   ]
  },
  {
   "cell_type": "markdown",
   "metadata": {},
   "source": [
    "x = 3\n",
    "x did not exist in memory prior to this code. Which of the following does not occur?\n",
    "- The object 3 is created\n",
    "- A variable with name x is created\n",
    "- The object 3 refers to the variable name x\n",
    "- The variable x is referred to object 3\n",
    "  \n",
    "Answer: The object 3 refers to the variable name x"
   ]
  },
  {
   "cell_type": "code",
   "execution_count": 8,
   "metadata": {},
   "outputs": [
    {
     "name": "stdout",
     "output_type": "stream",
     "text": [
      "x is :3 y is : 2\n"
     ]
    }
   ],
   "source": [
    "x=3\n",
    "y = x\n",
    "y = y-1\n",
    "print(\"x is :\" + str(x) + \" y is : \" + str(y))"
   ]
  },
  {
   "cell_type": "markdown",
   "metadata": {},
   "source": [
    "### Copies\n",
    "#### Shallow and deep copies\n",
    "\n",
    "A shallow copy constructs a new compound object and then insert its references into it to the original object.  \n",
    "  \n",
    "In contrast, a deep copy constructs a new compound object and then recursively inserts copies into it of the original objects.  \n",
    "  "
   ]
  },
  {
   "cell_type": "code",
   "execution_count": 9,
   "metadata": {},
   "outputs": [
    {
     "data": {
      "text/plain": [
       "False"
      ]
     },
     "execution_count": 9,
     "metadata": {},
     "output_type": "execute_result"
    }
   ],
   "source": [
    "import copy\n",
    "x = [1,[2]]\n",
    "y = copy.copy(x)\n",
    "z = copy.deepcopy(x)\n",
    "y is z"
   ]
  },
  {
   "cell_type": "markdown",
   "metadata": {},
   "source": [
    "### Statements\n",
    "Compound statements such as if statement\n",
    "  \n",
    "Statements are used to compute values, assign values, and modify attributes, among many other things.  \n",
    "Here are three examples of more specialized statements. \n",
    "  \n",
    "- The return statement is used to return values from a function.\n",
    "- import statement, which is used to import modules.\n",
    "- pass statement is used to do nothing  \n",
    "  \n",
    "<strong>Compound Statements </strong>\n",
    "Compound statements contain groups of other statements, and they affect or control the execution of those other statements in some way. Compound statements typically span multiple lines. A compound statement consists of one or more clauses, where a clause consist of a header and a block or a suite of code. The close headers of a particular compound statement start with a keyword, end with a colon, and are all at the same indentation level.  \n",
    " "
   ]
  },
  {
   "cell_type": "code",
   "execution_count": 10,
   "metadata": {},
   "outputs": [
    {
     "name": "stdout",
     "output_type": "stream",
     "text": [
      "Now True!\n"
     ]
    }
   ],
   "source": [
    "if False:\n",
    "    print('False!')\n",
    "elif True:\n",
    "    print('Now True!')\n",
    "else:\n",
    "    print('Finally True!')"
   ]
  },
  {
   "cell_type": "code",
   "execution_count": 13,
   "metadata": {},
   "outputs": [
    {
     "name": "stdout",
     "output_type": "stream",
     "text": [
      "even\n"
     ]
    }
   ],
   "source": [
    "n = 2\n",
    "if n%2 == 0:\n",
    "    print('even')\n",
    "else:\n",
    "    print('odd')"
   ]
  },
  {
   "cell_type": "markdown",
   "metadata": {},
   "source": [
    "### For and While Loops\n",
    "for loop, break,   \n",
    "<pre>\n",
    "    for x in range(10):\n",
    "        print(x)\n",
    "        \n",
    "    names = [\"Jim, \"Tom\", \"Pam]\n",
    "    for name in names:\n",
    "        print(name)\n",
    "        \n",
    "    for i in range(len(names)):\n",
    "        print(names[i])\n",
    "</pre>"
   ]
  },
  {
   "cell_type": "code",
   "execution_count": 21,
   "metadata": {},
   "outputs": [
    {
     "name": "stdout",
     "output_type": "stream",
     "text": [
      "Keys dict_keys(['Jim', 'Nick', 'Pam', 'Aron'])\n"
     ]
    }
   ],
   "source": [
    "age = {'Jim': 31, 'Nick': 31, 'Pam': 27, 'Aron' : 26}\n",
    "print('Keys ' + str(age.keys()))"
   ]
  },
  {
   "cell_type": "code",
   "execution_count": 22,
   "metadata": {},
   "outputs": [
    {
     "name": "stdout",
     "output_type": "stream",
     "text": [
      "Jim 31\n",
      "Nick 31\n",
      "Pam 27\n",
      "Aron 26\n"
     ]
    }
   ],
   "source": [
    "for name in age.keys():\n",
    "    print(name, age[name])"
   ]
  },
  {
   "cell_type": "code",
   "execution_count": 23,
   "metadata": {},
   "outputs": [
    {
     "name": "stdout",
     "output_type": "stream",
     "text": [
      "Jim 31\n",
      "Nick 31\n",
      "Pam 27\n",
      "Aron 26\n"
     ]
    }
   ],
   "source": [
    "# same as above\n",
    "for name in age:\n",
    "    print(name, age[name])"
   ]
  },
  {
   "cell_type": "code",
   "execution_count": 24,
   "metadata": {},
   "outputs": [
    {
     "name": "stdout",
     "output_type": "stream",
     "text": [
      "Aron 26\n",
      "Jim 31\n",
      "Nick 31\n",
      "Pam 27\n"
     ]
    }
   ],
   "source": [
    "for name in sorted(age.keys()):\n",
    "    print(name, age[name])"
   ]
  },
  {
   "cell_type": "code",
   "execution_count": 25,
   "metadata": {},
   "outputs": [
    {
     "name": "stdout",
     "output_type": "stream",
     "text": [
      "Pam 27\n",
      "Nick 31\n",
      "Jim 31\n",
      "Aron 26\n"
     ]
    }
   ],
   "source": [
    "for name in sorted(age.keys(), reverse=True):\n",
    "    print(name, age[name])"
   ]
  },
  {
   "cell_type": "code",
   "execution_count": 30,
   "metadata": {},
   "outputs": [
    {
     "name": "stdout",
     "output_type": "stream",
     "text": [
      "Hello, Brown bear!\n",
      "Hello, Polar bear!\n",
      "odd\n"
     ]
    }
   ],
   "source": [
    " bears = {\"Grizzly\":\"angry\", \"Brown\":\"friendly\", \"Polar\":\"friendly\"}\n",
    "for bear in bears:\n",
    "  if bears[bear] == 'friendly':\n",
    "    print(\"Hello, \"+bear+\" bear!\")\n",
    "else:\n",
    "    print(\"odd\")\n"
   ]
  },
  {
   "cell_type": "code",
   "execution_count": null,
   "metadata": {
    "collapsed": true
   },
   "outputs": [],
   "source": [
    "## Can you fill in the #blank# line so the code will only print True if n is prime?\n",
    "is_prime = True\n",
    "for i in range(2, n):\n",
    "    if n% i == 0:\n",
    "        #blank#\n",
    "print(is_prime)\n",
    "        \n"
   ]
  },
  {
   "cell_type": "code",
   "execution_count": 44,
   "metadata": {},
   "outputs": [
    {
     "name": "stdout",
     "output_type": "stream",
     "text": [
      "i:2 n4\n",
      "i:3 n4\n"
     ]
    }
   ],
   "source": [
    "n =4\n",
    "for i in range(2, n):\n",
    "    print('i:' + str(i) + \" n\" + str(n))\n"
   ]
  },
  {
   "cell_type": "code",
   "execution_count": 45,
   "metadata": {},
   "outputs": [
    {
     "name": "stdout",
     "output_type": "stream",
     "text": [
      "7\n"
     ]
    }
   ],
   "source": [
    "n= 100\n",
    "number_of_times = 0\n",
    "while n >= 1:\n",
    "    n/=2\n",
    "    number_of_times += 1\n",
    "print(number_of_times)"
   ]
  },
  {
   "cell_type": "markdown",
   "metadata": {},
   "source": [
    "### List comprehensions"
   ]
  },
  {
   "cell_type": "code",
   "execution_count": 47,
   "metadata": {},
   "outputs": [
    {
     "data": {
      "text/plain": [
       "[0, 1, 4, 9, 16, 25, 36, 49, 64, 81]"
      ]
     },
     "execution_count": 47,
     "metadata": {},
     "output_type": "execute_result"
    }
   ],
   "source": [
    "numbers = range(10)\n",
    "squares = []\n",
    "for number in numbers:\n",
    "    square = number**2\n",
    "    squares.append(square)\n",
    "    \n",
    "squares"
   ]
  },
  {
   "cell_type": "code",
   "execution_count": 48,
   "metadata": {},
   "outputs": [
    {
     "data": {
      "text/plain": [
       "[0, 1, 4, 9, 16, 25, 36, 49, 64, 81]"
      ]
     },
     "execution_count": 48,
     "metadata": {},
     "output_type": "execute_result"
    }
   ],
   "source": [
    "squares2= [number**2 for number in numbers]\n",
    "squares2"
   ]
  },
  {
   "cell_type": "code",
   "execution_count": 49,
   "metadata": {},
   "outputs": [
    {
     "data": {
      "text/plain": [
       "5"
      ]
     },
     "execution_count": 49,
     "metadata": {},
     "output_type": "execute_result"
    }
   ],
   "source": [
    "sum([i**2 for i in range(3)])"
   ]
  },
  {
   "cell_type": "code",
   "execution_count": 52,
   "metadata": {},
   "outputs": [
    {
     "data": {
      "text/plain": [
       "25"
      ]
     },
     "execution_count": 52,
     "metadata": {},
     "output_type": "execute_result"
    }
   ],
   "source": [
    "# How can you use a list comprehension, including if and for, to sum the odd numbers from 0 through 9?\n",
    "sum([i for i in range(10) if i%2])"
   ]
  },
  {
   "cell_type": "markdown",
   "metadata": {},
   "source": [
    "### Reading and Writing Files\n",
    "Read and Write files line by line\n"
   ]
  },
  {
   "cell_type": "code",
   "execution_count": 58,
   "metadata": {},
   "outputs": [
    {
     "name": "stdout",
     "output_type": "stream",
     "text": [
      "first line\n",
      "\n",
      "second line\n",
      "\n",
      "third line\n"
     ]
    }
   ],
   "source": [
    "import os\n",
    "os.chdir('D:/Dev/Python/PythonForResearch')\n",
    "filename = \"input.txt\"\n",
    "for line in open(filename):\n",
    "    print(line)"
   ]
  },
  {
   "cell_type": "code",
   "execution_count": 59,
   "metadata": {},
   "outputs": [
    {
     "name": "stdout",
     "output_type": "stream",
     "text": [
      "first line\n",
      "second line\n",
      "third line\n"
     ]
    }
   ],
   "source": [
    "for line in open(filename):\n",
    "    line = line.rstrip()\n",
    "    print(line)"
   ]
  },
  {
   "cell_type": "code",
   "execution_count": 60,
   "metadata": {},
   "outputs": [
    {
     "name": "stdout",
     "output_type": "stream",
     "text": [
      "['first', 'line']\n",
      "['second', 'line']\n",
      "['third', 'line']\n"
     ]
    }
   ],
   "source": [
    "for line in open(filename):\n",
    "    line = line.rstrip().split(\" \")\n",
    "    print(line)"
   ]
  },
  {
   "cell_type": "code",
   "execution_count": 61,
   "metadata": {
    "collapsed": true
   },
   "outputs": [],
   "source": [
    "F = open(\"output.txt\", \"w\")\n",
    "F.write(\"Python\\n\")\n",
    "F.close()"
   ]
  },
  {
   "cell_type": "code",
   "execution_count": 63,
   "metadata": {},
   "outputs": [
    {
     "name": "stdout",
     "output_type": "stream",
     "text": [
      "['Hello', 'World']\n"
     ]
    }
   ],
   "source": [
    "F = open(\"input2.txt\", \"w\")\n",
    "F.write(\"Hello\\nWorld\")\n",
    "F.close()\n",
    "lines=[]\n",
    "for line in open(\"input2.txt\"):\n",
    "    lines.append(line.strip())\n",
    "print(lines)"
   ]
  },
  {
   "cell_type": "markdown",
   "metadata": {},
   "source": [
    "### Introduction to Functions\n"
   ]
  },
  {
   "cell_type": "code",
   "execution_count": 64,
   "metadata": {},
   "outputs": [
    {
     "data": {
      "text/plain": [
       "27"
      ]
     },
     "execution_count": 64,
     "metadata": {},
     "output_type": "execute_result"
    }
   ],
   "source": [
    "def add(a,b):\n",
    "    mysum = a+b\n",
    "    return mysum\n",
    "\n",
    "add(12,15)"
   ]
  },
  {
   "cell_type": "code",
   "execution_count": 66,
   "metadata": {},
   "outputs": [
    {
     "name": "stdout",
     "output_type": "stream",
     "text": [
      "(35, 5)\n"
     ]
    }
   ],
   "source": [
    "add_and_sub_tuple =()\n",
    "def add_and_sub(a,b):\n",
    "    mysum = a+b\n",
    "    mydiff = a-b\n",
    "    return (mysum, mydiff)\n",
    "add_and_sub_tuple = add_and_sub(20,15)\n",
    "print(add_and_sub_tuple)"
   ]
  },
  {
   "cell_type": "code",
   "execution_count": 68,
   "metadata": {},
   "outputs": [
    {
     "data": {
      "text/plain": [
       "False"
      ]
     },
     "execution_count": 68,
     "metadata": {},
     "output_type": "execute_result"
    }
   ],
   "source": [
    "def modify(mylist):\n",
    "    mylist[0] *=10\n",
    "    \n",
    "L = [1,3,5,7,9]\n",
    "M = modify(L)\n",
    "M is L"
   ]
  },
  {
   "cell_type": "code",
   "execution_count": 70,
   "metadata": {},
   "outputs": [
    {
     "name": "stdout",
     "output_type": "stream",
     "text": [
      "1.4142135623730951\n"
     ]
    }
   ],
   "source": [
    "import math\n",
    "\n",
    "def distance(x,y):\n",
    "    return (math.sqrt((y[0] - x[0])**2 + (y[1]-x[1])**2))\n",
    "x=(0,0)\n",
    "y=(1,1)\n",
    "print(distance(x,y))"
   ]
  },
  {
   "cell_type": "code",
   "execution_count": 1,
   "metadata": {
    "collapsed": true
   },
   "outputs": [],
   "source": [
    "def intersect(s1, s2):\n",
    "    res = []\n",
    "    for x in s1:\n",
    "        if x in s2:\n",
    "            res.append(x)\n",
    "    return res\n",
    "        "
   ]
  },
  {
   "cell_type": "code",
   "execution_count": 8,
   "metadata": {},
   "outputs": [
    {
     "data": {
      "text/plain": [
       "[3]"
      ]
     },
     "execution_count": 8,
     "metadata": {},
     "output_type": "execute_result"
    }
   ],
   "source": [
    "intersect([1,2,3,4,5], [3,4,5,6,7])\n",
    "intersect([1,2,3], [3,4,5,6,7]) "
   ]
  },
  {
   "cell_type": "code",
   "execution_count": 6,
   "metadata": {
    "collapsed": true
   },
   "outputs": [],
   "source": [
    "# Generate passwords\n",
    "import random\n",
    "def password(length):\n",
    "    pw = str()\n",
    "    characters = \"abcdefghijklmnopqrstuvwxyz\" + \"0123456789\"\n",
    "    for i in range(length):\n",
    "        pw = pw + random.choice(characters)\n",
    "    return pw"
   ]
  },
  {
   "cell_type": "code",
   "execution_count": 7,
   "metadata": {},
   "outputs": [
    {
     "data": {
      "text/plain": [
       "'w72juyc8l3'"
      ]
     },
     "execution_count": 7,
     "metadata": {},
     "output_type": "execute_result"
    }
   ],
   "source": [
    "password(10)"
   ]
  },
  {
   "cell_type": "code",
   "execution_count": 9,
   "metadata": {
    "collapsed": true
   },
   "outputs": [],
   "source": [
    "def is_vowel(letter):\n",
    "    if letter in 'aeiouy':\n",
    "        return (True)\n",
    "    else:\n",
    "        return (False)"
   ]
  },
  {
   "cell_type": "code",
   "execution_count": 13,
   "metadata": {},
   "outputs": [
    {
     "data": {
      "text/plain": [
       "False"
      ]
     },
     "execution_count": 13,
     "metadata": {},
     "output_type": "execute_result"
    }
   ],
   "source": [
    "is_vowel('b')"
   ]
  },
  {
   "cell_type": "code",
   "execution_count": 15,
   "metadata": {
    "collapsed": true
   },
   "outputs": [],
   "source": [
    "def is_vowel2(letter):\n",
    "    if type(letter) == int:\n",
    "        letter = str(letter)\n",
    "    if letter in \"aeiouy\":\n",
    "        return (True)\n",
    "    else:\n",
    "        return (False)"
   ]
  },
  {
   "cell_type": "code",
   "execution_count": 16,
   "metadata": {},
   "outputs": [
    {
     "data": {
      "text/plain": [
       "False"
      ]
     },
     "execution_count": 16,
     "metadata": {},
     "output_type": "execute_result"
    }
   ],
   "source": [
    "is_vowel2(4)"
   ]
  },
  {
   "cell_type": "code",
   "execution_count": 22,
   "metadata": {
    "collapsed": true
   },
   "outputs": [],
   "source": [
    "# Recall that n!   (\"n factorial\") is defined as the product of all integers 1,...,n. Additionally, by definition, 0!≡1.\n",
    "def factorial(n):\n",
    "    if n == 0:\n",
    "        return 1\n",
    "    else:\n",
    "        N = 1\n",
    "        for i in range(1, n+1):\n",
    "            N *= i\n",
    "        return (N)\n",
    "        "
   ]
  },
  {
   "cell_type": "code",
   "execution_count": 24,
   "metadata": {},
   "outputs": [
    {
     "data": {
      "text/plain": [
       "24"
      ]
     },
     "execution_count": 24,
     "metadata": {},
     "output_type": "execute_result"
    }
   ],
   "source": [
    "factorial(4)"
   ]
  },
  {
   "cell_type": "code",
   "execution_count": 25,
   "metadata": {},
   "outputs": [
    {
     "name": "stdout",
     "output_type": "stream",
     "text": [
      "1.4142135623730951\n"
     ]
    }
   ],
   "source": [
    "# The distance between two points x and y is the square root of the sum of squared differences along \n",
    "# each dimension of x and y. Create a function distance(x, y) that takes two vectors and outputs \n",
    "# the distance between them. Use your function to find the distance between x=(0,0) and y=(1,1).\n",
    "\n",
    "import math\n",
    "\n",
    "def distance(x, y):\n",
    "   # define your function here!\n",
    "   return (math.sqrt((y[0] - x[0])**2 + (y[1]-x[1])**2))\n",
    "   \n",
    "x=(0,0)\n",
    "y=(1,1)\n",
    "print(distance(x,y))"
   ]
  },
  {
   "cell_type": "code",
   "execution_count": 29,
   "metadata": {
    "collapsed": true
   },
   "outputs": [],
   "source": [
    "# distance(x, y) is pre-loaded from part 2c. Write a function in_circle(x, origin) that determines whether \n",
    "# a two-dimensional point falls within a unit circle surrounding a given origin. Your function should return \n",
    "# a boolean that is True if the distance between x and origin is less than 1, and False otherwise.\n",
    "\n",
    "# Use your function to determine whether the point (1,1) lies within the unit circle centered at (0,0).\n",
    "import random, math\n",
    "random.seed(1)\n",
    "def in_circle(x, origin=[0]*2):\n",
    "    c = distance(x, origin)\n",
    "    if c < 1:\n",
    "        return (True)\n",
    "    else:\n",
    "        return (False)"
   ]
  },
  {
   "cell_type": "code",
   "execution_count": 30,
   "metadata": {},
   "outputs": [
    {
     "data": {
      "text/plain": [
       "False"
      ]
     },
     "execution_count": 30,
     "metadata": {},
     "output_type": "execute_result"
    }
   ],
   "source": [
    "in_circle((1,1))"
   ]
  },
  {
   "cell_type": "code",
   "execution_count": 41,
   "metadata": {},
   "outputs": [
    {
     "name": "stdout",
     "output_type": "stream",
     "text": [
      "0.779\n"
     ]
    }
   ],
   "source": [
    "# Create a list of R=10000 booleans called inside that determines whether each point in x falls within \n",
    "# the unit circle centered at (0,0). Make sure to use in_circle.\n",
    "\n",
    "# Find the proportion of points within the circle by summing the count of True in inside, and dividing by R.\n",
    "import random\n",
    "\n",
    "random.seed(1)\n",
    "def rand():\n",
    "    return random.uniform(-1,1)\n",
    "\n",
    "R = 10000\n",
    "x = []\n",
    "inside = []\n",
    "for i in range(R):\n",
    "    point = [rand(), rand()]\n",
    "    x.append(point)\n",
    "    # Enter your code here! #\n",
    "    inside.append(in_circle(x[i]))\n",
    "            \n",
    "# Enter your code here! #\n",
    "proportion = inside.count(True)/ len(inside)\n",
    "print(proportion)"
   ]
  },
  {
   "cell_type": "code",
   "execution_count": 43,
   "metadata": {},
   "outputs": [
    {
     "name": "stdout",
     "output_type": "stream",
     "text": [
      "0.006398163397448253\n"
     ]
    }
   ],
   "source": [
    "# Note: inside and R are defined as in Exercise 2e. Recall that the true ratio of the area of \n",
    "# the unit circle to the area to the inscribing square is pi / 4.\n",
    "\n",
    "# Find the difference between your estimate from part 2e and math.pi / 4.\n",
    "\n",
    "print(abs(inside.count(True)/R - math.pi/4) )"
   ]
  },
  {
   "cell_type": "markdown",
   "metadata": {},
   "source": [
    "### Exercise 1a\n",
    "In this five-part exercise, we will count the frequency of each letter in a given string.  \n",
    "  \n",
    "- Import the string library.\n",
    "- Create a variable alphabet that consists of the lowercase and uppercase letters in the English alphabet using the ascii_letters attribute of the string library."
   ]
  },
  {
   "cell_type": "code",
   "execution_count": 2,
   "metadata": {},
   "outputs": [
    {
     "data": {
      "text/plain": [
       "'abcdefghijklmnopqrstuvwxyzABCDEFGHIJKLMNOPQRSTUVWXYZ'"
      ]
     },
     "execution_count": 2,
     "metadata": {},
     "output_type": "execute_result"
    }
   ],
   "source": [
    "import string\n",
    "alphabet = string.ascii_letters\n",
    "alphabet"
   ]
  },
  {
   "cell_type": "markdown",
   "metadata": {},
   "source": [
    "###  Exercise 1b\n",
    "In this five-part exercise, we will count the frequency of each letter in a given string.  \n",
    "  \n",
    "- The lower and upper cases of the English alphabet is stored as alphabet.\n",
    "- Consider the sentence 'Jim quickly realized that the beautiful gowns are expensive'. Create a dictionary count_letters with keys consisting of each unique letter in the sentence and values consisting of the number of times each letter is used in this sentence. Count both upper case and lower case letters separately in the dictionary."
   ]
  },
  {
   "cell_type": "code",
   "execution_count": 3,
   "metadata": {
    "collapsed": true
   },
   "outputs": [],
   "source": [
    "sentence = 'Jim quickly realized that the beautiful gowns are expensive'\n",
    "\n",
    "count_letters = {}\n",
    "#write your code here!\n",
    "for char in sentence:\n",
    "    if char in alphabet:\n",
    "        if char in count_letters:\n",
    "            count_letters[char] += 1\n",
    "        else:\n",
    "            count_letters[char] = 1"
   ]
  },
  {
   "cell_type": "markdown",
   "metadata": {},
   "source": [
    "### Exercise 1c\n",
    "In this five-part exercise, we will count the frequency of each letter in a given string.  \n",
    "  \n",
    "- Rewrite your code from 1b to make a function called counter that takes a string input_string and returns a dictionary of letter counts count_letters. If you were unable to complete 1b, you can use the solution by selecting Show Answer.\n",
    "- Use your function to call counter(sentence)."
   ]
  },
  {
   "cell_type": "code",
   "execution_count": 4,
   "metadata": {},
   "outputs": [
    {
     "data": {
      "text/plain": [
       "{'J': 1,\n",
       " 'a': 4,\n",
       " 'b': 1,\n",
       " 'c': 1,\n",
       " 'd': 1,\n",
       " 'e': 8,\n",
       " 'f': 1,\n",
       " 'g': 1,\n",
       " 'h': 2,\n",
       " 'i': 5,\n",
       " 'k': 1,\n",
       " 'l': 3,\n",
       " 'm': 1,\n",
       " 'n': 2,\n",
       " 'o': 1,\n",
       " 'p': 1,\n",
       " 'q': 1,\n",
       " 'r': 2,\n",
       " 's': 2,\n",
       " 't': 4,\n",
       " 'u': 3,\n",
       " 'v': 1,\n",
       " 'w': 1,\n",
       " 'x': 1,\n",
       " 'y': 1,\n",
       " 'z': 1}"
      ]
     },
     "execution_count": 4,
     "metadata": {},
     "output_type": "execute_result"
    }
   ],
   "source": [
    "sentence = 'Jim quickly realized that the beautiful gowns are expensive'\n",
    "\n",
    "# Create your function here!\n",
    "def counter(input_string):\n",
    "    count_letters={}\n",
    "    for char in sentence:\n",
    "        if char in alphabet:\n",
    "            if char in count_letters:\n",
    "                count_letters[char] += 1\n",
    "            else:\n",
    "                count_letters[char] = 1\n",
    "    return count_letters\n",
    "    \n",
    "counter(sentence)"
   ]
  },
  {
   "cell_type": "markdown",
   "metadata": {},
   "source": [
    "### Exercise 1d\n",
    "In this five-part exercise, we will count the frequency of each letter in a given string.  \n",
    "  \n",
    "- Abraham Lincoln was a president during the American Civil War. His famous 1863 Gettysburg Address has been stored as address, and the counter function defined in part 1c has been loaded. Use these to return a dictionary consisting of the count of each letter in this address, and save this as address_count.\n"
   ]
  },
  {
   "cell_type": "code",
   "execution_count": 9,
   "metadata": {},
   "outputs": [],
   "source": [
    "import os\n",
    "os.chdir('D:\\\\Dev\\\\Python\\\\PythonForResearch\\\\books\\\\English\\\\AbrahamLincoln')\n",
    "fname = 'Bancroft_Copy.txt'\n",
    "with open(fname, \"r\", encoding=\"utf8\") as current_file:\n",
    "        address = current_file.read()\n",
    "        address = address.replace(\"\\n\", \"\").replace(\"\\r\", \"\")"
   ]
  },
  {
   "cell_type": "code",
   "execution_count": 10,
   "metadata": {},
   "outputs": [
    {
     "name": "stdout",
     "output_type": "stream",
     "text": [
      "{'J': 1, 'i': 5, 'm': 1, 'q': 1, 'u': 3, 'c': 1, 'k': 1, 'l': 3, 'y': 1, 'r': 2, 'e': 8, 'a': 4, 'z': 1, 'd': 1, 't': 4, 'h': 2, 'b': 1, 'f': 1, 'g': 1, 'o': 1, 'w': 1, 'n': 2, 's': 2, 'x': 1, 'p': 1, 'v': 1}\n"
     ]
    }
   ],
   "source": [
    "# Write your code here!\n",
    "address_count = {}\n",
    "address_count = counter(address)\n",
    "print(address_count)"
   ]
  },
  {
   "cell_type": "markdown",
   "metadata": {},
   "source": [
    "### Exercise 1e\n",
    "In this five-part exercise, we will count the frequency of each letter in a given string.  \n",
    "  \n",
    "- The frequency of each letter in the Gettysburg Address is already stored as address_count. Use this dictionary to find the most common letter in the Gettysburg address.\n",
    "- Store this letter as most_frequent_letter, and print your answer."
   ]
  },
  {
   "cell_type": "code",
   "execution_count": 11,
   "metadata": {},
   "outputs": [
    {
     "name": "stdout",
     "output_type": "stream",
     "text": [
      "e\n"
     ]
    }
   ],
   "source": [
    "# write your code here!\n",
    "most_frequent_letter = max(address_count, key=address_count.get)\n",
    "print(most_frequent_letter)"
   ]
  },
  {
   "cell_type": "markdown",
   "metadata": {},
   "source": [
    "### Exercise 2a\n",
    "The ratio of the areas of a circle and the square inscribing it is pi / 4. In this six-part exercise, we will find a way to approximate this value.  \n",
    "  \n",
    "- Using the math library, calculate and print the value of pi / 4."
   ]
  },
  {
   "cell_type": "code",
   "execution_count": 12,
   "metadata": {},
   "outputs": [
    {
     "name": "stdout",
     "output_type": "stream",
     "text": [
      "0.7853981633974483\n"
     ]
    }
   ],
   "source": [
    "# write your code here!\n",
    "import math\n",
    "print(math.pi/4)"
   ]
  },
  {
   "cell_type": "markdown",
   "metadata": {},
   "source": [
    "### Exercise 2b\n",
    "The ratio of the areas of a circle and the square inscribing it is pi / 4. In this six-part exercise, we will find a way to approximate this value.  \n",
    "  \n",
    "- Using random.uniform, create a function rand() that generates a single float between -1 and 1.\n",
    "- Call rand() once. So we can check your solution, we will use random.seed to fix the value called by your function."
   ]
  },
  {
   "cell_type": "code",
   "execution_count": 13,
   "metadata": {},
   "outputs": [
    {
     "data": {
      "text/plain": [
       "-0.7312715117751976"
      ]
     },
     "execution_count": 13,
     "metadata": {},
     "output_type": "execute_result"
    }
   ],
   "source": [
    "import random\n",
    "\n",
    "random.seed(1) # This line fixes the value called by your function,\n",
    "               # and is used for answer-checking.\n",
    "\n",
    "def rand():\n",
    "    return random.uniform(-1.0, 1.0)\n",
    "   # define `rand` here!\n",
    "    \n",
    "rand()"
   ]
  },
  {
   "cell_type": "markdown",
   "metadata": {},
   "source": [
    "### Exercise 2c\n",
    "The ratio of the areas of a circle and the square inscribing it is pi / 4. In this six-part exercise, we will find a way to approximate this value.  \n",
    "  \n",
    "- The distance between two points x and y is the square root of the sum of squared differences along each dimension of x and y. Create a function distance(x, y) that takes two vectors and outputs the distance between them. Use your function to find the distance between x=(0,0) and y=(1,1)."
   ]
  },
  {
   "cell_type": "code",
   "execution_count": 14,
   "metadata": {},
   "outputs": [
    {
     "name": "stdout",
     "output_type": "stream",
     "text": [
      "1.4142135623730951\n"
     ]
    }
   ],
   "source": [
    "import math\n",
    "\n",
    "def distance(x, y):\n",
    "   # define your function here!\n",
    "   return (math.sqrt((y[0] - x[0])**2 + (y[1]-x[1])**2))\n",
    "   \n",
    "x=(0,0)\n",
    "y=(1,1)\n",
    "print(distance(x,y))"
   ]
  },
  {
   "cell_type": "markdown",
   "metadata": {},
   "source": [
    "### Exercise 2d\n",
    "The ratio of the areas of a circle and the square inscribing it is pi / 4. In this six-part exercise, we will find a way to approximate this value.\n",
    "- distance(x, y) is pre-loaded from part 2c. Write a function in_circle(x, origin) that determines whether a two-dimensional point falls within a unit circle surrounding a given origin. Your function should return a boolean that is True if the distance between x and origin is less than 1, and False otherwise.\n",
    "- Use your function to determine whether the point (1,1) lies within the unit circle centered at (0,0)."
   ]
  },
  {
   "cell_type": "code",
   "execution_count": 15,
   "metadata": {},
   "outputs": [
    {
     "name": "stdout",
     "output_type": "stream",
     "text": [
      "False\n"
     ]
    }
   ],
   "source": [
    "import random, math\n",
    "\n",
    "random.seed(1)\n",
    "\n",
    "def in_circle(x, origin = [0]*2):\n",
    "   # Define your function here!\n",
    "   c = distance(x, origin)\n",
    "   if c < 1:\n",
    "       return(True)\n",
    "   else:\n",
    "       return(False)\n",
    "   \n",
    "print(in_circle((1,1)))"
   ]
  },
  {
   "cell_type": "markdown",
   "metadata": {},
   "source": [
    "### Exercise 2e\n",
    "The ratio of the areas of a circle and the square inscribing it is pi / 4. In this six-part exercise, we will find a way to approximate this value.  \n",
    "  \n",
    "- Create a list of R=10000 booleans called inside that determines whether each point in x falls within the unit circle centered at (0,0). Make sure to use in_circle.\n",
    "- Find the proportion of points within the circle by summing the count of True in inside, and dividing by R.\n",
    "- Print your answer. This proportion is an estimate of the ratio of the two areas!"
   ]
  },
  {
   "cell_type": "code",
   "execution_count": 16,
   "metadata": {},
   "outputs": [
    {
     "name": "stdout",
     "output_type": "stream",
     "text": [
      "0.779\n"
     ]
    }
   ],
   "source": [
    "R = 10000\n",
    "x = []\n",
    "inside=[]\n",
    "for i in range(R):\n",
    "    point = [rand(), rand()]\n",
    "    x.append(point)\n",
    "    # Enter your code here! #\n",
    "    inside.append(in_circle(x[i]))\n",
    "            \n",
    "# Enter your code here! #\n",
    "proportion = inside.count(True)/ len(inside)\n",
    "print(proportion)"
   ]
  },
  {
   "cell_type": "markdown",
   "metadata": {},
   "source": [
    "### Exercise 2f\n",
    "The ratio of the areas of a circle and the square inscribing it is pi / 4. In this six-part exercise, we will find a way to approximate this value.  \n",
    "  \n",
    "- Note: inside and R are defined as in Exercise 2e. Recall that the true ratio of the area of the unit circle to the area to the inscribing square is pi / 4.\n",
    "- Find the difference between your estimate from part 2e and math.pi / 4."
   ]
  },
  {
   "cell_type": "code",
   "execution_count": 17,
   "metadata": {},
   "outputs": [
    {
     "name": "stdout",
     "output_type": "stream",
     "text": [
      "0.006398163397448253\n"
     ]
    }
   ],
   "source": [
    "# write your code here!\n",
    "print(abs(inside.count(True)/R - math.pi/4) )"
   ]
  },
  {
   "cell_type": "markdown",
   "metadata": {},
   "source": [
    "### Exercise 3 a\n",
    "A list of numbers can be very unsmooth, meaning very high numbers can be right next to very low numbers. This list may represent a smooth path in reality that is masked with random noise (for example, satellite trajectories with inaccurate transmission). One way to smooth the values in the list is to replace each value with the average of each value's neighbors, including the value itself.   \n",
    "   \n",
    "- Write a function moving_window_average(x, n_neighbors) that takes a list x and the number of neighbors n_neighbors on either side of a given member of the list to consider\n",
    "- For each value in x, moving_window_average(x, n_neighbors) computes the average of that value's neighbors, where neighbors includes the value itself.\n",
    "- moving_window_average should return a list of averaged values that is the same length as the original list.\n",
    "- If there are not enough neighbors (for cases near the edge), substitute the original value as many times as there are missing neighbors.\n",
    "- Use your function to find the moving window sum of x=[0,10,5,3,1,5] and n_neighbors=1."
   ]
  },
  {
   "cell_type": "code",
   "execution_count": 22,
   "metadata": {},
   "outputs": [
    {
     "name": "stdout",
     "output_type": "stream",
     "text": [
      "[3.3333333333333335, 5.0, 6.0, 3.0, 3.0, 3.6666666666666665]\n"
     ]
    }
   ],
   "source": [
    "import random\n",
    "random.seed(1)\n",
    "\n",
    "def moving_window_average(x, n_neighbors=1):\n",
    "    n = len(x)\n",
    "    width = n_neighbors*2 + 1\n",
    "    x = [x[0]]*n_neighbors + x + [x[-1]] * n_neighbors\n",
    "    # To complete the function,\n",
    "    # return a list of the mean of values from i to i+width for all values i from 0 to n-1\n",
    "    y = []\n",
    "    for i in range(n_neighbors, len(x) - n_neighbors):\n",
    "        y.append((x[i] + x[i - n_neighbors] + x[i + n_neighbors])/width)\n",
    "    return y\n",
    "\n",
    "x=[0,10,5,3,1,5]\n",
    "print(moving_window_average(x, 1))"
   ]
  },
  {
   "cell_type": "code",
   "execution_count": 20,
   "metadata": {},
   "outputs": [
    {
     "name": "stdout",
     "output_type": "stream",
     "text": [
      "[0, 0, 10, 5, 3, 1, 5, 5]\n"
     ]
    }
   ],
   "source": [
    "x=[0,10,5,3,1,5]\n",
    "n_neighbors = 1\n",
    "print([x[0]]*n_neighbors + x + [x[-1]]*n_neighbors)"
   ]
  },
  {
   "cell_type": "markdown",
   "metadata": {},
   "source": [
    "### Exercise 3b\n",
    "A list of numbers can be very unsmooth, meaning very high numbers can be right next to very low numbers. This list may represent a smooth path in reality that is masked with random noise (for example, satellite trajectories with inaccurate transmission). One way to smooth the values in the list is to replace each value with the average of each value's neighbors, including the value itself.  \n",
    "  \n",
    "- Compute and store R=1000 random values from 0-1 as x.\n",
    "- moving_window_average(x, n_neighbors) is pre-loaded into memory from 3a. Compute the moving window average for x for values of n_neighbors ranging from 1 to 9 inclusive.\n",
    "- Store x as well as each of these averages as consecutive lists in a list called Y."
   ]
  },
  {
   "cell_type": "code",
   "execution_count": 24,
   "metadata": {},
   "outputs": [
    {
     "name": "stdout",
     "output_type": "stream",
     "text": [
      "10\n"
     ]
    }
   ],
   "source": [
    "\n",
    "import random\n",
    "\n",
    "random.seed(1) # This line fixes the value called by your function,\n",
    "               # and is used for answer-checking.\n",
    "    \n",
    "# write your code here!\n",
    "R = 1000\n",
    "x = [random.uniform(0, 1) for y in range(R)]\n",
    "Y = []\n",
    "Y.append(x)\n",
    "for i in range(1, 10):\n",
    "    Y.append(moving_window_average(x, n_neighbors=i))\n",
    "print(len(Y))"
   ]
  },
  {
   "cell_type": "markdown",
   "metadata": {},
   "source": [
    "### Exercise 3c \n",
    "A list of numbers can be very unsmooth, meaning very high numbers can be right next to very low numbers. This list may represent a smooth path in reality that is masked with random noise (for example, satellite trajectories with inaccurate transmission). One way to smooth the values in the list is to replace each value with the average of each value's neighbors, including the value itself.  \n",
    "  \n",
    "- moving_window_average(x, n_neighbors=2) and Y are already loaded into memory. For each list in Y, calculate and store the range (the maximum minus the minimum) in a new list ranges.\n",
    "- Print your answer. As the window width increases, does the range of each list increase or decrease? Why do you think that is?"
   ]
  },
  {
   "cell_type": "code",
   "execution_count": 25,
   "metadata": {},
   "outputs": [
    {
     "name": "stdout",
     "output_type": "stream",
     "text": [
      "[0.9973152343362711, 0.9128390185520854, 0.5396861064714327, 0.38044998841514305, 0.29200470407449747, 0.24140927130449924, 0.20874810007779962, 0.17525291631226206, 0.15824233609859426, 0.14375384075017753]\n"
     ]
    }
   ],
   "source": [
    "# write your code here!\n",
    "ranges = [max(i) - min(i) for i in Y]\n",
    "print(ranges)"
   ]
  },
  {
   "cell_type": "markdown",
   "metadata": {},
   "source": [
    "Great work! The range decreases, because the average smooths a larger number of neighbors. Because the numbers in the original list are just random, we expect the average of many of them to be roughly 1 / 2, and more averaging means more smoothness in this value."
   ]
  },
  {
   "cell_type": "code",
   "execution_count": null,
   "metadata": {
    "collapsed": true
   },
   "outputs": [],
   "source": []
  }
 ],
 "metadata": {
  "kernelspec": {
   "display_name": "Python 3",
   "language": "python",
   "name": "python3"
  },
  "language_info": {
   "codemirror_mode": {
    "name": "ipython",
    "version": 3
   },
   "file_extension": ".py",
   "mimetype": "text/x-python",
   "name": "python",
   "nbconvert_exporter": "python",
   "pygments_lexer": "ipython3",
   "version": "3.6.1"
  }
 },
 "nbformat": 4,
 "nbformat_minor": 2
}
